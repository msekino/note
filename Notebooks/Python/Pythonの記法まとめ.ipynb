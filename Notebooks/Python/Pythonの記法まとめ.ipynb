{
 "cells": [
  {
   "cell_type": "markdown",
   "metadata": {},
   "source": [
    "# 数値計算"
   ]
  },
  {
   "cell_type": "markdown",
   "metadata": {},
   "source": [
    "べき乗は**演算子を用いる"
   ]
  },
  {
   "cell_type": "code",
   "execution_count": 1,
   "metadata": {},
   "outputs": [
    {
     "data": {
      "text/plain": [
       "1024"
      ]
     },
     "execution_count": 1,
     "metadata": {},
     "output_type": "execute_result"
    }
   ],
   "source": [
    "2**10"
   ]
  },
  {
   "cell_type": "markdown",
   "metadata": {},
   "source": [
    "^はビット単位排他的論理和です。"
   ]
  },
  {
   "cell_type": "code",
   "execution_count": 2,
   "metadata": {},
   "outputs": [
    {
     "data": {
      "text/plain": [
       "8"
      ]
     },
     "execution_count": 2,
     "metadata": {},
     "output_type": "execute_result"
    }
   ],
   "source": [
    "2^10"
   ]
  },
  {
   "cell_type": "markdown",
   "metadata": {},
   "source": [
    "# 配列の初期化\n",
    "## 0で初期化した配列を作る"
   ]
  },
  {
   "cell_type": "code",
   "execution_count": 3,
   "metadata": {},
   "outputs": [
    {
     "data": {
      "text/plain": [
       "array([0., 0., 0., 0., 0.])"
      ]
     },
     "execution_count": 3,
     "metadata": {},
     "output_type": "execute_result"
    }
   ],
   "source": [
    "import numpy as np\n",
    "x = np.zeros(5)\n",
    "x"
   ]
  },
  {
   "cell_type": "markdown",
   "metadata": {},
   "source": [
    "2次元以上の場合は各次元のlengthを**引数ではなくリスト**で渡します。"
   ]
  },
  {
   "cell_type": "code",
   "execution_count": 4,
   "metadata": {},
   "outputs": [
    {
     "data": {
      "text/plain": [
       "array([[0., 0., 0., 0., 0.],\n",
       "       [0., 0., 0., 0., 0.],\n",
       "       [0., 0., 0., 0., 0.]])"
      ]
     },
     "execution_count": 4,
     "metadata": {},
     "output_type": "execute_result"
    }
   ],
   "source": [
    "X = np.zeros([3,5])\n",
    "X"
   ]
  },
  {
   "cell_type": "markdown",
   "metadata": {},
   "source": [
    "## 乱数がセットされた配列を得る"
   ]
  },
  {
   "cell_type": "code",
   "execution_count": 5,
   "metadata": {},
   "outputs": [
    {
     "data": {
      "text/plain": [
       "array([0.98219848, 0.36744124, 0.05209325, 0.02831856, 0.86170321])"
      ]
     },
     "execution_count": 5,
     "metadata": {},
     "output_type": "execute_result"
    }
   ],
   "source": [
    "x = np.random.rand(5)\n",
    "x"
   ]
  },
  {
   "cell_type": "markdown",
   "metadata": {},
   "source": [
    "2次元以上の場合、各次元のlengthを**リストではなく引数**として渡します。"
   ]
  },
  {
   "cell_type": "code",
   "execution_count": 6,
   "metadata": {},
   "outputs": [
    {
     "data": {
      "text/plain": [
       "array([[0.9538737 , 0.20829138, 0.71825662, 0.52276164, 0.80964393],\n",
       "       [0.86031357, 0.76459439, 0.92709556, 0.17543433, 0.07984486],\n",
       "       [0.20090812, 0.17760609, 0.85757601, 0.65454194, 0.50965233]])"
      ]
     },
     "execution_count": 6,
     "metadata": {},
     "output_type": "execute_result"
    }
   ],
   "source": [
    "X = np.random.rand(3,5)\n",
    "X"
   ]
  },
  {
   "cell_type": "markdown",
   "metadata": {},
   "source": [
    "## 空の配列に値を追加していく"
   ]
  },
  {
   "cell_type": "markdown",
   "metadata": {},
   "source": [
    "np.appendではnp.appendのたびに配列のコピーが発生してしまうので、Pythonのlistに追加してnp.arrayに変換します。"
   ]
  },
  {
   "cell_type": "code",
   "execution_count": 7,
   "metadata": {},
   "outputs": [
    {
     "data": {
      "text/plain": [
       "list"
      ]
     },
     "execution_count": 7,
     "metadata": {},
     "output_type": "execute_result"
    }
   ],
   "source": [
    "x = []\n",
    "type(x)"
   ]
  },
  {
   "cell_type": "code",
   "execution_count": 8,
   "metadata": {},
   "outputs": [
    {
     "data": {
      "text/plain": [
       "[-0.6395190775199671,\n",
       " -0.14898791034821693,\n",
       " -0.6538536791144993,\n",
       " 2.1237399500812653,\n",
       " -0.004059931580496716]"
      ]
     },
     "execution_count": 8,
     "metadata": {},
     "output_type": "execute_result"
    }
   ],
   "source": [
    "for i in range(5):\n",
    "    x.append(np.random.randn())\n",
    "x"
   ]
  },
  {
   "cell_type": "markdown",
   "metadata": {},
   "source": [
    "追加が終わったら、np.arrayに変換する。"
   ]
  },
  {
   "cell_type": "code",
   "execution_count": 9,
   "metadata": {},
   "outputs": [
    {
     "data": {
      "text/plain": [
       "array([-0.63951908, -0.14898791, -0.65385368,  2.12373995, -0.00405993])"
      ]
     },
     "execution_count": 9,
     "metadata": {},
     "output_type": "execute_result"
    }
   ],
   "source": [
    "x = np.array(x)\n",
    "x"
   ]
  },
  {
   "cell_type": "markdown",
   "metadata": {},
   "source": [
    "# 行列演算"
   ]
  },
  {
   "cell_type": "markdown",
   "metadata": {},
   "source": [
    "## 行列の演算子"
   ]
  },
  {
   "cell_type": "markdown",
   "metadata": {},
   "source": [
    "転置は.T"
   ]
  },
  {
   "cell_type": "code",
   "execution_count": 10,
   "metadata": {},
   "outputs": [
    {
     "data": {
      "text/plain": [
       "array([[-0.0041619 ,  1.00115216, -0.97243444, -0.61688583,  1.6446958 ],\n",
       "       [-1.14807121, -0.21381132, -0.19135156,  0.57837083, -1.50328741]])"
      ]
     },
     "execution_count": 10,
     "metadata": {},
     "output_type": "execute_result"
    }
   ],
   "source": [
    "X = np.random.randn(5,2)\n",
    "X.T"
   ]
  },
  {
   "cell_type": "markdown",
   "metadata": {},
   "source": [
    "逆行列はnp.linalg.inv()"
   ]
  },
  {
   "cell_type": "code",
   "execution_count": 11,
   "metadata": {},
   "outputs": [
    {
     "data": {
      "text/plain": [
       "array([[ 0.25953417, -0.26810579, -0.02110168, -0.01422291, -0.33374295],\n",
       "       [-0.0303724 ,  0.06460857,  0.29989237,  0.13198379, -0.23508672],\n",
       "       [ 0.24083174, -0.52176774,  0.23550887,  0.4335634 ,  0.15137836],\n",
       "       [ 0.34001177,  0.47582082, -0.07695132,  0.36257272, -0.53512994],\n",
       "       [-1.23568525, -0.47141699,  0.10205474,  1.76591639, -1.37848116]])"
      ]
     },
     "execution_count": 11,
     "metadata": {},
     "output_type": "execute_result"
    }
   ],
   "source": [
    "X = np.random.randn(5,5)\n",
    "np.linalg.inv(X)"
   ]
  },
  {
   "cell_type": "markdown",
   "metadata": {},
   "source": [
    "行列式はnp.linalg.det()"
   ]
  },
  {
   "cell_type": "code",
   "execution_count": 12,
   "metadata": {},
   "outputs": [
    {
     "data": {
      "text/plain": [
       "-4.848052338800209"
      ]
     },
     "execution_count": 12,
     "metadata": {},
     "output_type": "execute_result"
    }
   ],
   "source": [
    "np.linalg.det(X)"
   ]
  },
  {
   "cell_type": "markdown",
   "metadata": {},
   "source": [
    "トレースはnp.trace()"
   ]
  },
  {
   "cell_type": "code",
   "execution_count": 13,
   "metadata": {},
   "outputs": [
    {
     "data": {
      "text/plain": [
       "1.938016722380223"
      ]
     },
     "execution_count": 13,
     "metadata": {},
     "output_type": "execute_result"
    }
   ],
   "source": [
    "np.trace(X)"
   ]
  },
  {
   "cell_type": "markdown",
   "metadata": {},
   "source": [
    "## 行列の積"
   ]
  },
  {
   "cell_type": "markdown",
   "metadata": {},
   "source": [
    "np.arrayでは積は@"
   ]
  },
  {
   "cell_type": "code",
   "execution_count": 14,
   "metadata": {},
   "outputs": [
    {
     "data": {
      "text/plain": [
       "array([[-2.44668014, -2.48124914, -0.43931354],\n",
       "       [-6.4138551 , -5.47893083, -1.91302926],\n",
       "       [ 0.52776561, -2.31148931,  1.80075872]])"
      ]
     },
     "execution_count": 14,
     "metadata": {},
     "output_type": "execute_result"
    }
   ],
   "source": [
    "X = np.random.randn(3,5)\n",
    "Y = np.random.randn(5,3)\n",
    "X @ Y"
   ]
  },
  {
   "cell_type": "markdown",
   "metadata": {},
   "source": [
    "np.matrixでは積は*"
   ]
  },
  {
   "cell_type": "code",
   "execution_count": 15,
   "metadata": {},
   "outputs": [
    {
     "data": {
      "text/plain": [
       "matrix([[-2.44668014, -2.48124914, -0.43931354],\n",
       "        [-6.4138551 , -5.47893083, -1.91302926],\n",
       "        [ 0.52776561, -2.31148931,  1.80075872]])"
      ]
     },
     "execution_count": 15,
     "metadata": {},
     "output_type": "execute_result"
    }
   ],
   "source": [
    "X = np.matrix(X)\n",
    "Y = np.matrix(Y)\n",
    "X * Y"
   ]
  },
  {
   "cell_type": "markdown",
   "metadata": {},
   "source": [
    "## 要素ごとの演算"
   ]
  },
  {
   "cell_type": "markdown",
   "metadata": {},
   "source": [
    "np.arrayでは*は要素ごとの積（アダマール積）"
   ]
  },
  {
   "cell_type": "code",
   "execution_count": 16,
   "metadata": {},
   "outputs": [
    {
     "data": {
      "text/plain": [
       "array([[-3.68988325e-01, -5.55699715e-06, -2.45917496e-01,\n",
       "         5.87752146e-01,  2.66694332e-01],\n",
       "       [-8.87635166e-01, -2.73820246e-01, -3.27346125e-01,\n",
       "         4.83656781e-01,  9.37358495e-03],\n",
       "       [-1.72718376e-01, -2.12387183e-01, -2.51068729e-03,\n",
       "         1.04639068e+00,  1.28256532e-02]])"
      ]
     },
     "execution_count": 16,
     "metadata": {},
     "output_type": "execute_result"
    }
   ],
   "source": [
    "X = np.random.randn(3,5)\n",
    "Y = np.random.randn(3,5)\n",
    "X * Y"
   ]
  },
  {
   "cell_type": "markdown",
   "metadata": {},
   "source": [
    "numpyに用意されているユニバーサル関数（配列の各要素に関数を適用して、配列を返す関数）の場合、引数に配列を渡せます。"
   ]
  },
  {
   "cell_type": "code",
   "execution_count": 17,
   "metadata": {},
   "outputs": [
    {
     "data": {
      "text/plain": [
       "array([[0.44087237, 1.00022033, 0.37798444, 0.33286166, 1.58623271],\n",
       "       [0.41507765, 0.3879266 , 0.44347645, 1.6741178 , 0.97439873],\n",
       "       [0.79535575, 1.33492491, 8.76120842, 3.7202834 , 0.98075595]])"
      ]
     },
     "execution_count": 17,
     "metadata": {},
     "output_type": "execute_result"
    }
   ],
   "source": [
    "np.exp(X)"
   ]
  },
  {
   "cell_type": "markdown",
   "metadata": {},
   "source": [
    "自作関数を配列の各要素に適用する場合、ユニバーサル関数を作るnp.vectorize, np.frompyfuncを用いる。"
   ]
  },
  {
   "cell_type": "code",
   "execution_count": 18,
   "metadata": {},
   "outputs": [],
   "source": [
    "import math\n",
    "def f(x):\n",
    "    return 1.0 + x + x**2/2 + x**3/math.factorial(3)"
   ]
  },
  {
   "cell_type": "code",
   "execution_count": 19,
   "metadata": {},
   "outputs": [
    {
     "data": {
      "text/plain": [
       "array([[0.42482169, 1.00022033, 0.34688553, 0.28315237, 1.58415639],\n",
       "       [0.39398165, 0.35988867, 0.42786598, 1.67084949, 0.97439871],\n",
       "       [0.79524629, 1.33461715, 7.22934664, 3.55478663, 0.98075594]])"
      ]
     },
     "execution_count": 19,
     "metadata": {},
     "output_type": "execute_result"
    }
   ],
   "source": [
    "x = np.random.randn(5)\n",
    "np.vectorize(f)(X)"
   ]
  },
  {
   "cell_type": "code",
   "execution_count": 20,
   "metadata": {},
   "outputs": [
    {
     "data": {
      "text/plain": [
       "array([[0.42482169325768093, 1.0002203331387207, 0.3468855264819193,\n",
       "        0.2831523676080414, 1.5841563855940763],\n",
       "       [0.39398164907981187, 0.3598886674240378, 0.42786597565022777,\n",
       "        1.6708494876045197, 0.9743987131696831],\n",
       "       [0.7952462865866204, 1.3346171548145416, 7.229346644160686,\n",
       "        3.554786626819949, 0.9807559445623577]], dtype=object)"
      ]
     },
     "execution_count": 20,
     "metadata": {},
     "output_type": "execute_result"
    }
   ],
   "source": [
    "np.frompyfunc(f,1,1)(X)"
   ]
  },
  {
   "cell_type": "markdown",
   "metadata": {},
   "source": [
    "一次元配列の場合map関数も使える。mapオブジェクトが返ってくるのでlistに突っ込むなどする。"
   ]
  },
  {
   "cell_type": "code",
   "execution_count": 21,
   "metadata": {},
   "outputs": [
    {
     "data": {
      "text/plain": [
       "[0.2998933661823099,\n",
       " -0.2690546602881254,\n",
       " 2.1410053548159245,\n",
       " 4.18748781836257,\n",
       " 0.3920243327278773]"
      ]
     },
     "execution_count": 21,
     "metadata": {},
     "output_type": "execute_result"
    }
   ],
   "source": [
    "list(map(f, x))"
   ]
  }
 ],
 "metadata": {
  "kernelspec": {
   "display_name": "Python 3",
   "language": "python",
   "name": "python3"
  },
  "language_info": {
   "codemirror_mode": {
    "name": "ipython",
    "version": 3
   },
   "file_extension": ".py",
   "mimetype": "text/x-python",
   "name": "python",
   "nbconvert_exporter": "python",
   "pygments_lexer": "ipython3",
   "version": "3.7.4"
  }
 },
 "nbformat": 4,
 "nbformat_minor": 4
}
