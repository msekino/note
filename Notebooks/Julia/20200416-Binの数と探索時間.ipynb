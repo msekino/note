{
 "cells": [
  {
   "cell_type": "code",
   "execution_count": 1,
   "metadata": {},
   "outputs": [],
   "source": [
    "using BenchmarkTools"
   ]
  },
  {
   "cell_type": "code",
   "execution_count": 7,
   "metadata": {},
   "outputs": [
    {
     "data": {
      "text/plain": [
       "0.11213622434244708"
      ]
     },
     "execution_count": 7,
     "metadata": {},
     "output_type": "execute_result"
    }
   ],
   "source": [
    "x = rand()"
   ]
  },
  {
   "cell_type": "code",
   "execution_count": null,
   "metadata": {},
   "outputs": [],
   "source": [
    "bins = rand(100000)\n",
    "sort!(bins)\n",
    "@benchmark searchsortedfirst(bins, x)"
   ]
  },
  {
   "cell_type": "code",
   "execution_count": 3,
   "metadata": {},
   "outputs": [
    {
     "data": {
      "text/plain": [
       "BenchmarkTools.Trial: \n",
       "  memory estimate:  30 bytes\n",
       "  allocs estimate:  1\n",
       "  --------------\n",
       "  minimum time:     176.209 ns (0.00% GC)\n",
       "  median time:      184.094 ns (0.00% GC)\n",
       "  mean time:        231.107 ns (0.33% GC)\n",
       "  maximum time:     4.802 μs (0.00% GC)\n",
       "  --------------\n",
       "  samples:          10000\n",
       "  evals/sample:     723"
      ]
     },
     "execution_count": 3,
     "metadata": {},
     "output_type": "execute_result"
    }
   ],
   "source": [
    "bins = rand(10000)\n",
    "sort!(bins)\n",
    "@benchmark searchsortedfirst(bins, rand())"
   ]
  },
  {
   "cell_type": "code",
   "execution_count": 4,
   "metadata": {},
   "outputs": [
    {
     "data": {
      "text/plain": [
       "BenchmarkTools.Trial: \n",
       "  memory estimate:  23 bytes\n",
       "  allocs estimate:  1\n",
       "  --------------\n",
       "  minimum time:     129.506 ns (0.00% GC)\n",
       "  median time:      141.330 ns (0.00% GC)\n",
       "  mean time:        166.585 ns (0.27% GC)\n",
       "  maximum time:     2.148 μs (0.00% GC)\n",
       "  --------------\n",
       "  samples:          10000\n",
       "  evals/sample:     888"
      ]
     },
     "execution_count": 4,
     "metadata": {},
     "output_type": "execute_result"
    }
   ],
   "source": [
    "bins = rand(1000)\n",
    "sort!(bins)\n",
    "@benchmark searchsortedfirst(bins, rand())"
   ]
  },
  {
   "cell_type": "code",
   "execution_count": 5,
   "metadata": {},
   "outputs": [
    {
     "data": {
      "text/plain": [
       "BenchmarkTools.Trial: \n",
       "  memory estimate:  16 bytes\n",
       "  allocs estimate:  1\n",
       "  --------------\n",
       "  minimum time:     89.643 ns (0.00% GC)\n",
       "  median time:      96.131 ns (0.00% GC)\n",
       "  mean time:        114.888 ns (0.29% GC)\n",
       "  maximum time:     1.244 μs (92.06% GC)\n",
       "  --------------\n",
       "  samples:          10000\n",
       "  evals/sample:     956"
      ]
     },
     "execution_count": 5,
     "metadata": {},
     "output_type": "execute_result"
    }
   ],
   "source": [
    "bins = rand(100)\n",
    "sort!(bins)\n",
    "@benchmark searchsortedfirst(bins, rand())"
   ]
  },
  {
   "cell_type": "code",
   "execution_count": 6,
   "metadata": {},
   "outputs": [
    {
     "data": {
      "text/plain": [
       "BenchmarkTools.Trial: \n",
       "  memory estimate:  16 bytes\n",
       "  allocs estimate:  1\n",
       "  --------------\n",
       "  minimum time:     62.626 ns (0.00% GC)\n",
       "  median time:      71.996 ns (0.00% GC)\n",
       "  mean time:        96.765 ns (0.26% GC)\n",
       "  maximum time:     18.281 μs (0.00% GC)\n",
       "  --------------\n",
       "  samples:          10000\n",
       "  evals/sample:     982"
      ]
     },
     "execution_count": 6,
     "metadata": {},
     "output_type": "execute_result"
    }
   ],
   "source": [
    "bins = rand(10)\n",
    "sort!(bins)\n",
    "@benchmark searchsortedfirst(bins, rand())"
   ]
  }
 ],
 "metadata": {
  "kernelspec": {
   "display_name": "Julia 1.4.0",
   "language": "julia",
   "name": "julia-1.4"
  },
  "language_info": {
   "file_extension": ".jl",
   "mimetype": "application/julia",
   "name": "julia",
   "version": "1.4.0"
  }
 },
 "nbformat": 4,
 "nbformat_minor": 4
}
