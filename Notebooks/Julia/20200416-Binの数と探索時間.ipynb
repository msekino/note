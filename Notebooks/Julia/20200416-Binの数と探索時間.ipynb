{
 "cells": [
  {
   "cell_type": "code",
   "execution_count": 1,
   "metadata": {},
   "outputs": [],
   "source": [
    "using BenchmarkTools"
   ]
  },
  {
   "cell_type": "code",
   "execution_count": 2,
   "metadata": {},
   "outputs": [
    {
     "data": {
      "text/plain": [
       "0.5431262064750597"
      ]
     },
     "execution_count": 2,
     "metadata": {},
     "output_type": "execute_result"
    }
   ],
   "source": [
    "x = rand()"
   ]
  },
  {
   "cell_type": "code",
   "execution_count": 3,
   "metadata": {},
   "outputs": [
    {
     "data": {
      "text/plain": [
       "BenchmarkTools.Trial: \n",
       "  memory estimate:  16 bytes\n",
       "  allocs estimate:  1\n",
       "  --------------\n",
       "  minimum time:     97.048 ns (0.00% GC)\n",
       "  median time:      98.841 ns (0.00% GC)\n",
       "  mean time:        123.396 ns (0.25% GC)\n",
       "  maximum time:     5.447 μs (0.00% GC)\n",
       "  --------------\n",
       "  samples:          10000\n",
       "  evals/sample:     949"
      ]
     },
     "execution_count": 3,
     "metadata": {},
     "output_type": "execute_result"
    }
   ],
   "source": [
    "bins = rand(100000)\n",
    "sort!(bins)\n",
    "@benchmark searchsortedfirst(bins, x)"
   ]
  },
  {
   "cell_type": "code",
   "execution_count": 4,
   "metadata": {},
   "outputs": [
    {
     "data": {
      "text/plain": [
       "BenchmarkTools.Trial: \n",
       "  memory estimate:  16 bytes\n",
       "  allocs estimate:  1\n",
       "  --------------\n",
       "  minimum time:     79.627 ns (0.00% GC)\n",
       "  median time:      80.869 ns (0.00% GC)\n",
       "  mean time:        95.738 ns (0.34% GC)\n",
       "  maximum time:     1.368 μs (84.25% GC)\n",
       "  --------------\n",
       "  samples:          10000\n",
       "  evals/sample:     967"
      ]
     },
     "execution_count": 4,
     "metadata": {},
     "output_type": "execute_result"
    }
   ],
   "source": [
    "bins = rand(10000)\n",
    "sort!(bins)\n",
    "@benchmark searchsortedfirst(bins, x)"
   ]
  },
  {
   "cell_type": "code",
   "execution_count": 5,
   "metadata": {},
   "outputs": [
    {
     "data": {
      "text/plain": [
       "BenchmarkTools.Trial: \n",
       "  memory estimate:  16 bytes\n",
       "  allocs estimate:  1\n",
       "  --------------\n",
       "  minimum time:     67.893 ns (0.00% GC)\n",
       "  median time:      70.756 ns (0.00% GC)\n",
       "  mean time:        86.536 ns (0.37% GC)\n",
       "  maximum time:     1.168 μs (92.66% GC)\n",
       "  --------------\n",
       "  samples:          10000\n",
       "  evals/sample:     978"
      ]
     },
     "execution_count": 5,
     "metadata": {},
     "output_type": "execute_result"
    }
   ],
   "source": [
    "bins = rand(1000)\n",
    "sort!(bins)\n",
    "@benchmark searchsortedfirst(bins, x)"
   ]
  },
  {
   "cell_type": "code",
   "execution_count": 6,
   "metadata": {},
   "outputs": [
    {
     "data": {
      "text/plain": [
       "BenchmarkTools.Trial: \n",
       "  memory estimate:  0 bytes\n",
       "  allocs estimate:  0\n",
       "  --------------\n",
       "  minimum time:     51.976 ns (0.00% GC)\n",
       "  median time:      52.381 ns (0.00% GC)\n",
       "  mean time:        62.144 ns (0.00% GC)\n",
       "  maximum time:     1.555 μs (0.00% GC)\n",
       "  --------------\n",
       "  samples:          10000\n",
       "  evals/sample:     987"
      ]
     },
     "execution_count": 6,
     "metadata": {},
     "output_type": "execute_result"
    }
   ],
   "source": [
    "bins = rand(100)\n",
    "sort!(bins)\n",
    "@benchmark searchsortedfirst(bins, x)"
   ]
  },
  {
   "cell_type": "code",
   "execution_count": 7,
   "metadata": {},
   "outputs": [
    {
     "data": {
      "text/plain": [
       "BenchmarkTools.Trial: \n",
       "  memory estimate:  0 bytes\n",
       "  allocs estimate:  0\n",
       "  --------------\n",
       "  minimum time:     40.868 ns (0.00% GC)\n",
       "  median time:      41.171 ns (0.00% GC)\n",
       "  mean time:        48.083 ns (0.00% GC)\n",
       "  maximum time:     4.680 μs (0.00% GC)\n",
       "  --------------\n",
       "  samples:          10000\n",
       "  evals/sample:     991"
      ]
     },
     "execution_count": 7,
     "metadata": {},
     "output_type": "execute_result"
    }
   ],
   "source": [
    "bins = rand(10)\n",
    "sort!(bins)\n",
    "@benchmark searchsortedfirst(bins, x)"
   ]
  }
 ],
 "metadata": {
  "kernelspec": {
   "display_name": "Julia 1.4.0",
   "language": "julia",
   "name": "julia-1.4"
  },
  "language_info": {
   "file_extension": ".jl",
   "mimetype": "application/julia",
   "name": "julia",
   "version": "1.4.0"
  }
 },
 "nbformat": 4,
 "nbformat_minor": 4
}
