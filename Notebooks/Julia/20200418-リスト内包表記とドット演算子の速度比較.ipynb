{
 "cells": [
  {
   "cell_type": "markdown",
   "metadata": {},
   "source": [
    "# リスト内包表記とドット演算子の速度比較"
   ]
  },
  {
   "cell_type": "code",
   "execution_count": 1,
   "metadata": {},
   "outputs": [],
   "source": [
    "using MyTools, BenchmarkTools"
   ]
  },
  {
   "cell_type": "code",
   "execution_count": 2,
   "metadata": {},
   "outputs": [
    {
     "data": {
      "text/plain": [
       "0.3"
      ]
     },
     "execution_count": 2,
     "metadata": {},
     "output_type": "execute_result"
    }
   ],
   "source": [
    "w = randn(1000)\n",
    "l = 0.3"
   ]
  },
  {
   "cell_type": "markdown",
   "metadata": {},
   "source": [
    "**リスト内包表記でSoft-Thresholding**"
   ]
  },
  {
   "cell_type": "code",
   "execution_count": 3,
   "metadata": {},
   "outputs": [
    {
     "data": {
      "text/plain": [
       "BenchmarkTools.Trial: \n",
       "  memory estimate:  7.97 KiB\n",
       "  allocs estimate:  2\n",
       "  --------------\n",
       "  minimum time:     1.290 μs (0.00% GC)\n",
       "  median time:      3.050 μs (0.00% GC)\n",
       "  mean time:        6.651 μs (19.70% GC)\n",
       "  maximum time:     1.076 ms (99.69% GC)\n",
       "  --------------\n",
       "  samples:          10000\n",
       "  evals/sample:     10"
      ]
     },
     "execution_count": 3,
     "metadata": {},
     "output_type": "execute_result"
    }
   ],
   "source": [
    "function st1!(w::Vector{Float64}, l::Float64)\n",
    "    w .= [wi > l ? (wi - l) : wi < -l ? (wi + l) : 0.0 for wi in w]\n",
    "end\n",
    "@benchmark st1!(w, l)"
   ]
  },
  {
   "cell_type": "markdown",
   "metadata": {},
   "source": [
    "**ドット演算子でSoft-Thresholding**"
   ]
  },
  {
   "cell_type": "code",
   "execution_count": 4,
   "metadata": {},
   "outputs": [
    {
     "data": {
      "text/plain": [
       "BenchmarkTools.Trial: \n",
       "  memory estimate:  0 bytes\n",
       "  allocs estimate:  0\n",
       "  --------------\n",
       "  minimum time:     234.701 ns (0.00% GC)\n",
       "  median time:      237.674 ns (0.00% GC)\n",
       "  mean time:        282.916 ns (0.00% GC)\n",
       "  maximum time:     2.566 μs (0.00% GC)\n",
       "  --------------\n",
       "  samples:          10000\n",
       "  evals/sample:     438"
      ]
     },
     "execution_count": 4,
     "metadata": {},
     "output_type": "execute_result"
    }
   ],
   "source": [
    "function st2!(w::Vector{Float64}, l::Float64)\n",
    "    @. w = (w > l) * (w - l) + (w < -l) * (w + l)\n",
    "end\n",
    "@benchmark st2!(w, l)"
   ]
  },
  {
   "cell_type": "code",
   "execution_count": 5,
   "metadata": {},
   "outputs": [
    {
     "data": {
      "text/plain": [
       "BenchmarkTools.Trial: \n",
       "  memory estimate:  0 bytes\n",
       "  allocs estimate:  0\n",
       "  --------------\n",
       "  minimum time:     246.997 ns (0.00% GC)\n",
       "  median time:      250.389 ns (0.00% GC)\n",
       "  mean time:        302.382 ns (0.00% GC)\n",
       "  maximum time:     10.667 μs (0.00% GC)\n",
       "  --------------\n",
       "  samples:          10000\n",
       "  evals/sample:     383"
      ]
     },
     "execution_count": 5,
     "metadata": {},
     "output_type": "execute_result"
    }
   ],
   "source": [
    "function st3!(w::Vector{Float64}, l::Float64)\n",
    "    @. w = (abs(w) > l) * sign(w) * (abs(w) - l)\n",
    "end\n",
    "@benchmark st3!(w, l)"
   ]
  }
 ],
 "metadata": {
  "kernelspec": {
   "display_name": "Julia 1.4.0",
   "language": "julia",
   "name": "julia-1.4"
  },
  "language_info": {
   "file_extension": ".jl",
   "mimetype": "application/julia",
   "name": "julia",
   "version": "1.4.0"
  }
 },
 "nbformat": 4,
 "nbformat_minor": 4
}
