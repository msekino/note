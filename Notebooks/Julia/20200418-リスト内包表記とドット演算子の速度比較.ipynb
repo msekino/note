{
 "cells": [
  {
   "cell_type": "markdown",
   "metadata": {},
   "source": [
    "# リスト内包表記とドット演算子の速度比較"
   ]
  },
  {
   "cell_type": "code",
   "execution_count": 1,
   "metadata": {},
   "outputs": [],
   "source": [
    "using MyTools, BenchmarkTools"
   ]
  },
  {
   "cell_type": "code",
   "execution_count": 2,
   "metadata": {},
   "outputs": [
    {
     "data": {
      "text/plain": [
       "1×1000 LinearAlgebra.Adjoint{Float64,Array{Float64,1}}:\n",
       " 1.22328  -0.96827  1.42927  1.29484  …  0.0105219  0.821605  -0.0686189"
      ]
     },
     "execution_count": 2,
     "metadata": {},
     "output_type": "execute_result"
    }
   ],
   "source": [
    "w = randn(1000)   #Soft-Thresholding適用対象の配列\n",
    "w2 = zeros(1000)  #結果格納用（メモリ確保の時間を除くため）\n",
    "l = 0.1           #Soft-Thresholdingの閾値\n",
    "w'"
   ]
  },
  {
   "cell_type": "markdown",
   "metadata": {},
   "source": [
    "**リスト内包表記でSoft-Thresholding1**"
   ]
  },
  {
   "cell_type": "code",
   "execution_count": 3,
   "metadata": {},
   "outputs": [
    {
     "name": "stdout",
     "output_type": "stream",
     "text": [
      "  99.099 μs (3976 allocations: 70.05 KiB)\n"
     ]
    },
    {
     "data": {
      "text/plain": [
       "1×1000 LinearAlgebra.Adjoint{Float64,Array{Float64,1}}:\n",
       " 1.12328  -0.86827  1.32927  1.19484  0.41411  …  1.62926  0.0  0.721605  0.0"
      ]
     },
     "execution_count": 3,
     "metadata": {},
     "output_type": "execute_result"
    }
   ],
   "source": [
    "@btime w2 .= [wi > l ? (wi - l) : wi < -l ? (wi + l) : 0.0 for wi in w]\n",
    "w2'"
   ]
  },
  {
   "cell_type": "markdown",
   "metadata": {},
   "source": [
    "**リスト内包表記でSoft-Thresholding2**"
   ]
  },
  {
   "cell_type": "code",
   "execution_count": 4,
   "metadata": {},
   "outputs": [
    {
     "name": "stdout",
     "output_type": "stream",
     "text": [
      "  91.999 μs (4640 allocations: 80.42 KiB)\n"
     ]
    },
    {
     "data": {
      "text/plain": [
       "1×1000 LinearAlgebra.Adjoint{Float64,Array{Float64,1}}:\n",
       " 1.12328  -0.86827  1.32927  1.19484  0.41411  …  1.62926  0.0  0.721605  0.0"
      ]
     },
     "execution_count": 4,
     "metadata": {},
     "output_type": "execute_result"
    }
   ],
   "source": [
    "@btime w2 .= [abs(wi) > l ? sign(wi) * (abs(wi) - l) : 0.0 for wi in w]\n",
    "w2'"
   ]
  },
  {
   "cell_type": "markdown",
   "metadata": {},
   "source": [
    "**ドット演算子でSoft-Thresholding1**"
   ]
  },
  {
   "cell_type": "code",
   "execution_count": 5,
   "metadata": {},
   "outputs": [
    {
     "name": "stdout",
     "output_type": "stream",
     "text": [
      "  5.316 μs (16 allocations: 368 bytes)\n"
     ]
    },
    {
     "data": {
      "text/plain": [
       "1×1000 LinearAlgebra.Adjoint{Float64,Array{Float64,1}}:\n",
       " 1.12328  -0.86827  1.32927  1.19484  0.41411  …  1.62926  0.0  0.721605  0.0"
      ]
     },
     "execution_count": 5,
     "metadata": {},
     "output_type": "execute_result"
    }
   ],
   "source": [
    "@btime @. w2 = (w > l) * (w - l) + (w < -l) * (w + l)\n",
    "w2'"
   ]
  },
  {
   "cell_type": "markdown",
   "metadata": {},
   "source": [
    "**ドット演算子でSoft-Thresholding2**"
   ]
  },
  {
   "cell_type": "code",
   "execution_count": 6,
   "metadata": {},
   "outputs": [
    {
     "name": "stdout",
     "output_type": "stream",
     "text": [
      "  3.087 μs (12 allocations: 240 bytes)\n"
     ]
    },
    {
     "data": {
      "text/plain": [
       "1×1000 LinearAlgebra.Adjoint{Float64,Array{Float64,1}}:\n",
       " 1.12328  -0.86827  1.32927  1.19484  …  1.62926  -0.0  0.721605  0.0"
      ]
     },
     "execution_count": 6,
     "metadata": {},
     "output_type": "execute_result"
    }
   ],
   "source": [
    "@btime @. w2 = (abs(w) > l) * sign(w) * (abs(w) - l)\n",
    "w2'"
   ]
  }
 ],
 "metadata": {
  "kernelspec": {
   "display_name": "Julia 1.4.0",
   "language": "julia",
   "name": "julia-1.4"
  },
  "language_info": {
   "file_extension": ".jl",
   "mimetype": "application/julia",
   "name": "julia",
   "version": "1.4.0"
  }
 },
 "nbformat": 4,
 "nbformat_minor": 4
}
