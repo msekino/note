{
 "cells": [
  {
   "cell_type": "code",
   "execution_count": 25,
   "metadata": {},
   "outputs": [],
   "source": [
    "using LinearAlgebra, BenchmarkTools"
   ]
  },
  {
   "cell_type": "markdown",
   "metadata": {},
   "source": [
    "# 行列演算の順番による計算速度の違い"
   ]
  },
  {
   "cell_type": "markdown",
   "metadata": {},
   "source": [
    "M = 20000, K = 500, N = 10000 の設定で、M×K行列X、K×N行列Y、N次元ベクトルz を用意します。"
   ]
  },
  {
   "cell_type": "code",
   "execution_count": 14,
   "metadata": {},
   "outputs": [
    {
     "data": {
      "text/plain": [
       "10000×1 Array{Float64,2}:\n",
       " -0.21379877037268807   \n",
       "  0.40301162303937016   \n",
       " -0.00018076067621689294\n",
       "  0.2116150976232541    \n",
       " -0.6801314941031131    \n",
       "  0.7322601358177026    \n",
       "  2.1978663881312777    \n",
       "  0.08212411992094877   \n",
       " -0.9449659702886307    \n",
       " -2.698372623528385     \n",
       "  0.8417969714245113    \n",
       "  1.1754241499794846    \n",
       " -0.4856735800036543    \n",
       "  ⋮                     \n",
       " -0.027144473455445222  \n",
       "  0.653287683616669     \n",
       "  0.23656347593079013   \n",
       " -0.09544757748084728   \n",
       "  0.3647486225944841    \n",
       " -0.7203140816695207    \n",
       "  0.2545504278092107    \n",
       "  1.0999969554458848    \n",
       "  0.5998074510974148    \n",
       "  0.07641789194714461   \n",
       " -0.007841024578390478  \n",
       "  0.49979664069719804   "
      ]
     },
     "execution_count": 14,
     "metadata": {},
     "output_type": "execute_result"
    }
   ],
   "source": [
    "M = 20000\n",
    "K = 500\n",
    "N = 10000\n",
    "\n",
    "X = randn(M, K)\n",
    "Y = randn(K, N)\n",
    "z = randn(N, 1)"
   ]
  },
  {
   "cell_type": "markdown",
   "metadata": {},
   "source": [
    "行列演算の順番によって、計算時間は変わります。\n",
    "\n",
    "1. (X Y) z と計算すると O(M×N×K) + O(M×N×1) = O(M×N×K)\n",
    "2. X (Y z) と計算すると O(N×K×1) + O(M×K×1) = O((M+N)×K)\n",
    "\n",
    "になるので、2.で計算したほうが単純計算で O((M×N)/(M+N)) くらい速くなりそうです。  \n",
    "M = 20000, N = 10000 の場合 2×10^8 / 3×10^4 = 6666 倍です。  \n",
    "**行列が小さくなる方から計算するというのが行列演算の鉄則**になります。"
   ]
  },
  {
   "cell_type": "code",
   "execution_count": 15,
   "metadata": {},
   "outputs": [
    {
     "data": {
      "text/plain": [
       "BenchmarkTools.Trial: \n",
       "  memory estimate:  1.49 GiB\n",
       "  allocs estimate:  4\n",
       "  --------------\n",
       "  minimum time:     2.346 s (0.02% GC)\n",
       "  median time:      2.602 s (3.54% GC)\n",
       "  mean time:        2.602 s (3.54% GC)\n",
       "  maximum time:     2.859 s (6.43% GC)\n",
       "  --------------\n",
       "  samples:          2\n",
       "  evals/sample:     1"
      ]
     },
     "execution_count": 15,
     "metadata": {},
     "output_type": "execute_result"
    }
   ],
   "source": [
    "@benchmark (X * Y) * z"
   ]
  },
  {
   "cell_type": "code",
   "execution_count": 16,
   "metadata": {},
   "outputs": [
    {
     "data": {
      "text/plain": [
       "BenchmarkTools.Trial: \n",
       "  memory estimate:  160.39 KiB\n",
       "  allocs estimate:  3\n",
       "  --------------\n",
       "  minimum time:     7.824 ms (0.00% GC)\n",
       "  median time:      9.591 ms (0.00% GC)\n",
       "  mean time:        10.696 ms (0.18% GC)\n",
       "  maximum time:     36.140 ms (0.00% GC)\n",
       "  --------------\n",
       "  samples:          467\n",
       "  evals/sample:     1"
      ]
     },
     "execution_count": 16,
     "metadata": {},
     "output_type": "execute_result"
    }
   ],
   "source": [
    "@benchmark X * (Y * z)"
   ]
  },
  {
   "cell_type": "markdown",
   "metadata": {},
   "source": [
    "**X (Y z)で計算すると、(X Y) z で計算するより 270倍速くなっています。**  \n",
    "オーダーで見た見たほど差が出ませんでしたが、それでもかなり高速になっています。"
   ]
  },
  {
   "cell_type": "code",
   "execution_count": 17,
   "metadata": {},
   "outputs": [
    {
     "data": {
      "text/plain": [
       "BenchmarkTools.Trial: \n",
       "  memory estimate:  1.49 GiB\n",
       "  allocs estimate:  4\n",
       "  --------------\n",
       "  minimum time:     2.643 s (0.02% GC)\n",
       "  median time:      2.690 s (3.43% GC)\n",
       "  mean time:        2.690 s (3.43% GC)\n",
       "  maximum time:     2.738 s (6.73% GC)\n",
       "  --------------\n",
       "  samples:          2\n",
       "  evals/sample:     1"
      ]
     },
     "execution_count": 17,
     "metadata": {},
     "output_type": "execute_result"
    }
   ],
   "source": [
    "@benchmark X * Y * z"
   ]
  },
  {
   "cell_type": "markdown",
   "metadata": {},
   "source": [
    "カッコで計算の順番を指定しないと前者の計算時間に近くなってしまっています。"
   ]
  },
  {
   "cell_type": "markdown",
   "metadata": {},
   "source": [
    "計算結果は当然一致します。"
   ]
  },
  {
   "cell_type": "code",
   "execution_count": 18,
   "metadata": {},
   "outputs": [
    {
     "data": {
      "text/plain": [
       "7.275957614183426e-12"
      ]
     },
     "execution_count": 18,
     "metadata": {},
     "output_type": "execute_result"
    }
   ],
   "source": [
    "maximum(abs.((X * Y) * z - X * (Y * z)))"
   ]
  },
  {
   "cell_type": "markdown",
   "metadata": {},
   "source": [
    "(X Y) z と X (Y z)　の計算結果の要素ごとの差を取り、絶対誤差の最大値が 7.27E-12 になっていることがわかります。"
   ]
  },
  {
   "cell_type": "markdown",
   "metadata": {},
   "source": [
    "# 逆行列を明示的に求めない方速いか"
   ]
  },
  {
   "cell_type": "code",
   "execution_count": 31,
   "metadata": {},
   "outputs": [
    {
     "data": {
      "text/plain": [
       "10000×1 Array{Float64,2}:\n",
       "  0.5359597203852016 \n",
       "  0.5478098198685091 \n",
       "  0.7130877510342531 \n",
       "  0.3885252754290513 \n",
       " -2.625784568193896  \n",
       " -0.6391712144488282 \n",
       " -0.38786338292298056\n",
       "  1.7958994799574337 \n",
       "  1.1339605518095066 \n",
       " -1.176639090056705  \n",
       " -1.6796618024298275 \n",
       " -0.3362137677302859 \n",
       " -0.737670548205233  \n",
       "  ⋮                  \n",
       " -0.6297099958227115 \n",
       "  0.30344330110839307\n",
       " -0.9483808518385909 \n",
       " -0.906478560364976  \n",
       " -1.5934405308770236 \n",
       " -0.8829058748388322 \n",
       " -1.1092049149967242 \n",
       "  1.4580089567340841 \n",
       " -0.3428686812179732 \n",
       " -0.691230863117705  \n",
       " -0.30403663909596407\n",
       " -0.5405674115592802 "
      ]
     },
     "execution_count": 31,
     "metadata": {},
     "output_type": "execute_result"
    }
   ],
   "source": [
    "M = 10000\n",
    "A = randn(M, M)\n",
    "b = randn(M, 1)"
   ]
  },
  {
   "cell_type": "markdown",
   "metadata": {},
   "source": [
    "**逆行列を明示的に求める場合**"
   ]
  },
  {
   "cell_type": "code",
   "execution_count": 32,
   "metadata": {},
   "outputs": [
    {
     "data": {
      "text/plain": [
       "BenchmarkTools.Trial: \n",
       "  memory estimate:  767.98 MiB\n",
       "  allocs estimate:  9\n",
       "  --------------\n",
       "  minimum time:     26.951 s (0.00% GC)\n",
       "  median time:      26.951 s (0.00% GC)\n",
       "  mean time:        26.951 s (0.00% GC)\n",
       "  maximum time:     26.951 s (0.00% GC)\n",
       "  --------------\n",
       "  samples:          1\n",
       "  evals/sample:     1"
      ]
     },
     "execution_count": 32,
     "metadata": {},
     "output_type": "execute_result"
    }
   ],
   "source": [
    "@benchmark inv(A) * b"
   ]
  },
  {
   "cell_type": "markdown",
   "metadata": {},
   "source": [
    "**逆行列を明示的に求めない場合**"
   ]
  },
  {
   "cell_type": "code",
   "execution_count": 33,
   "metadata": {},
   "outputs": [
    {
     "data": {
      "text/plain": [
       "BenchmarkTools.Trial: \n",
       "  memory estimate:  763.09 MiB\n",
       "  allocs estimate:  7\n",
       "  --------------\n",
       "  minimum time:     8.181 s (0.01% GC)\n",
       "  median time:      8.181 s (0.01% GC)\n",
       "  mean time:        8.181 s (0.01% GC)\n",
       "  maximum time:     8.181 s (0.01% GC)\n",
       "  --------------\n",
       "  samples:          1\n",
       "  evals/sample:     1"
      ]
     },
     "execution_count": 33,
     "metadata": {},
     "output_type": "execute_result"
    }
   ],
   "source": [
    "@benchmark A \\ b"
   ]
  },
  {
   "cell_type": "markdown",
   "metadata": {},
   "source": [
    "**inv(A) を明示的に求めず、 A x = b を直接解く A \\ b の方が3倍以上高速になっています。**  \n",
    "繰り返し inv(A) を用いる場合や、事後分布の共分散行列を求める場合など inv(A) の値自体が必要な場合以外は、inv(A) は明示的に求めない方が良いです。"
   ]
  },
  {
   "cell_type": "markdown",
   "metadata": {},
   "source": [
    "計算結果は当然一致します。"
   ]
  },
  {
   "cell_type": "code",
   "execution_count": 34,
   "metadata": {},
   "outputs": [
    {
     "data": {
      "text/plain": [
       "4.5428105721612155e-12"
      ]
     },
     "execution_count": 34,
     "metadata": {},
     "output_type": "execute_result"
    }
   ],
   "source": [
    "maximum(abs.(inv(A) * b - A \\ b))"
   ]
  }
 ],
 "metadata": {
  "kernelspec": {
   "display_name": "Julia 1.3.1",
   "language": "julia",
   "name": "julia-1.3"
  },
  "language_info": {
   "file_extension": ".jl",
   "mimetype": "application/julia",
   "name": "julia",
   "version": "1.3.1"
  }
 },
 "nbformat": 4,
 "nbformat_minor": 4
}
