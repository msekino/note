{
 "cells": [
  {
   "cell_type": "code",
   "execution_count": 1,
   "metadata": {},
   "outputs": [],
   "source": [
    "using LinearAlgebra, BenchmarkTools"
   ]
  },
  {
   "cell_type": "markdown",
   "metadata": {},
   "source": [
    "# 行列の列jを、ベクトルの第j要素で割る演算の書き方比較"
   ]
  },
  {
   "cell_type": "code",
   "execution_count": 2,
   "metadata": {},
   "outputs": [
    {
     "data": {
      "text/plain": [
       "1000"
      ]
     },
     "execution_count": 2,
     "metadata": {},
     "output_type": "execute_result"
    }
   ],
   "source": [
    "dim = 1000"
   ]
  },
  {
   "cell_type": "code",
   "execution_count": 3,
   "metadata": {},
   "outputs": [
    {
     "data": {
      "text/plain": [
       "1000-element Array{Float64,1}:\n",
       "  1.7467975614604583\n",
       "  2.8648690518870015\n",
       " -1.1765828159427782\n",
       "  0.20007092686238814\n",
       "  0.6195680312412676\n",
       " -0.35776044630612097\n",
       " -0.815113492741773\n",
       "  0.951571747967914\n",
       "  0.2576862582308946\n",
       "  1.269649708717053\n",
       "  1.5094889827992033\n",
       "  2.017835903946617\n",
       " -0.5910780096488174\n",
       "  ⋮\n",
       "  0.717630835260704\n",
       "  0.038905752823954025\n",
       " -0.20312888352220804\n",
       " -1.9521317520932593\n",
       "  1.2595694397992767\n",
       " -0.47462544255187095\n",
       "  0.7878719226400558\n",
       "  0.13296870965694127\n",
       " -0.4439373114452578\n",
       " -0.06791664520168086\n",
       " -1.1752193493596637\n",
       "  0.9915225848553507"
      ]
     },
     "execution_count": 3,
     "metadata": {},
     "output_type": "execute_result"
    }
   ],
   "source": [
    "A = randn(dim, dim)\n",
    "b = randn(dim)"
   ]
  },
  {
   "cell_type": "markdown",
   "metadata": {},
   "source": [
    "## Referenceになる愚直に計算して正解を作る関数を用意"
   ]
  },
  {
   "cell_type": "code",
   "execution_count": 4,
   "metadata": {},
   "outputs": [
    {
     "data": {
      "text/plain": [
       "calc1 (generic function with 1 method)"
      ]
     },
     "execution_count": 4,
     "metadata": {},
     "output_type": "execute_result"
    }
   ],
   "source": [
    "#正解行列を作る\n",
    "function calc1(A::Array{Float64,2}, b::Vector{Float64})\n",
    "    C = similar(A)\n",
    "    for j in 1:dim\n",
    "        C[:,j] .= A[:,j] ./ b[j]\n",
    "    end\n",
    "    return C\n",
    "end"
   ]
  },
  {
   "cell_type": "code",
   "execution_count": 5,
   "metadata": {},
   "outputs": [
    {
     "data": {
      "text/plain": [
       "1000×1000 Array{Float64,2}:\n",
       "  0.150465    0.669375   -0.634225    …   10.4756     0.945072    1.31976\n",
       " -0.608588    0.583223    0.779926        28.8508    -0.96918     1.03514\n",
       " -1.57155    -0.23582    -0.0720551       -8.54521    0.529165    0.478813\n",
       "  0.283903    0.286903    0.649434        -9.20486    0.0825655   1.07761\n",
       " -0.338007    0.200325    0.0964925       10.4225    -1.35518     0.190789\n",
       " -1.09729    -0.25865     0.940404    …   10.6477     0.62146    -0.0380101\n",
       "  0.898136    0.174081    0.469181       -22.4483    -0.748625   -0.707328\n",
       "  0.828013   -0.224381    0.573171       -12.7664     1.17309    -0.51876\n",
       " -0.76583    -0.32225    -0.595427        -7.43186   -0.810677   -0.242962\n",
       " -0.826892   -0.156963   -0.943456       -12.6295    -0.0534637  -0.989267\n",
       "  0.0322462   0.0256327   1.15996     …  -11.0683     0.741776    0.519832\n",
       "  0.143645    0.0254965  -0.913508       -16.8898    -0.411393    0.0781426\n",
       " -0.301467   -0.0380585   0.447166        10.1023     0.172388   -2.50261\n",
       "  ⋮                                   ⋱                          \n",
       " -0.268634   -0.342103   -0.993767         9.16557   -0.672455   -0.225834\n",
       " -0.357333    0.0995968  -0.701486         1.16978    1.22607    -0.683634\n",
       "  0.516812    0.182837   -0.521079    …  -13.7345    -0.183778    0.277987\n",
       "  0.562282   -0.304      -1.56841         -1.62026   -1.08699     1.26658\n",
       "  0.156457    0.180266   -0.127496        -4.9909     0.258024    1.68493\n",
       " -0.0488787  -0.0885613  -0.143923         1.6718     0.63408     0.128299\n",
       "  0.206063    0.263485    0.255382       -11.0043    -0.627321    0.0988546\n",
       "  1.3476     -0.391596   -0.048547    …   -0.960867  -0.0560301   1.34515\n",
       "  0.148322    0.0652979  -1.17688          0.110167  -0.0488949   0.781293\n",
       " -0.624247   -0.717309   -0.00457923     -22.3876    -0.332902   -0.304242\n",
       "  0.618502    0.366811    0.987472         7.4534    -0.126413   -0.881514\n",
       " -0.253883   -0.279075    0.738081       -23.9739    -0.996652   -0.739948"
      ]
     },
     "execution_count": 5,
     "metadata": {},
     "output_type": "execute_result"
    }
   ],
   "source": [
    "C = calc1(A, b)"
   ]
  },
  {
   "cell_type": "code",
   "execution_count": 6,
   "metadata": {},
   "outputs": [
    {
     "data": {
      "text/plain": [
       "BenchmarkTools.Trial: \n",
       "  memory estimate:  15.71 MiB\n",
       "  allocs estimate:  17448\n",
       "  --------------\n",
       "  minimum time:     10.108 ms (0.00% GC)\n",
       "  median time:      12.252 ms (0.00% GC)\n",
       "  mean time:        14.763 ms (16.68% GC)\n",
       "  maximum time:     27.810 ms (38.20% GC)\n",
       "  --------------\n",
       "  samples:          339\n",
       "  evals/sample:     1"
      ]
     },
     "execution_count": 6,
     "metadata": {},
     "output_type": "execute_result"
    }
   ],
   "source": [
    "@benchmark C = calc1(A, b)"
   ]
  },
  {
   "cell_type": "markdown",
   "metadata": {},
   "source": [
    "## 引数破壊版"
   ]
  },
  {
   "cell_type": "code",
   "execution_count": 7,
   "metadata": {},
   "outputs": [
    {
     "data": {
      "text/plain": [
       "calc2! (generic function with 1 method)"
      ]
     },
     "execution_count": 7,
     "metadata": {},
     "output_type": "execute_result"
    }
   ],
   "source": [
    "function calc2!(C::Array{Float64,2}, A::Array{Float64,2}, b::Vector{Float64})\n",
    "    for j in 1:dim\n",
    "        C[:,j] .= A[:,j] ./ b[j]\n",
    "    end\n",
    "    return C\n",
    "end"
   ]
  },
  {
   "cell_type": "code",
   "execution_count": 8,
   "metadata": {},
   "outputs": [
    {
     "data": {
      "text/plain": [
       "BenchmarkTools.Trial: \n",
       "  memory estimate:  8.08 MiB\n",
       "  allocs estimate:  17446\n",
       "  --------------\n",
       "  minimum time:     4.435 ms (0.00% GC)\n",
       "  median time:      5.390 ms (0.00% GC)\n",
       "  mean time:        6.295 ms (8.02% GC)\n",
       "  maximum time:     23.224 ms (60.49% GC)\n",
       "  --------------\n",
       "  samples:          795\n",
       "  evals/sample:     1"
      ]
     },
     "execution_count": 8,
     "metadata": {},
     "output_type": "execute_result"
    }
   ],
   "source": [
    "@benchmark calc2!(C, A, b)"
   ]
  },
  {
   "cell_type": "markdown",
   "metadata": {},
   "source": [
    "引数破壊版は2倍弱速い"
   ]
  },
  {
   "cell_type": "markdown",
   "metadata": {},
   "source": [
    "## Eq1. A * inv(Diagonal(b))"
   ]
  },
  {
   "cell_type": "code",
   "execution_count": 9,
   "metadata": {},
   "outputs": [
    {
     "data": {
      "text/plain": [
       "4.547473508864641e-13"
      ]
     },
     "execution_count": 9,
     "metadata": {},
     "output_type": "execute_result"
    }
   ],
   "source": [
    "max(abs.(C - A * inv(Diagonal(b)))...)"
   ]
  },
  {
   "cell_type": "code",
   "execution_count": 10,
   "metadata": {},
   "outputs": [
    {
     "data": {
      "text/plain": [
       "BenchmarkTools.Trial: \n",
       "  memory estimate:  7.64 MiB\n",
       "  allocs estimate:  7\n",
       "  --------------\n",
       "  minimum time:     5.115 ms (0.00% GC)\n",
       "  median time:      5.606 ms (0.00% GC)\n",
       "  mean time:        6.927 ms (14.46% GC)\n",
       "  maximum time:     19.060 ms (48.23% GC)\n",
       "  --------------\n",
       "  samples:          720\n",
       "  evals/sample:     1"
      ]
     },
     "execution_count": 10,
     "metadata": {},
     "output_type": "execute_result"
    }
   ],
   "source": [
    "@benchmark A * inv(Diagonal(b))"
   ]
  },
  {
   "cell_type": "markdown",
   "metadata": {},
   "source": [
    "## Eq2. A * Diagonal(1 ./ b)"
   ]
  },
  {
   "cell_type": "code",
   "execution_count": 11,
   "metadata": {},
   "outputs": [
    {
     "data": {
      "text/plain": [
       "4.547473508864641e-13"
      ]
     },
     "execution_count": 11,
     "metadata": {},
     "output_type": "execute_result"
    }
   ],
   "source": [
    "max(abs.(C - A * Diagonal(1 ./ b))...)"
   ]
  },
  {
   "cell_type": "code",
   "execution_count": 12,
   "metadata": {},
   "outputs": [
    {
     "data": {
      "text/plain": [
       "BenchmarkTools.Trial: \n",
       "  memory estimate:  7.64 MiB\n",
       "  allocs estimate:  8\n",
       "  --------------\n",
       "  minimum time:     5.191 ms (0.00% GC)\n",
       "  median time:      5.664 ms (0.00% GC)\n",
       "  mean time:        6.991 ms (14.56% GC)\n",
       "  maximum time:     19.668 ms (60.71% GC)\n",
       "  --------------\n",
       "  samples:          715\n",
       "  evals/sample:     1"
      ]
     },
     "execution_count": 12,
     "metadata": {},
     "output_type": "execute_result"
    }
   ],
   "source": [
    "@benchmark A * Diagonal(1.0 ./ b)"
   ]
  },
  {
   "cell_type": "markdown",
   "metadata": {},
   "source": [
    "**Eq1.の方が速い**"
   ]
  },
  {
   "cell_type": "markdown",
   "metadata": {},
   "source": [
    "## .演算子で結果を他の配列に代入してみる（配列確保されずに速くなる？）"
   ]
  },
  {
   "cell_type": "markdown",
   "metadata": {},
   "source": [
    "## Eq3. A2 .= A * inv(Diagonal(b))"
   ]
  },
  {
   "cell_type": "code",
   "execution_count": 13,
   "metadata": {},
   "outputs": [
    {
     "data": {
      "text/plain": [
       "BenchmarkTools.Trial: \n",
       "  memory estimate:  7.64 MiB\n",
       "  allocs estimate:  9\n",
       "  --------------\n",
       "  minimum time:     6.872 ms (0.00% GC)\n",
       "  median time:      7.537 ms (0.00% GC)\n",
       "  mean time:        8.897 ms (11.39% GC)\n",
       "  maximum time:     19.881 ms (38.95% GC)\n",
       "  --------------\n",
       "  samples:          561\n",
       "  evals/sample:     1"
      ]
     },
     "execution_count": 13,
     "metadata": {},
     "output_type": "execute_result"
    }
   ],
   "source": [
    "A2 = similar(A)\n",
    "@benchmark A2 .= A * inv(Diagonal(b))"
   ]
  },
  {
   "cell_type": "markdown",
   "metadata": {},
   "source": [
    "かえって遅い？ **右辺の演算の際に配列は確保されて、それをさらにコピーしている**っぽい挙動。"
   ]
  },
  {
   "cell_type": "markdown",
   "metadata": {},
   "source": [
    "## Eq4. mul!(A2, A, inv(Diagonal(b)))"
   ]
  },
  {
   "cell_type": "code",
   "execution_count": 14,
   "metadata": {},
   "outputs": [
    {
     "data": {
      "text/plain": [
       "4.547473508864641e-13"
      ]
     },
     "execution_count": 14,
     "metadata": {},
     "output_type": "execute_result"
    }
   ],
   "source": [
    "mul!(A2, A, inv(Diagonal(b)))\n",
    "max(abs.(C - A2)...)"
   ]
  },
  {
   "cell_type": "code",
   "execution_count": 15,
   "metadata": {},
   "outputs": [
    {
     "data": {
      "text/plain": [
       "BenchmarkTools.Trial: \n",
       "  memory estimate:  8.06 KiB\n",
       "  allocs estimate:  5\n",
       "  --------------\n",
       "  minimum time:     1.125 ms (0.00% GC)\n",
       "  median time:      1.216 ms (0.00% GC)\n",
       "  mean time:        1.318 ms (0.00% GC)\n",
       "  maximum time:     11.814 ms (0.00% GC)\n",
       "  --------------\n",
       "  samples:          3751\n",
       "  evals/sample:     1"
      ]
     },
     "execution_count": 15,
     "metadata": {},
     "output_type": "execute_result"
    }
   ],
   "source": [
    "@benchmark mul!(A2, A, inv(Diagonal(b)))"
   ]
  },
  {
   "cell_type": "markdown",
   "metadata": {},
   "source": [
    "**↑最速**"
   ]
  },
  {
   "cell_type": "markdown",
   "metadata": {},
   "source": [
    "A自身に解を代入してみる"
   ]
  },
  {
   "cell_type": "code",
   "execution_count": 16,
   "metadata": {},
   "outputs": [
    {
     "data": {
      "text/plain": [
       "1000×1000 Array{Float64,2}:\n",
       "  0.150465    0.669375   -0.634225    …   10.4756     0.945072    1.31976\n",
       " -0.608588    0.583223    0.779926        28.8508    -0.96918     1.03514\n",
       " -1.57155    -0.23582    -0.0720551       -8.54521    0.529165    0.478813\n",
       "  0.283903    0.286903    0.649434        -9.20486    0.0825655   1.07761\n",
       " -0.338007    0.200325    0.0964925       10.4225    -1.35518     0.190789\n",
       " -1.09729    -0.25865     0.940404    …   10.6477     0.62146    -0.0380101\n",
       "  0.898136    0.174081    0.469181       -22.4483    -0.748625   -0.707328\n",
       "  0.828013   -0.224381    0.573171       -12.7664     1.17309    -0.51876\n",
       " -0.76583    -0.32225    -0.595427        -7.43186   -0.810677   -0.242962\n",
       " -0.826892   -0.156963   -0.943456       -12.6295    -0.0534637  -0.989267\n",
       "  0.0322462   0.0256327   1.15996     …  -11.0683     0.741776    0.519832\n",
       "  0.143645    0.0254965  -0.913508       -16.8898    -0.411393    0.0781426\n",
       " -0.301467   -0.0380585   0.447166        10.1023     0.172388   -2.50261\n",
       "  ⋮                                   ⋱                          \n",
       " -0.268634   -0.342103   -0.993767         9.16557   -0.672455   -0.225834\n",
       " -0.357333    0.0995968  -0.701486         1.16978    1.22607    -0.683634\n",
       "  0.516812    0.182837   -0.521079    …  -13.7345    -0.183778    0.277987\n",
       "  0.562282   -0.304      -1.56841         -1.62026   -1.08699     1.26658\n",
       "  0.156457    0.180266   -0.127496        -4.9909     0.258024    1.68493\n",
       " -0.0488787  -0.0885613  -0.143923         1.6718     0.63408     0.128299\n",
       "  0.206063    0.263485    0.255382       -11.0043    -0.627321    0.0988546\n",
       "  1.3476     -0.391596   -0.048547    …   -0.960867  -0.0560301   1.34515\n",
       "  0.148322    0.0652979  -1.17688          0.110167  -0.0488949   0.781293\n",
       " -0.624247   -0.717309   -0.00457923     -22.3876    -0.332902   -0.304242\n",
       "  0.618502    0.366811    0.987472         7.4534    -0.126413   -0.881514\n",
       " -0.253883   -0.279075    0.738081       -23.9739    -0.996652   -0.739948"
      ]
     },
     "execution_count": 16,
     "metadata": {},
     "output_type": "execute_result"
    }
   ],
   "source": [
    "mul!(A, A, inv(Diagonal(b)))"
   ]
  },
  {
   "cell_type": "code",
   "execution_count": 17,
   "metadata": {},
   "outputs": [
    {
     "data": {
      "text/plain": [
       "4.547473508864641e-13"
      ]
     },
     "execution_count": 17,
     "metadata": {},
     "output_type": "execute_result"
    }
   ],
   "source": [
    "max(abs.(C .- A)...)"
   ]
  },
  {
   "cell_type": "markdown",
   "metadata": {},
   "source": [
    "**mul!でA自身に解を格納させても、問題ない**\n",
    "\n",
    "## まとめ\n",
    "- 反復計算で何度も行列を更新する際にはmul!を使う\n",
    "- コードの見た目の観点では A * inv(Diagonal(b)) の方が式が見えて良いので、状況に応じて使い分ける。"
   ]
  },
  {
   "cell_type": "markdown",
   "metadata": {},
   "source": [
    "# 対角行列の逆行列計算は速いか？（まじめに逆行列計算してしまっていないか）"
   ]
  },
  {
   "cell_type": "markdown",
   "metadata": {},
   "source": [
    "## 対角行列の逆行列計算"
   ]
  },
  {
   "cell_type": "code",
   "execution_count": 18,
   "metadata": {},
   "outputs": [
    {
     "data": {
      "text/plain": [
       "BenchmarkTools.Trial: \n",
       "  memory estimate:  156.44 KiB\n",
       "  allocs estimate:  6\n",
       "  --------------\n",
       "  minimum time:     112.999 μs (0.00% GC)\n",
       "  median time:      169.001 μs (0.00% GC)\n",
       "  mean time:        178.725 μs (5.88% GC)\n",
       "  maximum time:     8.199 ms (97.02% GC)\n",
       "  --------------\n",
       "  samples:          10000\n",
       "  evals/sample:     1"
      ]
     },
     "execution_count": 18,
     "metadata": {},
     "output_type": "execute_result"
    }
   ],
   "source": [
    "@benchmark inv(Diagonal(randn(10000)))"
   ]
  },
  {
   "cell_type": "markdown",
   "metadata": {},
   "source": [
    "## 密行列の逆行列計算"
   ]
  },
  {
   "cell_type": "code",
   "execution_count": 19,
   "metadata": {},
   "outputs": [
    {
     "data": {
      "text/plain": [
       "BenchmarkTools.Trial: \n",
       "  memory estimate:  1.49 GiB\n",
       "  allocs estimate:  9\n",
       "  --------------\n",
       "  minimum time:     25.420 s (0.00% GC)\n",
       "  median time:      25.420 s (0.00% GC)\n",
       "  mean time:        25.420 s (0.00% GC)\n",
       "  maximum time:     25.420 s (0.00% GC)\n",
       "  --------------\n",
       "  samples:          1\n",
       "  evals/sample:     1"
      ]
     },
     "execution_count": 19,
     "metadata": {},
     "output_type": "execute_result"
    }
   ],
   "source": [
    "@benchmark inv(randn(10000,10000))"
   ]
  },
  {
   "cell_type": "markdown",
   "metadata": {},
   "source": [
    "**対角行列の逆行列計算は速い**"
   ]
  }
 ],
 "metadata": {
  "kernelspec": {
   "display_name": "Julia 1.4.0",
   "language": "julia",
   "name": "julia-1.4"
  },
  "language_info": {
   "file_extension": ".jl",
   "mimetype": "application/julia",
   "name": "julia",
   "version": "1.4.0"
  }
 },
 "nbformat": 4,
 "nbformat_minor": 4
}
