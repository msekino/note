{
 "cells": [
  {
   "cell_type": "code",
   "execution_count": 15,
   "metadata": {},
   "outputs": [],
   "source": [
    "using BenchmarkTools"
   ]
  },
  {
   "cell_type": "markdown",
   "metadata": {},
   "source": [
    "# 文字列の分割（split）"
   ]
  },
  {
   "cell_type": "code",
   "execution_count": 6,
   "metadata": {},
   "outputs": [],
   "source": [
    "line = \"0\"\n",
    "for i in 1:10000\n",
    "    line = line * \",$i\"\n",
    "end"
   ]
  },
  {
   "cell_type": "code",
   "execution_count": 9,
   "metadata": {},
   "outputs": [
    {
     "data": {
      "text/plain": [
       "BenchmarkTools.Trial: \n",
       "  memory estimate:  569.17 KiB\n",
       "  allocs estimate:  10015\n",
       "  --------------\n",
       "  minimum time:     861.500 μs (0.00% GC)\n",
       "  median time:      956.799 μs (0.00% GC)\n",
       "  mean time:        1.178 ms (4.53% GC)\n",
       "  maximum time:     32.675 ms (93.38% GC)\n",
       "  --------------\n",
       "  samples:          4225\n",
       "  evals/sample:     1"
      ]
     },
     "execution_count": 9,
     "metadata": {},
     "output_type": "execute_result"
    }
   ],
   "source": [
    "@benchmark strs = split(line, \",\")"
   ]
  },
  {
   "cell_type": "markdown",
   "metadata": {},
   "source": [
    "# 配列の初期化"
   ]
  },
  {
   "cell_type": "markdown",
   "metadata": {},
   "source": [
    "## push!で値を追加"
   ]
  },
  {
   "cell_type": "markdown",
   "metadata": {},
   "source": [
    "### サイズ指定なし・型指定なし"
   ]
  },
  {
   "cell_type": "code",
   "execution_count": 17,
   "metadata": {},
   "outputs": [
    {
     "data": {
      "text/plain": [
       "BenchmarkTools.Trial: \n",
       "  memory estimate:  3.52 MiB\n",
       "  allocs estimate:  99506\n",
       "  --------------\n",
       "  minimum time:     2.035 ms (0.00% GC)\n",
       "  median time:      2.238 ms (0.00% GC)\n",
       "  mean time:        2.790 ms (9.78% GC)\n",
       "  maximum time:     20.212 ms (0.00% GC)\n",
       "  --------------\n",
       "  samples:          1788\n",
       "  evals/sample:     1"
      ]
     },
     "execution_count": 17,
     "metadata": {},
     "output_type": "execute_result"
    }
   ],
   "source": [
    "@benchmark begin\n",
    "    list = []\n",
    "    for i in 1:100000\n",
    "        push!(list, i)\n",
    "    end\n",
    "end"
   ]
  },
  {
   "cell_type": "markdown",
   "metadata": {},
   "source": [
    "### サイズ指定なし・型指定あり"
   ]
  },
  {
   "cell_type": "code",
   "execution_count": 16,
   "metadata": {},
   "outputs": [
    {
     "data": {
      "text/plain": [
       "BenchmarkTools.Trial: \n",
       "  memory estimate:  2.00 MiB\n",
       "  allocs estimate:  17\n",
       "  --------------\n",
       "  minimum time:     949.800 μs (0.00% GC)\n",
       "  median time:      1.005 ms (0.00% GC)\n",
       "  mean time:        1.172 ms (0.00% GC)\n",
       "  maximum time:     9.379 ms (0.00% GC)\n",
       "  --------------\n",
       "  samples:          3797\n",
       "  evals/sample:     1"
      ]
     },
     "execution_count": 16,
     "metadata": {},
     "output_type": "execute_result"
    }
   ],
   "source": [
    "@benchmark begin\n",
    "    list = Vector{Int64}()\n",
    "    for i in 1:100000\n",
    "        push!(list, i)\n",
    "    end\n",
    "end"
   ]
  },
  {
   "cell_type": "markdown",
   "metadata": {},
   "source": [
    "### サイズヒントあり・型指定あり"
   ]
  },
  {
   "cell_type": "code",
   "execution_count": 19,
   "metadata": {},
   "outputs": [
    {
     "data": {
      "text/plain": [
       "BenchmarkTools.Trial: \n",
       "  memory estimate:  781.39 KiB\n",
       "  allocs estimate:  2\n",
       "  --------------\n",
       "  minimum time:     558.200 μs (0.00% GC)\n",
       "  median time:      848.000 μs (0.00% GC)\n",
       "  mean time:        920.887 μs (0.00% GC)\n",
       "  maximum time:     10.502 ms (0.00% GC)\n",
       "  --------------\n",
       "  samples:          5028\n",
       "  evals/sample:     1"
      ]
     },
     "execution_count": 19,
     "metadata": {},
     "output_type": "execute_result"
    }
   ],
   "source": [
    "@benchmark begin\n",
    "    list = Vector{Int64}()\n",
    "    sizehint!(list, 100000)\n",
    "    for i in 1:100000\n",
    "        push!(list, i)\n",
    "    end\n",
    "end"
   ]
  },
  {
   "cell_type": "markdown",
   "metadata": {},
   "source": [
    "## list[index] = value で値をセット"
   ]
  },
  {
   "cell_type": "code",
   "execution_count": 20,
   "metadata": {},
   "outputs": [
    {
     "data": {
      "text/plain": [
       "BenchmarkTools.Trial: \n",
       "  memory estimate:  781.33 KiB\n",
       "  allocs estimate:  2\n",
       "  --------------\n",
       "  minimum time:     75.400 μs (0.00% GC)\n",
       "  median time:      94.201 μs (0.00% GC)\n",
       "  mean time:        237.837 μs (13.86% GC)\n",
       "  maximum time:     5.976 ms (56.88% GC)\n",
       "  --------------\n",
       "  samples:          10000\n",
       "  evals/sample:     1"
      ]
     },
     "execution_count": 20,
     "metadata": {},
     "output_type": "execute_result"
    }
   ],
   "source": [
    "@benchmark begin\n",
    "    list = Vector{Int64}(undef, 100000)\n",
    "    for i in 1:100000\n",
    "        list[i] = i\n",
    "    end\n",
    "end"
   ]
  },
  {
   "cell_type": "markdown",
   "metadata": {},
   "source": [
    "**push!でなく値をセットする方式が10倍速い（push!による初期化は遅い）**"
   ]
  },
  {
   "cell_type": "markdown",
   "metadata": {},
   "source": [
    "## リスト内包表記による初期化"
   ]
  },
  {
   "cell_type": "markdown",
   "metadata": {},
   "source": [
    "### 型指定なし"
   ]
  },
  {
   "cell_type": "code",
   "execution_count": 23,
   "metadata": {},
   "outputs": [
    {
     "data": {
      "text/plain": [
       "BenchmarkTools.Trial: \n",
       "  memory estimate:  781.33 KiB\n",
       "  allocs estimate:  2\n",
       "  --------------\n",
       "  minimum time:     42.201 μs (0.00% GC)\n",
       "  median time:      87.600 μs (0.00% GC)\n",
       "  mean time:        131.865 μs (9.79% GC)\n",
       "  maximum time:     7.840 ms (0.00% GC)\n",
       "  --------------\n",
       "  samples:          10000\n",
       "  evals/sample:     1"
      ]
     },
     "execution_count": 23,
     "metadata": {},
     "output_type": "execute_result"
    }
   ],
   "source": [
    "@benchmark list = [i for i in 1:100000]"
   ]
  },
  {
   "cell_type": "markdown",
   "metadata": {},
   "source": [
    "**リストの初期化はリスト内包表記が速い**"
   ]
  },
  {
   "cell_type": "markdown",
   "metadata": {},
   "source": [
    "### 型指定あり"
   ]
  },
  {
   "cell_type": "code",
   "execution_count": 24,
   "metadata": {},
   "outputs": [
    {
     "data": {
      "text/plain": [
       "BenchmarkTools.Trial: \n",
       "  memory estimate:  781.33 KiB\n",
       "  allocs estimate:  2\n",
       "  --------------\n",
       "  minimum time:     60.499 μs (0.00% GC)\n",
       "  median time:      88.401 μs (0.00% GC)\n",
       "  mean time:        116.101 μs (9.37% GC)\n",
       "  maximum time:     7.253 ms (98.38% GC)\n",
       "  --------------\n",
       "  samples:          10000\n",
       "  evals/sample:     1"
      ]
     },
     "execution_count": 24,
     "metadata": {},
     "output_type": "execute_result"
    }
   ],
   "source": [
    "@benchmark list = Int64[i for i in 1:100000]"
   ]
  },
  {
   "cell_type": "markdown",
   "metadata": {},
   "source": [
    "## リストの初期化まとめ"
   ]
  },
  {
   "cell_type": "markdown",
   "metadata": {},
   "source": [
    "- リスト内包表記またはサイズ指定して値をセットする方式が速い\n",
    "- リスト内包表記の型指定は速度に影響しないかも（今回試したのがプリミティブだからかも）\n",
    "- push!は遅いが便利なのでパフォーマンスを気にしない場面で用いる"
   ]
  },
  {
   "cell_type": "markdown",
   "metadata": {},
   "source": [
    "# Dictの初期化"
   ]
  },
  {
   "cell_type": "markdown",
   "metadata": {},
   "source": [
    "## push!による初期化"
   ]
  },
  {
   "cell_type": "code",
   "execution_count": 10,
   "metadata": {},
   "outputs": [
    {
     "data": {
      "text/plain": [
       "BenchmarkTools.Trial: \n",
       "  memory estimate:  364.61 KiB\n",
       "  allocs estimate:  24\n",
       "  --------------\n",
       "  minimum time:     275.700 μs (0.00% GC)\n",
       "  median time:      405.000 μs (0.00% GC)\n",
       "  mean time:        452.312 μs (6.36% GC)\n",
       "  maximum time:     9.258 ms (90.40% GC)\n",
       "  --------------\n",
       "  samples:          10000\n",
       "  evals/sample:     1"
      ]
     },
     "execution_count": 10,
     "metadata": {},
     "output_type": "execute_result"
    }
   ],
   "source": [
    "@benchmark begin\n",
    "    dict = Dict{Int64,Int64}()\n",
    "    for i in 1:10000\n",
    "        push!(dict, i => i)\n",
    "    end\n",
    "end"
   ]
  },
  {
   "cell_type": "markdown",
   "metadata": {},
   "source": [
    "## 辞書内包表記による初期化"
   ]
  },
  {
   "cell_type": "code",
   "execution_count": 13,
   "metadata": {},
   "outputs": [
    {
     "data": {
      "text/plain": [
       "BenchmarkTools.Trial: \n",
       "  memory estimate:  364.61 KiB\n",
       "  allocs estimate:  24\n",
       "  --------------\n",
       "  minimum time:     276.900 μs (0.00% GC)\n",
       "  median time:      405.300 μs (0.00% GC)\n",
       "  mean time:        451.900 μs (6.20% GC)\n",
       "  maximum time:     12.583 ms (0.00% GC)\n",
       "  --------------\n",
       "  samples:          10000\n",
       "  evals/sample:     1"
      ]
     },
     "execution_count": 13,
     "metadata": {},
     "output_type": "execute_result"
    }
   ],
   "source": [
    "@benchmark begin\n",
    "    dict = Dict{Int64,Int64}(\n",
    "        i => i for i in 1:10000\n",
    "    )\n",
    "end"
   ]
  },
  {
   "cell_type": "markdown",
   "metadata": {},
   "source": [
    "## リストを作って初期化"
   ]
  },
  {
   "cell_type": "markdown",
   "metadata": {},
   "source": [
    "### Dict(zip(keys, values))"
   ]
  },
  {
   "cell_type": "code",
   "execution_count": 27,
   "metadata": {},
   "outputs": [
    {
     "data": {
      "text/plain": [
       "BenchmarkTools.Trial: \n",
       "  memory estimate:  521.06 KiB\n",
       "  allocs estimate:  30\n",
       "  --------------\n",
       "  minimum time:     362.300 μs (0.00% GC)\n",
       "  median time:      408.750 μs (0.00% GC)\n",
       "  mean time:        540.951 μs (4.64% GC)\n",
       "  maximum time:     9.668 ms (90.15% GC)\n",
       "  --------------\n",
       "  samples:          9180\n",
       "  evals/sample:     1"
      ]
     },
     "execution_count": 27,
     "metadata": {},
     "output_type": "execute_result"
    }
   ],
   "source": [
    "@benchmark begin\n",
    "    keys = Int64[i for i in 1:10000]\n",
    "    values = Int64[i for i in 1:10000]\n",
    "    dict = Dict(zip(keys,values))\n",
    "end"
   ]
  },
  {
   "cell_type": "markdown",
   "metadata": {},
   "source": [
    "### Dict(keys .=> values)"
   ]
  },
  {
   "cell_type": "code",
   "execution_count": 29,
   "metadata": {},
   "outputs": [
    {
     "data": {
      "text/plain": [
       "BenchmarkTools.Trial: \n",
       "  memory estimate:  677.34 KiB\n",
       "  allocs estimate:  30\n",
       "  --------------\n",
       "  minimum time:     354.500 μs (0.00% GC)\n",
       "  median time:      398.901 μs (0.00% GC)\n",
       "  mean time:        550.500 μs (5.67% GC)\n",
       "  maximum time:     9.265 ms (89.96% GC)\n",
       "  --------------\n",
       "  samples:          9010\n",
       "  evals/sample:     1"
      ]
     },
     "execution_count": 29,
     "metadata": {},
     "output_type": "execute_result"
    }
   ],
   "source": [
    "@benchmark begin\n",
    "    keys = Int64[i for i in 1:10000]\n",
    "    values = Int64[i for i in 1:10000]\n",
    "    dict = Dict(keys .=> values)\n",
    "end"
   ]
  },
  {
   "cell_type": "markdown",
   "metadata": {},
   "source": [
    "## Dictの初期化まとめ "
   ]
  },
  {
   "cell_type": "markdown",
   "metadata": {},
   "source": [
    "- 初期化方法で速度に差はない！"
   ]
  }
 ],
 "metadata": {
  "kernelspec": {
   "display_name": "Julia 1.4.0",
   "language": "julia",
   "name": "julia-1.4"
  },
  "language_info": {
   "file_extension": ".jl",
   "mimetype": "application/julia",
   "name": "julia",
   "version": "1.4.0"
  }
 },
 "nbformat": 4,
 "nbformat_minor": 4
}
