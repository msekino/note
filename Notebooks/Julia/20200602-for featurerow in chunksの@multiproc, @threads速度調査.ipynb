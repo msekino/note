{
 "cells": [
  {
   "cell_type": "code",
   "execution_count": 1,
   "metadata": {},
   "outputs": [],
   "source": [
    "using Profile, StatProfilerHTML, BenchmarkTools"
   ]
  },
  {
   "cell_type": "code",
   "execution_count": 2,
   "metadata": {},
   "outputs": [],
   "source": [
    "using VALISTrader"
   ]
  },
  {
   "cell_type": "code",
   "execution_count": 3,
   "metadata": {},
   "outputs": [],
   "source": [
    "using Base.Threads, SparseArrays"
   ]
  },
  {
   "cell_type": "code",
   "execution_count": 4,
   "metadata": {},
   "outputs": [],
   "source": [
    "using\n",
    "    Dates,\n",
    "    Logging,\n",
    "    Distributed,\n",
    "    VALISTrader.Feature.Reader,\n",
    "    VALISTrader.Feature.Encoding,\n",
    "    VALISTrader.Commons.MultiProcessing,\n",
    "    VALISTrader.Commons.MapSparse.MapMatrix,\n",
    "    VALISTrader.Commons.CalcTools,\n",
    "    VALISTrader.LSAUC.Stat"
   ]
  },
  {
   "cell_type": "code",
   "execution_count": 5,
   "metadata": {},
   "outputs": [
    {
     "data": {
      "text/plain": [
       "Dict{String,String} with 3 entries:\n",
       "  \"featurebodydir\"   => \"C:/Users/msekino/workspace/data/SMN/encoder_feature_sa…\n",
       "  \"oldencoderfile\"   => \"C:/Users/msekino/workspace/data/SMN/encoder_feature_sa…\n",
       "  \"featureheaderdir\" => \"C:/Users/msekino/workspace/data/SMN/encoder_feature_sa…"
      ]
     },
     "execution_count": 5,
     "metadata": {},
     "output_type": "execute_result"
    }
   ],
   "source": [
    "datadir = \"C:/Users/msekino/workspace/data/SMN/encoder_feature_sample/data\"\n",
    "args_opts = Dict{String,String}(\n",
    "    \"featureheaderdir\" => \"C:/Users/msekino/workspace/data/SMN/encoder_feature_sample/data\",\n",
    "    \"featurebodydir\" => \"C:/Users/msekino/workspace/data/SMN/encoder_feature_sample/data\",\n",
    "    \"oldencoderfile\" => \"C:/Users/msekino/workspace/data/SMN/encoder_feature_sample/data/encoder_gllsauc.json\"\n",
    ")"
   ]
  },
  {
   "cell_type": "code",
   "execution_count": 6,
   "metadata": {},
   "outputs": [
    {
     "name": "stderr",
     "output_type": "stream",
     "text": [
      "┌ Info: makecolumnnames finished.\n",
      "└ @ Main In[6]:4\n"
     ]
    }
   ],
   "source": [
    "headerfiles = findheaderfiles(args_opts[\"featureheaderdir\"])\n",
    "bodyfiles = findbodyfiles(args_opts[\"featurebodydir\"])\n",
    "columnnames = makecolumnnames(headerfiles...)\n",
    "@info \"makecolumnnames finished.\""
   ]
  },
  {
   "cell_type": "code",
   "execution_count": 7,
   "metadata": {},
   "outputs": [
    {
     "name": "stdout",
     "output_type": "stream",
     "text": [
      " 49.789629 seconds (95.76 M allocations: 9.697 GiB, 9.88% gc time)\n"
     ]
    },
    {
     "data": {
      "text/plain": [
       "Chunks([\"E:\\\\temp\\\\jl_70B.tmp\", \"E:\\\\temp\\\\jl_209F.tmp\", \"E:\\\\temp\\\\jl_384F.tmp\", \"E:\\\\temp\\\\jl_4FDF.tmp\", \"E:\\\\temp\\\\jl_67AE.tmp\", \"E:\\\\temp\\\\jl_7F1F.tmp\"])"
      ]
     },
     "execution_count": 7,
     "metadata": {},
     "output_type": "execute_result"
    }
   ],
   "source": [
    "@time chunks = makechunks(headerfiles[1], bodyfiles; chunksize=20000)"
   ]
  },
  {
   "cell_type": "code",
   "execution_count": 8,
   "metadata": {},
   "outputs": [
    {
     "name": "stderr",
     "output_type": "stream",
     "text": [
      "┌ Info: loadoldfile finished.\n",
      "└ @ Main In[8]:2\n"
     ]
    }
   ],
   "source": [
    "encoder = loadoldfile(args_opts[\"oldencoderfile\"], columnnames)\n",
    "@info \"loadoldfile finished.\""
   ]
  },
  {
   "cell_type": "markdown",
   "metadata": {},
   "source": [
    "# @multiproc で for featurerow in chunk の空ループを回してみる"
   ]
  },
  {
   "cell_type": "code",
   "execution_count": 9,
   "metadata": {},
   "outputs": [
    {
     "data": {
      "text/plain": [
       "calcmeansmultiproc (generic function with 1 method)"
      ]
     },
     "execution_count": 9,
     "metadata": {},
     "output_type": "execute_result"
    }
   ],
   "source": [
    "function calcmeansmultiproc(chunks::Chunks, encoder::Encoder)\n",
    "    accumulator(\n",
    "        x::Int64\n",
    "    ) = begin\n",
    "    end\n",
    "    \n",
    "    @multiproc (accumulator) for chunk in chunks\n",
    "        for featurerow in chunk           \n",
    "        end\n",
    "        1\n",
    "    end\n",
    "end"
   ]
  },
  {
   "cell_type": "markdown",
   "metadata": {},
   "source": [
    "## nworkers() = 1"
   ]
  },
  {
   "cell_type": "code",
   "execution_count": 10,
   "metadata": {},
   "outputs": [
    {
     "data": {
      "text/plain": [
       "1"
      ]
     },
     "execution_count": 10,
     "metadata": {},
     "output_type": "execute_result"
    }
   ],
   "source": [
    "nworkers()"
   ]
  },
  {
   "cell_type": "code",
   "execution_count": 11,
   "metadata": {},
   "outputs": [
    {
     "name": "stdout",
     "output_type": "stream",
     "text": [
      " 13.584723 seconds (37.31 M allocations: 3.147 GiB, 16.12% gc time)\n"
     ]
    }
   ],
   "source": [
    "@time calcmeansmultiproc(chunks, encoder)"
   ]
  },
  {
   "cell_type": "code",
   "execution_count": 12,
   "metadata": {},
   "outputs": [
    {
     "name": "stdout",
     "output_type": "stream",
     "text": [
      " 14.722533 seconds (37.07 M allocations: 3.136 GiB, 23.12% gc time)\n"
     ]
    }
   ],
   "source": [
    "@time calcmeansmultiproc(chunks, encoder)"
   ]
  },
  {
   "cell_type": "markdown",
   "metadata": {},
   "source": [
    "## nworkers() = 2"
   ]
  },
  {
   "cell_type": "code",
   "execution_count": 13,
   "metadata": {},
   "outputs": [
    {
     "data": {
      "text/plain": [
       "2-element Array{Int64,1}:\n",
       " 2\n",
       " 3"
      ]
     },
     "execution_count": 13,
     "metadata": {},
     "output_type": "execute_result"
    }
   ],
   "source": [
    "addprocs(2)"
   ]
  },
  {
   "cell_type": "code",
   "execution_count": 14,
   "metadata": {},
   "outputs": [
    {
     "data": {
      "text/plain": [
       "2"
      ]
     },
     "execution_count": 14,
     "metadata": {},
     "output_type": "execute_result"
    }
   ],
   "source": [
    "nworkers()"
   ]
  },
  {
   "cell_type": "code",
   "execution_count": 15,
   "metadata": {},
   "outputs": [
    {
     "name": "stdout",
     "output_type": "stream",
     "text": [
      " 23.601863 seconds (53.77 M allocations: 3.673 GiB, 14.80% gc time)\n"
     ]
    }
   ],
   "source": [
    "@time calcmeansmultiproc(chunks, encoder)"
   ]
  },
  {
   "cell_type": "code",
   "execution_count": 16,
   "metadata": {},
   "outputs": [
    {
     "name": "stdout",
     "output_type": "stream",
     "text": [
      " 23.373927 seconds (53.61 M allocations: 3.665 GiB, 14.94% gc time)\n"
     ]
    }
   ],
   "source": [
    "@time calcmeansmultiproc(chunks, encoder)"
   ]
  },
  {
   "cell_type": "markdown",
   "metadata": {},
   "source": [
    "**むしろ遅くなった？！**"
   ]
  },
  {
   "cell_type": "markdown",
   "metadata": {},
   "source": [
    "## nworkers() = 3"
   ]
  },
  {
   "cell_type": "code",
   "execution_count": 17,
   "metadata": {},
   "outputs": [
    {
     "data": {
      "text/plain": [
       "1-element Array{Int64,1}:\n",
       " 4"
      ]
     },
     "execution_count": 17,
     "metadata": {},
     "output_type": "execute_result"
    }
   ],
   "source": [
    "addprocs(1)"
   ]
  },
  {
   "cell_type": "code",
   "execution_count": 18,
   "metadata": {},
   "outputs": [
    {
     "data": {
      "text/plain": [
       "3"
      ]
     },
     "execution_count": 18,
     "metadata": {},
     "output_type": "execute_result"
    }
   ],
   "source": [
    "nworkers()"
   ]
  },
  {
   "cell_type": "code",
   "execution_count": 19,
   "metadata": {},
   "outputs": [
    {
     "name": "stdout",
     "output_type": "stream",
     "text": [
      " 23.375105 seconds (53.61 M allocations: 3.665 GiB, 12.59% gc time)\n"
     ]
    }
   ],
   "source": [
    "@time calcmeansmultiproc(chunks, encoder)"
   ]
  },
  {
   "cell_type": "code",
   "execution_count": 20,
   "metadata": {},
   "outputs": [
    {
     "name": "stdout",
     "output_type": "stream",
     "text": [
      " 24.328640 seconds (53.61 M allocations: 3.665 GiB, 18.28% gc time)\n"
     ]
    }
   ],
   "source": [
    "@time calcmeansmultiproc(chunks, encoder)"
   ]
  },
  {
   "cell_type": "markdown",
   "metadata": {},
   "source": [
    "# @threads で for featurerow in chunk の空ループを回してみる"
   ]
  },
  {
   "cell_type": "code",
   "execution_count": 21,
   "metadata": {},
   "outputs": [
    {
     "data": {
      "text/plain": [
       "calcmeansmultithread (generic function with 1 method)"
      ]
     },
     "execution_count": 21,
     "metadata": {},
     "output_type": "execute_result"
    }
   ],
   "source": [
    "function calcmeansmultithread(chunks::Chunks, encoder::Encoder)\n",
    "    @threads for chunk in chunks\n",
    "        for featurerow in chunk           \n",
    "        end\n",
    "    end\n",
    "end"
   ]
  },
  {
   "cell_type": "code",
   "execution_count": 22,
   "metadata": {},
   "outputs": [
    {
     "data": {
      "text/plain": [
       "3"
      ]
     },
     "execution_count": 22,
     "metadata": {},
     "output_type": "execute_result"
    }
   ],
   "source": [
    "nthreads()"
   ]
  },
  {
   "cell_type": "code",
   "execution_count": 23,
   "metadata": {},
   "outputs": [
    {
     "name": "stdout",
     "output_type": "stream",
     "text": [
      "  6.466924 seconds (37.30 M allocations: 3.141 GiB, 41.45% gc time)\n"
     ]
    }
   ],
   "source": [
    "@time calcmeansmultithread(chunks, encoder)"
   ]
  },
  {
   "cell_type": "markdown",
   "metadata": {},
   "source": [
    "**マルチスレッドが利いて速くなっているように見える**"
   ]
  }
 ],
 "metadata": {
  "kernelspec": {
   "display_name": "Julia 1.4.0",
   "language": "julia",
   "name": "julia-1.4"
  },
  "language_info": {
   "file_extension": ".jl",
   "mimetype": "application/julia",
   "name": "julia",
   "version": "1.4.0"
  }
 },
 "nbformat": 4,
 "nbformat_minor": 4
}
