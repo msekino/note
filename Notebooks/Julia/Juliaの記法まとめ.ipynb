{
 "cells": [
  {
   "cell_type": "markdown",
   "metadata": {},
   "source": [
    "# 数値計算"
   ]
  },
  {
   "cell_type": "markdown",
   "metadata": {},
   "source": [
    "べき乗は^演算子を用いる。TeXの記法と同じです。"
   ]
  },
  {
   "cell_type": "code",
   "execution_count": 1,
   "metadata": {},
   "outputs": [
    {
     "data": {
      "text/plain": [
       "1024"
      ]
     },
     "execution_count": 1,
     "metadata": {},
     "output_type": "execute_result"
    }
   ],
   "source": [
    "2^10"
   ]
  },
  {
   "cell_type": "markdown",
   "metadata": {},
   "source": [
    "# 配列の初期化\n",
    "## 0で初期化した配列を作る"
   ]
  },
  {
   "cell_type": "code",
   "execution_count": 2,
   "metadata": {},
   "outputs": [
    {
     "data": {
      "text/plain": [
       "5-element Array{Float64,1}:\n",
       " 0.0\n",
       " 0.0\n",
       " 0.0\n",
       " 0.0\n",
       " 0.0"
      ]
     },
     "execution_count": 2,
     "metadata": {},
     "output_type": "execute_result"
    }
   ],
   "source": [
    "x = zeros(5)"
   ]
  },
  {
   "cell_type": "code",
   "execution_count": 3,
   "metadata": {},
   "outputs": [
    {
     "data": {
      "text/plain": [
       "3×5 Array{Float64,2}:\n",
       " 0.0  0.0  0.0  0.0  0.0\n",
       " 0.0  0.0  0.0  0.0  0.0\n",
       " 0.0  0.0  0.0  0.0  0.0"
      ]
     },
     "execution_count": 3,
     "metadata": {},
     "output_type": "execute_result"
    }
   ],
   "source": [
    "X = zeros(3,5)"
   ]
  },
  {
   "cell_type": "markdown",
   "metadata": {},
   "source": [
    "## 乱数がセットされた配列を得る"
   ]
  },
  {
   "cell_type": "code",
   "execution_count": 4,
   "metadata": {},
   "outputs": [
    {
     "data": {
      "text/plain": [
       "5-element Array{Float64,1}:\n",
       " 0.1854104819490643 \n",
       " 0.5042650209114115 \n",
       " 0.16723098549969562\n",
       " 0.7592700916039781 \n",
       " 0.9573994684400531 "
      ]
     },
     "execution_count": 4,
     "metadata": {},
     "output_type": "execute_result"
    }
   ],
   "source": [
    "x = rand(5)"
   ]
  },
  {
   "cell_type": "code",
   "execution_count": 5,
   "metadata": {},
   "outputs": [
    {
     "data": {
      "text/plain": [
       "3×5 Array{Float64,2}:\n",
       " -0.395198  -1.98845   -1.1       -2.93557    -0.270605 \n",
       "  1.20269    2.19297   -1.12623    0.0509322   0.0631348\n",
       " -0.332234  -0.841871   0.201792   0.767502   -0.746662 "
      ]
     },
     "execution_count": 5,
     "metadata": {},
     "output_type": "execute_result"
    }
   ],
   "source": [
    "x = randn(3,5)"
   ]
  },
  {
   "cell_type": "markdown",
   "metadata": {},
   "source": [
    "## 型とサイズを指定"
   ]
  },
  {
   "cell_type": "code",
   "execution_count": 6,
   "metadata": {},
   "outputs": [
    {
     "data": {
      "text/plain": [
       "5-element Array{Float64,1}:\n",
       " 5.3804476e-316  \n",
       " 5.3804476e-316  \n",
       " 2.886127157e-315\n",
       " 2.886127316e-315\n",
       " 2.809353783e-315"
      ]
     },
     "execution_count": 6,
     "metadata": {},
     "output_type": "execute_result"
    }
   ],
   "source": [
    "x = Vector{Float64}(undef, 5)  #{Type}(undef, サイズ)  undefの場合初期化されない"
   ]
  },
  {
   "cell_type": "code",
   "execution_count": 7,
   "metadata": {},
   "outputs": [
    {
     "data": {
      "text/plain": [
       "2×3 Array{Float64,2}:\n",
       " 5.38045e-316  2.88613e-315  2.80936e-315\n",
       " 5.38045e-316  2.88613e-315  1.5353e-315 "
      ]
     },
     "execution_count": 7,
     "metadata": {},
     "output_type": "execute_result"
    }
   ],
   "source": [
    "X = Array{Float64}(undef, 2, 3)"
   ]
  },
  {
   "cell_type": "markdown",
   "metadata": {},
   "source": [
    "## 空の配列に値を追加していく"
   ]
  },
  {
   "cell_type": "markdown",
   "metadata": {},
   "source": [
    "Juliaでは、**配列にpush!で値を追加できます**。確保している領域に空きがなくなると、新たに2倍の領域を確保して、元のデータがコピーされます。リスト（動的配列）のように使える、静的配列です。  \n",
    "[Julia - 配列の実装について](https://goropikari.hatenablog.com/entry/julia_array_implement)"
   ]
  },
  {
   "cell_type": "code",
   "execution_count": 8,
   "metadata": {},
   "outputs": [
    {
     "data": {
      "text/plain": [
       "0-element Array{Any,1}"
      ]
     },
     "execution_count": 8,
     "metadata": {},
     "output_type": "execute_result"
    }
   ],
   "source": [
    "x = []"
   ]
  },
  {
   "cell_type": "code",
   "execution_count": 9,
   "metadata": {},
   "outputs": [
    {
     "data": {
      "text/plain": [
       "5-element Array{Any,1}:\n",
       " -0.6720094217511288\n",
       "  0.4357436858544449\n",
       "  0.3658087965339545\n",
       "  1.4658102395690804\n",
       " -0.2638071787987569"
      ]
     },
     "execution_count": 9,
     "metadata": {},
     "output_type": "execute_result"
    }
   ],
   "source": [
    "for i in 1:5\n",
    "    push!(x, randn())\n",
    "end\n",
    "x"
   ]
  },
  {
   "cell_type": "markdown",
   "metadata": {},
   "source": [
    "型を明示する場合"
   ]
  },
  {
   "cell_type": "code",
   "execution_count": 10,
   "metadata": {},
   "outputs": [
    {
     "data": {
      "text/plain": [
       "0-element Array{Float64,1}"
      ]
     },
     "execution_count": 10,
     "metadata": {},
     "output_type": "execute_result"
    }
   ],
   "source": [
    "x = Vector{Float64}(undef, 0)"
   ]
  },
  {
   "cell_type": "code",
   "execution_count": 11,
   "metadata": {},
   "outputs": [
    {
     "data": {
      "text/plain": [
       "5-element Array{Float64,1}:\n",
       "  0.3680665204919526 \n",
       " -1.1277265731206638 \n",
       "  0.23613748842423254\n",
       "  0.575012652848961  \n",
       " -0.11681889876036872"
      ]
     },
     "execution_count": 11,
     "metadata": {},
     "output_type": "execute_result"
    }
   ],
   "source": [
    "for i in 1:5\n",
    "    push!(x, randn())\n",
    "end\n",
    "x"
   ]
  },
  {
   "cell_type": "markdown",
   "metadata": {},
   "source": [
    "# 行列演算"
   ]
  },
  {
   "cell_type": "markdown",
   "metadata": {},
   "source": [
    "## 行列の演算子"
   ]
  },
  {
   "cell_type": "markdown",
   "metadata": {},
   "source": [
    "転置は'（プライム）"
   ]
  },
  {
   "cell_type": "code",
   "execution_count": 12,
   "metadata": {},
   "outputs": [
    {
     "data": {
      "text/plain": [
       "2×5 LinearAlgebra.Adjoint{Float64,Array{Float64,2}}:\n",
       "  1.44577  0.110402     1.89161  -1.25037   -1.49533\n",
       " -0.406    0.00534004  -1.52857   0.265547   1.34148"
      ]
     },
     "execution_count": 12,
     "metadata": {},
     "output_type": "execute_result"
    }
   ],
   "source": [
    "X = randn(5,2)\n",
    "X'"
   ]
  },
  {
   "cell_type": "markdown",
   "metadata": {},
   "source": [
    "逆行列はinv"
   ]
  },
  {
   "cell_type": "code",
   "execution_count": 13,
   "metadata": {},
   "outputs": [
    {
     "data": {
      "text/plain": [
       "5×5 Array{Float64,2}:\n",
       " -0.983262  0.729372  -0.753523   0.303288   -0.279849 \n",
       " -1.37777   1.44735   -2.03603    1.59751    -0.733381 \n",
       "  0.190365  0.133484   0.619577  -0.386669    0.34798  \n",
       "  0.176899  1.01891   -0.7323     0.485385   -0.600196 \n",
       " -0.105253  0.429157  -0.547327   0.0478875   0.0238216"
      ]
     },
     "execution_count": 13,
     "metadata": {},
     "output_type": "execute_result"
    }
   ],
   "source": [
    "X = randn(5,5)\n",
    "inv(X)"
   ]
  },
  {
   "cell_type": "markdown",
   "metadata": {},
   "source": [
    "行列式はLinearAlgebra.det"
   ]
  },
  {
   "cell_type": "code",
   "execution_count": 14,
   "metadata": {},
   "outputs": [
    {
     "data": {
      "text/plain": [
       "-0.12099833422847545"
      ]
     },
     "execution_count": 14,
     "metadata": {},
     "output_type": "execute_result"
    }
   ],
   "source": [
    "using LinearAlgebra\n",
    "X = randn(5,5)\n",
    "det(X)"
   ]
  },
  {
   "cell_type": "markdown",
   "metadata": {},
   "source": [
    "トレースはLinearAlgebra.tr"
   ]
  },
  {
   "cell_type": "code",
   "execution_count": 15,
   "metadata": {},
   "outputs": [
    {
     "data": {
      "text/plain": [
       "2.831798393825361"
      ]
     },
     "execution_count": 15,
     "metadata": {},
     "output_type": "execute_result"
    }
   ],
   "source": [
    "using LinearAlgebra\n",
    "X = randn(5,5)\n",
    "tr(X)"
   ]
  },
  {
   "cell_type": "markdown",
   "metadata": {},
   "source": [
    "## 行列の積"
   ]
  },
  {
   "cell_type": "markdown",
   "metadata": {},
   "source": [
    "行列の積は*"
   ]
  },
  {
   "cell_type": "code",
   "execution_count": 16,
   "metadata": {},
   "outputs": [
    {
     "data": {
      "text/plain": [
       "3×3 Array{Float64,2}:\n",
       " -0.56908   0.804403  -2.13387 \n",
       "  1.89211   2.00942    1.54451 \n",
       " -0.553489  0.150257   0.331243"
      ]
     },
     "execution_count": 16,
     "metadata": {},
     "output_type": "execute_result"
    }
   ],
   "source": [
    "X = randn(3,5)\n",
    "Y = randn(5,3)\n",
    "X * Y"
   ]
  },
  {
   "cell_type": "markdown",
   "metadata": {},
   "source": [
    "## 要素ごとの演算"
   ]
  },
  {
   "cell_type": "markdown",
   "metadata": {},
   "source": [
    "Juliaではドット演算子で要素ごとの演算をbroadcastして効率的に計算してくれる。"
   ]
  },
  {
   "cell_type": "code",
   "execution_count": 17,
   "metadata": {},
   "outputs": [
    {
     "data": {
      "text/plain": [
       "3×5 Array{Float64,2}:\n",
       "  1.57138   -2.1636    -0.356228   0.0621587  -1.3647  \n",
       "  0.168985   0.48141   -0.366444  -1.25423    -0.075801\n",
       " -0.213664  -0.397774   0.166622   0.414789    0.249783"
      ]
     },
     "execution_count": 17,
     "metadata": {},
     "output_type": "execute_result"
    }
   ],
   "source": [
    "X = randn(3,5)\n",
    "Y = randn(3,5)\n",
    "X .* Y"
   ]
  },
  {
   "cell_type": "markdown",
   "metadata": {},
   "source": [
    "各要素に関数を適用する場合にもドット演算子を用いることができる。"
   ]
  },
  {
   "cell_type": "code",
   "execution_count": 18,
   "metadata": {},
   "outputs": [
    {
     "data": {
      "text/plain": [
       "3×5 Array{Float64,2}:\n",
       "  0.686732  -1.15028  -2.21748   -0.0822121   1.16529  \n",
       "  0.507798  -1.8208    0.38658    2.66814     0.0480324\n",
       " -0.167692   1.47621   0.278711   1.97342    -0.272425 "
      ]
     },
     "execution_count": 18,
     "metadata": {},
     "output_type": "execute_result"
    }
   ],
   "source": [
    "X"
   ]
  },
  {
   "cell_type": "code",
   "execution_count": 19,
   "metadata": {},
   "outputs": [
    {
     "data": {
      "text/plain": [
       "3×5 Array{Float64,2}:\n",
       " 1.98721   0.316547  0.108884   0.921077  3.20685\n",
       " 1.66163   0.161896  1.47194   14.4131    1.0492 \n",
       " 0.845614  4.37631   1.32143    7.19524   0.76153"
      ]
     },
     "execution_count": 19,
     "metadata": {},
     "output_type": "execute_result"
    }
   ],
   "source": [
    "exp.(X)"
   ]
  },
  {
   "cell_type": "markdown",
   "metadata": {},
   "source": [
    "各要素を二乗する場合"
   ]
  },
  {
   "cell_type": "code",
   "execution_count": 20,
   "metadata": {},
   "outputs": [
    {
     "data": {
      "text/plain": [
       "3×5 Array{Float64,2}:\n",
       " 0.471601   1.32315  4.9172     0.00675883  1.3579    \n",
       " 0.257859   3.31532  0.149444   7.11897     0.00230711\n",
       " 0.0281207  2.17918  0.0776801  3.89439     0.0742155 "
      ]
     },
     "execution_count": 20,
     "metadata": {},
     "output_type": "execute_result"
    }
   ],
   "source": [
    "X.^2"
   ]
  },
  {
   "cell_type": "markdown",
   "metadata": {},
   "source": [
    "1/2乗で元に戻ることの確認"
   ]
  },
  {
   "cell_type": "code",
   "execution_count": 21,
   "metadata": {},
   "outputs": [
    {
     "data": {
      "text/plain": [
       "3×5 Array{Float64,2}:\n",
       " 0.686732  1.15028  2.21748   0.0822121  1.16529  \n",
       " 0.507798  1.8208   0.38658   2.66814    0.0480324\n",
       " 0.167692  1.47621  0.278711  1.97342    0.272425 "
      ]
     },
     "execution_count": 21,
     "metadata": {},
     "output_type": "execute_result"
    }
   ],
   "source": [
    "(X.^2).^(1/2)"
   ]
  },
  {
   "cell_type": "markdown",
   "metadata": {},
   "source": [
    "自作関数を適用する場合"
   ]
  },
  {
   "cell_type": "code",
   "execution_count": 22,
   "metadata": {},
   "outputs": [
    {
     "data": {
      "text/plain": [
       "f (generic function with 1 method)"
      ]
     },
     "execution_count": 22,
     "metadata": {},
     "output_type": "execute_result"
    }
   ],
   "source": [
    "f(x) = 1.0 + x + x^2/2 + x^3/factorial(3)"
   ]
  },
  {
   "cell_type": "code",
   "execution_count": 23,
   "metadata": {},
   "outputs": [
    {
     "data": {
      "text/plain": [
       "3×5 Array{Float64,2}:\n",
       " 1.97651    0.257626  -0.576172   0.921075  3.10797 \n",
       " 1.65855   -0.169232   1.47093   10.3934    1.0492  \n",
       " 0.845582   4.10195    1.32116    6.20149   0.761313"
      ]
     },
     "execution_count": 23,
     "metadata": {},
     "output_type": "execute_result"
    }
   ],
   "source": [
    "f.(X)"
   ]
  }
 ],
 "metadata": {
  "kernelspec": {
   "display_name": "Julia 1.3.1",
   "language": "julia",
   "name": "julia-1.3"
  },
  "language_info": {
   "file_extension": ".jl",
   "mimetype": "application/julia",
   "name": "julia",
   "version": "1.3.1"
  }
 },
 "nbformat": 4,
 "nbformat_minor": 4
}
