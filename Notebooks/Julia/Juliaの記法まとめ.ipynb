{
 "cells": [
  {
   "cell_type": "markdown",
   "metadata": {},
   "source": [
    "# 数値計算"
   ]
  },
  {
   "cell_type": "markdown",
   "metadata": {},
   "source": [
    "べき乗は^演算子を用いる。TeXの記法と同じです。"
   ]
  },
  {
   "cell_type": "code",
   "execution_count": 1,
   "metadata": {},
   "outputs": [
    {
     "data": {
      "text/plain": [
       "1024"
      ]
     },
     "execution_count": 1,
     "metadata": {},
     "output_type": "execute_result"
    }
   ],
   "source": [
    "2^10"
   ]
  },
  {
   "cell_type": "markdown",
   "metadata": {},
   "source": [
    "# 配列の初期化\n",
    "## 0で初期化した配列を作る"
   ]
  },
  {
   "cell_type": "code",
   "execution_count": 2,
   "metadata": {},
   "outputs": [
    {
     "data": {
      "text/plain": [
       "5-element Array{Float64,1}:\n",
       " 0.0\n",
       " 0.0\n",
       " 0.0\n",
       " 0.0\n",
       " 0.0"
      ]
     },
     "execution_count": 2,
     "metadata": {},
     "output_type": "execute_result"
    }
   ],
   "source": [
    "x = zeros(5)"
   ]
  },
  {
   "cell_type": "code",
   "execution_count": 3,
   "metadata": {},
   "outputs": [
    {
     "data": {
      "text/plain": [
       "3×5 Array{Float64,2}:\n",
       " 0.0  0.0  0.0  0.0  0.0\n",
       " 0.0  0.0  0.0  0.0  0.0\n",
       " 0.0  0.0  0.0  0.0  0.0"
      ]
     },
     "execution_count": 3,
     "metadata": {},
     "output_type": "execute_result"
    }
   ],
   "source": [
    "X = zeros(3,5)"
   ]
  },
  {
   "cell_type": "markdown",
   "metadata": {},
   "source": [
    "## 乱数がセットされた配列を得る"
   ]
  },
  {
   "cell_type": "code",
   "execution_count": 4,
   "metadata": {},
   "outputs": [
    {
     "data": {
      "text/plain": [
       "5-element Array{Float64,1}:\n",
       " 0.5234858000972897  \n",
       " 0.19455144243481826 \n",
       " 0.1569502548341435  \n",
       " 0.012190729024491143\n",
       " 0.46051113163086566 "
      ]
     },
     "execution_count": 4,
     "metadata": {},
     "output_type": "execute_result"
    }
   ],
   "source": [
    "x = rand(5)"
   ]
  },
  {
   "cell_type": "code",
   "execution_count": 5,
   "metadata": {},
   "outputs": [
    {
     "data": {
      "text/plain": [
       "3×5 Array{Float64,2}:\n",
       " 0.0562256  -0.555796  -0.99179    0.187646   0.692685\n",
       " 0.537727   -1.28742   -0.0411194  1.00428    2.29761 \n",
       " 0.791349    0.255813  -0.300968   1.05836   -2.10769 "
      ]
     },
     "execution_count": 5,
     "metadata": {},
     "output_type": "execute_result"
    }
   ],
   "source": [
    "x = randn(3,5)"
   ]
  },
  {
   "cell_type": "markdown",
   "metadata": {},
   "source": [
    "## 型とサイズを指定"
   ]
  },
  {
   "cell_type": "code",
   "execution_count": 6,
   "metadata": {},
   "outputs": [
    {
     "data": {
      "text/plain": [
       "5-element Array{Float64,1}:\n",
       " 5.399596e-316   \n",
       " 3.17727127e-315 \n",
       " 3.202997306e-315\n",
       " 0.0             \n",
       " 0.0             "
      ]
     },
     "execution_count": 6,
     "metadata": {},
     "output_type": "execute_result"
    }
   ],
   "source": [
    "x = Vector{Float64}(undef, 5)  #{Type}(undef, サイズ)  undefの場合初期化されない"
   ]
  },
  {
   "cell_type": "code",
   "execution_count": 7,
   "metadata": {},
   "outputs": [
    {
     "data": {
      "text/plain": [
       "2×3 Array{Float64,2}:\n",
       " 3.17902e-315  3.17902e-315  3.17902e-315\n",
       " 3.17902e-315  3.17902e-315  3.17902e-315"
      ]
     },
     "execution_count": 7,
     "metadata": {},
     "output_type": "execute_result"
    }
   ],
   "source": [
    "X = Array{Float64}(undef, 2, 3)"
   ]
  },
  {
   "cell_type": "markdown",
   "metadata": {},
   "source": [
    "## 空の配列に値を追加していく"
   ]
  },
  {
   "cell_type": "markdown",
   "metadata": {},
   "source": [
    "Juliaでは、**配列にpush!で値を追加できます**。確保している領域に空きがなくなると、新たに2倍の領域を確保して、元のデータがコピーされます。リスト（動的配列）のように使える、静的配列です。  \n",
    "[Julia - 配列の実装について](https://goropikari.hatenablog.com/entry/julia_array_implement)"
   ]
  },
  {
   "cell_type": "code",
   "execution_count": 8,
   "metadata": {},
   "outputs": [
    {
     "data": {
      "text/plain": [
       "0-element Array{Any,1}"
      ]
     },
     "execution_count": 8,
     "metadata": {},
     "output_type": "execute_result"
    }
   ],
   "source": [
    "x = []"
   ]
  },
  {
   "cell_type": "code",
   "execution_count": 9,
   "metadata": {},
   "outputs": [
    {
     "data": {
      "text/plain": [
       "5-element Array{Any,1}:\n",
       " -0.8876690063456179 \n",
       "  1.4198701462811019 \n",
       " -0.8182721509575773 \n",
       " -0.07069636545687535\n",
       "  0.41400293793669873"
      ]
     },
     "execution_count": 9,
     "metadata": {},
     "output_type": "execute_result"
    }
   ],
   "source": [
    "for i in 1:5\n",
    "    push!(x, randn())\n",
    "end\n",
    "x"
   ]
  },
  {
   "cell_type": "markdown",
   "metadata": {},
   "source": [
    "型を明示する場合"
   ]
  },
  {
   "cell_type": "code",
   "execution_count": 10,
   "metadata": {},
   "outputs": [
    {
     "data": {
      "text/plain": [
       "0-element Array{Float64,1}"
      ]
     },
     "execution_count": 10,
     "metadata": {},
     "output_type": "execute_result"
    }
   ],
   "source": [
    "x = Vector{Float64}(undef, 0)"
   ]
  },
  {
   "cell_type": "code",
   "execution_count": 11,
   "metadata": {},
   "outputs": [
    {
     "data": {
      "text/plain": [
       "5-element Array{Float64,1}:\n",
       " -3.2758414049085047\n",
       " -1.9320962509140776\n",
       "  0.2970066975541611\n",
       "  1.8715682429595797\n",
       "  0.707811512063105 "
      ]
     },
     "execution_count": 11,
     "metadata": {},
     "output_type": "execute_result"
    }
   ],
   "source": [
    "for i in 1:5\n",
    "    push!(x, randn())\n",
    "end\n",
    "x"
   ]
  },
  {
   "cell_type": "markdown",
   "metadata": {},
   "source": [
    "# 行列演算"
   ]
  },
  {
   "cell_type": "markdown",
   "metadata": {},
   "source": [
    "## 行列の演算子"
   ]
  },
  {
   "cell_type": "markdown",
   "metadata": {},
   "source": [
    "転置は'（プライム）"
   ]
  },
  {
   "cell_type": "code",
   "execution_count": 12,
   "metadata": {},
   "outputs": [
    {
     "data": {
      "text/plain": [
       "2×5 LinearAlgebra.Adjoint{Float64,Array{Float64,2}}:\n",
       " -0.658137   0.623209  0.358167   1.39925   -0.0680305\n",
       "  0.585652  -1.0926    0.493261  -0.523088  -1.88419  "
      ]
     },
     "execution_count": 12,
     "metadata": {},
     "output_type": "execute_result"
    }
   ],
   "source": [
    "X = randn(5,2)\n",
    "X'"
   ]
  },
  {
   "cell_type": "markdown",
   "metadata": {},
   "source": [
    "逆行列はinv"
   ]
  },
  {
   "cell_type": "code",
   "execution_count": 13,
   "metadata": {},
   "outputs": [
    {
     "data": {
      "text/plain": [
       "5×5 Array{Float64,2}:\n",
       "  0.191724    0.408692   -0.466866   -0.274715   -0.0384027\n",
       " -0.0843087  -0.323171   -0.0388304  -0.221998   -0.39508  \n",
       "  0.444429    0.453219    0.113448   -0.568479   -0.243403 \n",
       "  0.357031   -0.202174   -0.0523593  -0.0922051   0.101003 \n",
       " -0.0745804   0.0337382  -0.13079    -0.406335    0.170354 "
      ]
     },
     "execution_count": 13,
     "metadata": {},
     "output_type": "execute_result"
    }
   ],
   "source": [
    "X = randn(5,5)\n",
    "inv(X)"
   ]
  },
  {
   "cell_type": "markdown",
   "metadata": {},
   "source": [
    "行列式はLinearAlgebra.det"
   ]
  },
  {
   "cell_type": "code",
   "execution_count": 14,
   "metadata": {},
   "outputs": [
    {
     "data": {
      "text/plain": [
       "-21.753472370114608"
      ]
     },
     "execution_count": 14,
     "metadata": {},
     "output_type": "execute_result"
    }
   ],
   "source": [
    "using LinearAlgebra\n",
    "det(X)"
   ]
  },
  {
   "cell_type": "markdown",
   "metadata": {},
   "source": [
    "トレースはLinearAlgebra.tr"
   ]
  },
  {
   "cell_type": "code",
   "execution_count": 15,
   "metadata": {},
   "outputs": [
    {
     "data": {
      "text/plain": [
       "1.8725660269918392"
      ]
     },
     "execution_count": 15,
     "metadata": {},
     "output_type": "execute_result"
    }
   ],
   "source": [
    "tr(X)"
   ]
  },
  {
   "cell_type": "markdown",
   "metadata": {},
   "source": [
    "## 行列の積"
   ]
  },
  {
   "cell_type": "markdown",
   "metadata": {},
   "source": [
    "行列の積は*"
   ]
  },
  {
   "cell_type": "code",
   "execution_count": 16,
   "metadata": {},
   "outputs": [
    {
     "data": {
      "text/plain": [
       "3×3 Array{Float64,2}:\n",
       " -0.0952309  -1.84744    1.93132 \n",
       " -1.29173     3.99825    0.712802\n",
       " -0.568271    0.0501161  2.9021  "
      ]
     },
     "execution_count": 16,
     "metadata": {},
     "output_type": "execute_result"
    }
   ],
   "source": [
    "X = randn(3,5)\n",
    "Y = randn(5,3)\n",
    "X * Y"
   ]
  },
  {
   "cell_type": "markdown",
   "metadata": {},
   "source": [
    "## 要素ごとの演算"
   ]
  },
  {
   "cell_type": "markdown",
   "metadata": {},
   "source": [
    "Juliaではドット演算子で要素ごとの演算をbroadcastして効率的に計算してくれる。"
   ]
  },
  {
   "cell_type": "code",
   "execution_count": 17,
   "metadata": {},
   "outputs": [
    {
     "data": {
      "text/plain": [
       "3×5 Array{Float64,2}:\n",
       " 1.76955     -0.265579   2.94132    -1.24868    0.0143779\n",
       " 0.00398142   0.228647   0.266113   -0.257605  -0.6119   \n",
       " 1.32726     -0.524431  -0.0201093   0.21593   -0.531546 "
      ]
     },
     "execution_count": 17,
     "metadata": {},
     "output_type": "execute_result"
    }
   ],
   "source": [
    "X = randn(3,5)\n",
    "Y = randn(3,5)\n",
    "X .* Y"
   ]
  },
  {
   "cell_type": "markdown",
   "metadata": {},
   "source": [
    "各要素に関数を適用する場合にもドット演算子を用いることができる。"
   ]
  },
  {
   "cell_type": "code",
   "execution_count": 18,
   "metadata": {},
   "outputs": [
    {
     "data": {
      "text/plain": [
       "3×5 Array{Float64,2}:\n",
       " -0.868915   -1.27484   -2.38702    0.822604  -1.03152 \n",
       "  0.0255994   0.454375  -0.74087    0.202256   0.719959\n",
       " -1.72615    -0.901505  -0.0498689  0.78526    1.26994 "
      ]
     },
     "execution_count": 18,
     "metadata": {},
     "output_type": "execute_result"
    }
   ],
   "source": [
    "X"
   ]
  },
  {
   "cell_type": "code",
   "execution_count": 19,
   "metadata": {},
   "outputs": [
    {
     "data": {
      "text/plain": [
       "3×5 Array{Float64,2}:\n",
       " 0.419406  0.279477  0.0919033  2.27642  0.356464\n",
       " 1.02593   1.57519   0.476699   1.22416  2.05435 \n",
       " 0.177968  0.405958  0.951354   2.19298  3.56065 "
      ]
     },
     "execution_count": 19,
     "metadata": {},
     "output_type": "execute_result"
    }
   ],
   "source": [
    "exp.(X)"
   ]
  },
  {
   "cell_type": "markdown",
   "metadata": {},
   "source": [
    "各要素を二乗する場合"
   ]
  },
  {
   "cell_type": "code",
   "execution_count": 20,
   "metadata": {},
   "outputs": [
    {
     "data": {
      "text/plain": [
       "3×5 Array{Float64,2}:\n",
       " 0.755013     1.62521   5.69786     0.676677   1.06404\n",
       " 0.000655327  0.206457  0.548888    0.0409073  0.51834\n",
       " 2.97959      0.812711  0.00248691  0.616633   1.61275"
      ]
     },
     "execution_count": 20,
     "metadata": {},
     "output_type": "execute_result"
    }
   ],
   "source": [
    "X.^2"
   ]
  },
  {
   "cell_type": "markdown",
   "metadata": {},
   "source": [
    "1/2乗で元に戻ることの確認"
   ]
  },
  {
   "cell_type": "code",
   "execution_count": 21,
   "metadata": {},
   "outputs": [
    {
     "data": {
      "text/plain": [
       "3×5 Array{Float64,2}:\n",
       " 0.868915   1.27484   2.38702    0.822604  1.03152 \n",
       " 0.0255994  0.454375  0.74087    0.202256  0.719959\n",
       " 1.72615    0.901505  0.0498689  0.78526   1.26994 "
      ]
     },
     "execution_count": 21,
     "metadata": {},
     "output_type": "execute_result"
    }
   ],
   "source": [
    "(X.^2).^(1/2)"
   ]
  },
  {
   "cell_type": "markdown",
   "metadata": {},
   "source": [
    "自作関数を適用する場合"
   ]
  },
  {
   "cell_type": "code",
   "execution_count": 22,
   "metadata": {},
   "outputs": [
    {
     "data": {
      "text/plain": [
       "f (generic function with 1 method)"
      ]
     },
     "execution_count": 22,
     "metadata": {},
     "output_type": "execute_result"
    }
   ],
   "source": [
    "f(x) = 1.0 + x + x^2/2 + x^3/factorial(3)"
   ]
  },
  {
   "cell_type": "code",
   "execution_count": 23,
   "metadata": {},
   "outputs": [
    {
     "data": {
      "text/plain": [
       "3×5 Array{Float64,2}:\n",
       "  0.399251   0.192455  -0.804905  2.25371  0.317567\n",
       "  1.02593    1.57324    0.465798  1.22409  2.04133 \n",
       " -0.0935566  0.38274    0.951354  2.17428  3.41767 "
      ]
     },
     "execution_count": 23,
     "metadata": {},
     "output_type": "execute_result"
    }
   ],
   "source": [
    "f.(X)"
   ]
  },
  {
   "cell_type": "markdown",
   "metadata": {},
   "source": [
    "# DataFrame"
   ]
  },
  {
   "cell_type": "code",
   "execution_count": 42,
   "metadata": {},
   "outputs": [],
   "source": [
    "using DataFrames"
   ]
  },
  {
   "cell_type": "markdown",
   "metadata": {},
   "source": [
    "空のDataFrameを定義して、カラムを追加していく"
   ]
  },
  {
   "cell_type": "code",
   "execution_count": 35,
   "metadata": {},
   "outputs": [
    {
     "data": {
      "text/html": [
       "<table class=\"data-frame\"><thead><tr><th></th></tr><tr><th></th></tr></thead><tbody><p>0 rows × 0 columns</p></tbody></table>"
      ],
      "text/latex": [
       "\\begin{tabular}{r|}\n",
       "\t& \\\\\n",
       "\t\\hline\n",
       "\t& \\\\\n",
       "\t\\hline\n",
       "\\end{tabular}\n"
      ],
      "text/plain": [
       "0×0 DataFrame\n"
      ]
     },
     "execution_count": 35,
     "metadata": {},
     "output_type": "execute_result"
    }
   ],
   "source": [
    "df = DataFrame()"
   ]
  },
  {
   "cell_type": "code",
   "execution_count": 71,
   "metadata": {},
   "outputs": [
    {
     "data": {
      "text/plain": [
       "5-element Array{Float64,1}:\n",
       " 0.14530632161396295\n",
       " 0.23719901716938852\n",
       " 0.7255255814882302 \n",
       " 0.03822017982478676\n",
       " 0.6475762439919988 "
      ]
     },
     "execution_count": 71,
     "metadata": {},
     "output_type": "execute_result"
    }
   ],
   "source": [
    "df.A = [\"abc\", \"def\", \"ghi\", \"jkl\", \"mno\"]\n",
    "df.B = [2,1,1,2,2]\n",
    "df.C = [5.5, 6.6, 7.7, 8.8, 9.9]\n",
    "df.D = rand(5)"
   ]
  },
  {
   "cell_type": "markdown",
   "metadata": {},
   "source": [
    "first(df, 行数)"
   ]
  },
  {
   "cell_type": "code",
   "execution_count": 72,
   "metadata": {},
   "outputs": [
    {
     "data": {
      "text/html": [
       "<table class=\"data-frame\"><thead><tr><th></th><th>A</th><th>B</th><th>C</th><th>D</th><th>E</th></tr><tr><th></th><th>String</th><th>Int64</th><th>Float64</th><th>Float64</th><th>Float64</th></tr></thead><tbody><p>3 rows × 5 columns</p><tr><th>1</th><td>abc</td><td>2</td><td>5.5</td><td>0.145306</td><td>4.09771</td></tr><tr><th>2</th><td>def</td><td>1</td><td>6.6</td><td>0.237199</td><td>4.35607</td></tr><tr><th>3</th><td>ghi</td><td>1</td><td>7.7</td><td>0.725526</td><td>0.662319</td></tr></tbody></table>"
      ],
      "text/latex": [
       "\\begin{tabular}{r|ccccc}\n",
       "\t& A & B & C & D & E\\\\\n",
       "\t\\hline\n",
       "\t& String & Int64 & Float64 & Float64 & Float64\\\\\n",
       "\t\\hline\n",
       "\t1 & abc & 2 & 5.5 & 0.145306 & 4.09771 \\\\\n",
       "\t2 & def & 1 & 6.6 & 0.237199 & 4.35607 \\\\\n",
       "\t3 & ghi & 1 & 7.7 & 0.725526 & 0.662319 \\\\\n",
       "\\end{tabular}\n"
      ],
      "text/plain": [
       "3×5 DataFrame\n",
       "│ Row │ A      │ B     │ C       │ D        │ E        │\n",
       "│     │ \u001b[90mString\u001b[39m │ \u001b[90mInt64\u001b[39m │ \u001b[90mFloat64\u001b[39m │ \u001b[90mFloat64\u001b[39m  │ \u001b[90mFloat64\u001b[39m  │\n",
       "├─────┼────────┼───────┼─────────┼──────────┼──────────┤\n",
       "│ 1   │ abc    │ 2     │ 5.5     │ 0.145306 │ 4.09771  │\n",
       "│ 2   │ def    │ 1     │ 6.6     │ 0.237199 │ 4.35607  │\n",
       "│ 3   │ ghi    │ 1     │ 7.7     │ 0.725526 │ 0.662319 │"
      ]
     },
     "execution_count": 72,
     "metadata": {},
     "output_type": "execute_result"
    }
   ],
   "source": [
    "first(df, 3)"
   ]
  },
  {
   "cell_type": "markdown",
   "metadata": {},
   "source": [
    "summary(df)、describe(df)"
   ]
  },
  {
   "cell_type": "code",
   "execution_count": 73,
   "metadata": {},
   "outputs": [
    {
     "data": {
      "text/plain": [
       "\"5×5 DataFrame\""
      ]
     },
     "execution_count": 73,
     "metadata": {},
     "output_type": "execute_result"
    }
   ],
   "source": [
    "summary(df)"
   ]
  },
  {
   "cell_type": "code",
   "execution_count": 74,
   "metadata": {},
   "outputs": [
    {
     "data": {
      "text/html": [
       "<table class=\"data-frame\"><thead><tr><th></th><th>variable</th><th>mean</th><th>min</th><th>median</th><th>max</th><th>nunique</th><th>nmissing</th><th>eltype</th></tr><tr><th></th><th>Symbol</th><th>Union…</th><th>Any</th><th>Union…</th><th>Any</th><th>Union…</th><th>Nothing</th><th>DataType</th></tr></thead><tbody><p>5 rows × 8 columns</p><tr><th>1</th><td>A</td><td></td><td>abc</td><td></td><td>mno</td><td>5</td><td></td><td>String</td></tr><tr><th>2</th><td>B</td><td>1.6</td><td>1</td><td>2.0</td><td>2</td><td></td><td></td><td>Int64</td></tr><tr><th>3</th><td>C</td><td>7.7</td><td>5.5</td><td>7.7</td><td>9.9</td><td></td><td></td><td>Float64</td></tr><tr><th>4</th><td>D</td><td>0.358765</td><td>0.0382202</td><td>0.237199</td><td>0.725526</td><td></td><td></td><td>Float64</td></tr><tr><th>5</th><td>E</td><td>2.44912</td><td>0.662319</td><td>2.34014</td><td>4.35607</td><td></td><td></td><td>Float64</td></tr></tbody></table>"
      ],
      "text/latex": [
       "\\begin{tabular}{r|cccccccc}\n",
       "\t& variable & mean & min & median & max & nunique & nmissing & eltype\\\\\n",
       "\t\\hline\n",
       "\t& Symbol & Union… & Any & Union… & Any & Union… & Nothing & DataType\\\\\n",
       "\t\\hline\n",
       "\t1 & A &  & abc &  & mno & 5 &  & String \\\\\n",
       "\t2 & B & 1.6 & 1 & 2.0 & 2 &  &  & Int64 \\\\\n",
       "\t3 & C & 7.7 & 5.5 & 7.7 & 9.9 &  &  & Float64 \\\\\n",
       "\t4 & D & 0.358765 & 0.0382202 & 0.237199 & 0.725526 &  &  & Float64 \\\\\n",
       "\t5 & E & 2.44912 & 0.662319 & 2.34014 & 4.35607 &  &  & Float64 \\\\\n",
       "\\end{tabular}\n"
      ],
      "text/plain": [
       "5×8 DataFrame. Omitted printing of 2 columns\n",
       "│ Row │ variable │ mean     │ min       │ median   │ max      │ nunique │\n",
       "│     │ \u001b[90mSymbol\u001b[39m   │ \u001b[90mUnion…\u001b[39m   │ \u001b[90mAny\u001b[39m       │ \u001b[90mUnion…\u001b[39m   │ \u001b[90mAny\u001b[39m      │ \u001b[90mUnion…\u001b[39m  │\n",
       "├─────┼──────────┼──────────┼───────────┼──────────┼──────────┼─────────┤\n",
       "│ 1   │ A        │          │ abc       │          │ mno      │ 5       │\n",
       "│ 2   │ B        │ 1.6      │ 1         │ 2.0      │ 2        │         │\n",
       "│ 3   │ C        │ 7.7      │ 5.5       │ 7.7      │ 9.9      │         │\n",
       "│ 4   │ D        │ 0.358765 │ 0.0382202 │ 0.237199 │ 0.725526 │         │\n",
       "│ 5   │ E        │ 2.44912  │ 0.662319  │ 2.34014  │ 4.35607  │         │"
      ]
     },
     "execution_count": 74,
     "metadata": {},
     "output_type": "execute_result"
    }
   ],
   "source": [
    "describe(df)"
   ]
  },
  {
   "cell_type": "markdown",
   "metadata": {},
   "source": [
    "カラムを取り出すには df.カラム名  \n",
    "**JuliaのDataFrameは特別な型ではなく、各カラムはArrayで格納されている。**"
   ]
  },
  {
   "cell_type": "code",
   "execution_count": 68,
   "metadata": {},
   "outputs": [
    {
     "data": {
      "text/plain": [
       "5-element Array{Float64,1}:\n",
       " 0.14352460692363622\n",
       " 0.6208644113620145 \n",
       " 0.08601539381846424\n",
       " 0.26592487375741003\n",
       " 0.44000695430523895"
      ]
     },
     "execution_count": 68,
     "metadata": {},
     "output_type": "execute_result"
    }
   ],
   "source": [
    "df.D"
   ]
  },
  {
   "cell_type": "markdown",
   "metadata": {},
   "source": [
    "演算結果を新たにカラムに追加する場合"
   ]
  },
  {
   "cell_type": "code",
   "execution_count": 69,
   "metadata": {},
   "outputs": [
    {
     "data": {
      "text/plain": [
       "5-element Array{Float64,1}:\n",
       " 0.7893853380799992\n",
       " 4.097705114989296 \n",
       " 0.6623185324021746\n",
       " 2.3401388890652086\n",
       " 4.356068847621866 "
      ]
     },
     "execution_count": 69,
     "metadata": {},
     "output_type": "execute_result"
    }
   ],
   "source": [
    "df.E = @. df.C * df.D"
   ]
  },
  {
   "cell_type": "markdown",
   "metadata": {},
   "source": [
    "@.は以降の演算全てにドット演算子を適用するオペレータ"
   ]
  },
  {
   "cell_type": "markdown",
   "metadata": {},
   "source": [
    "## ソート"
   ]
  },
  {
   "cell_type": "code",
   "execution_count": 77,
   "metadata": {},
   "outputs": [
    {
     "data": {
      "text/html": [
       "<table class=\"data-frame\"><thead><tr><th></th><th>A</th><th>B</th><th>C</th><th>D</th><th>E</th></tr><tr><th></th><th>String</th><th>Int64</th><th>Float64</th><th>Float64</th><th>Float64</th></tr></thead><tbody><p>5 rows × 5 columns</p><tr><th>1</th><td>def</td><td>1</td><td>6.6</td><td>0.237199</td><td>4.35607</td></tr><tr><th>2</th><td>ghi</td><td>1</td><td>7.7</td><td>0.725526</td><td>0.662319</td></tr><tr><th>3</th><td>abc</td><td>2</td><td>5.5</td><td>0.145306</td><td>4.09771</td></tr><tr><th>4</th><td>jkl</td><td>2</td><td>8.8</td><td>0.0382202</td><td>2.34014</td></tr><tr><th>5</th><td>mno</td><td>2</td><td>9.9</td><td>0.647576</td><td>0.789385</td></tr></tbody></table>"
      ],
      "text/latex": [
       "\\begin{tabular}{r|ccccc}\n",
       "\t& A & B & C & D & E\\\\\n",
       "\t\\hline\n",
       "\t& String & Int64 & Float64 & Float64 & Float64\\\\\n",
       "\t\\hline\n",
       "\t1 & def & 1 & 6.6 & 0.237199 & 4.35607 \\\\\n",
       "\t2 & ghi & 1 & 7.7 & 0.725526 & 0.662319 \\\\\n",
       "\t3 & abc & 2 & 5.5 & 0.145306 & 4.09771 \\\\\n",
       "\t4 & jkl & 2 & 8.8 & 0.0382202 & 2.34014 \\\\\n",
       "\t5 & mno & 2 & 9.9 & 0.647576 & 0.789385 \\\\\n",
       "\\end{tabular}\n"
      ],
      "text/plain": [
       "5×5 DataFrame\n",
       "│ Row │ A      │ B     │ C       │ D         │ E        │\n",
       "│     │ \u001b[90mString\u001b[39m │ \u001b[90mInt64\u001b[39m │ \u001b[90mFloat64\u001b[39m │ \u001b[90mFloat64\u001b[39m   │ \u001b[90mFloat64\u001b[39m  │\n",
       "├─────┼────────┼───────┼─────────┼───────────┼──────────┤\n",
       "│ 1   │ def    │ 1     │ 6.6     │ 0.237199  │ 4.35607  │\n",
       "│ 2   │ ghi    │ 1     │ 7.7     │ 0.725526  │ 0.662319 │\n",
       "│ 3   │ abc    │ 2     │ 5.5     │ 0.145306  │ 4.09771  │\n",
       "│ 4   │ jkl    │ 2     │ 8.8     │ 0.0382202 │ 2.34014  │\n",
       "│ 5   │ mno    │ 2     │ 9.9     │ 0.647576  │ 0.789385 │"
      ]
     },
     "execution_count": 77,
     "metadata": {},
     "output_type": "execute_result"
    }
   ],
   "source": [
    "sort!(df, [:B, :A])"
   ]
  },
  {
   "cell_type": "markdown",
   "metadata": {},
   "source": [
    "## DataFrameのCSVへの書き出し、読み出し"
   ]
  },
  {
   "cell_type": "code",
   "execution_count": 78,
   "metadata": {},
   "outputs": [],
   "source": [
    "using CSV"
   ]
  },
  {
   "cell_type": "code",
   "execution_count": 79,
   "metadata": {},
   "outputs": [
    {
     "data": {
      "text/plain": [
       "\"test.csv\""
      ]
     },
     "execution_count": 79,
     "metadata": {},
     "output_type": "execute_result"
    }
   ],
   "source": [
    "df |> CSV.write(\"test.csv\", delim=',', writeheader=true)"
   ]
  },
  {
   "cell_type": "code",
   "execution_count": 80,
   "metadata": {},
   "outputs": [
    {
     "data": {
      "text/html": [
       "<table class=\"data-frame\"><thead><tr><th></th><th>A</th><th>B</th><th>C</th><th>D</th><th>E</th></tr><tr><th></th><th>String</th><th>Int64</th><th>Float64</th><th>Float64</th><th>Float64</th></tr></thead><tbody><p>5 rows × 5 columns</p><tr><th>1</th><td>def</td><td>1</td><td>6.6</td><td>0.237199</td><td>4.35607</td></tr><tr><th>2</th><td>ghi</td><td>1</td><td>7.7</td><td>0.725526</td><td>0.662319</td></tr><tr><th>3</th><td>abc</td><td>2</td><td>5.5</td><td>0.145306</td><td>4.09771</td></tr><tr><th>4</th><td>jkl</td><td>2</td><td>8.8</td><td>0.0382202</td><td>2.34014</td></tr><tr><th>5</th><td>mno</td><td>2</td><td>9.9</td><td>0.647576</td><td>0.789385</td></tr></tbody></table>"
      ],
      "text/latex": [
       "\\begin{tabular}{r|ccccc}\n",
       "\t& A & B & C & D & E\\\\\n",
       "\t\\hline\n",
       "\t& String & Int64 & Float64 & Float64 & Float64\\\\\n",
       "\t\\hline\n",
       "\t1 & def & 1 & 6.6 & 0.237199 & 4.35607 \\\\\n",
       "\t2 & ghi & 1 & 7.7 & 0.725526 & 0.662319 \\\\\n",
       "\t3 & abc & 2 & 5.5 & 0.145306 & 4.09771 \\\\\n",
       "\t4 & jkl & 2 & 8.8 & 0.0382202 & 2.34014 \\\\\n",
       "\t5 & mno & 2 & 9.9 & 0.647576 & 0.789385 \\\\\n",
       "\\end{tabular}\n"
      ],
      "text/plain": [
       "5×5 DataFrame\n",
       "│ Row │ A      │ B     │ C       │ D         │ E        │\n",
       "│     │ \u001b[90mString\u001b[39m │ \u001b[90mInt64\u001b[39m │ \u001b[90mFloat64\u001b[39m │ \u001b[90mFloat64\u001b[39m   │ \u001b[90mFloat64\u001b[39m  │\n",
       "├─────┼────────┼───────┼─────────┼───────────┼──────────┤\n",
       "│ 1   │ def    │ 1     │ 6.6     │ 0.237199  │ 4.35607  │\n",
       "│ 2   │ ghi    │ 1     │ 7.7     │ 0.725526  │ 0.662319 │\n",
       "│ 3   │ abc    │ 2     │ 5.5     │ 0.145306  │ 4.09771  │\n",
       "│ 4   │ jkl    │ 2     │ 8.8     │ 0.0382202 │ 2.34014  │\n",
       "│ 5   │ mno    │ 2     │ 9.9     │ 0.647576  │ 0.789385 │"
      ]
     },
     "execution_count": 80,
     "metadata": {},
     "output_type": "execute_result"
    }
   ],
   "source": [
    "df2 = CSV.read(\"test.csv\")"
   ]
  },
  {
   "cell_type": "markdown",
   "metadata": {},
   "source": [
    "## DataFrameに対するQuery処理"
   ]
  },
  {
   "cell_type": "code",
   "execution_count": 76,
   "metadata": {},
   "outputs": [],
   "source": [
    "using DataFramesMeta"
   ]
  },
  {
   "cell_type": "code",
   "execution_count": 87,
   "metadata": {},
   "outputs": [
    {
     "data": {
      "text/html": [
       "<table class=\"data-frame\"><thead><tr><th></th><th>B</th><th>maxD</th><th>sumE</th></tr><tr><th></th><th>Int64</th><th>Float64</th><th>Float64</th></tr></thead><tbody><p>2 rows × 3 columns</p><tr><th>1</th><td>1</td><td>0.725526</td><td>5.01839</td></tr><tr><th>2</th><td>2</td><td>0.647576</td><td>7.22723</td></tr></tbody></table>"
      ],
      "text/latex": [
       "\\begin{tabular}{r|ccc}\n",
       "\t& B & maxD & sumE\\\\\n",
       "\t\\hline\n",
       "\t& Int64 & Float64 & Float64\\\\\n",
       "\t\\hline\n",
       "\t1 & 1 & 0.725526 & 5.01839 \\\\\n",
       "\t2 & 2 & 0.647576 & 7.22723 \\\\\n",
       "\\end{tabular}\n"
      ],
      "text/plain": [
       "2×3 DataFrame\n",
       "│ Row │ B     │ maxD     │ sumE    │\n",
       "│     │ \u001b[90mInt64\u001b[39m │ \u001b[90mFloat64\u001b[39m  │ \u001b[90mFloat64\u001b[39m │\n",
       "├─────┼───────┼──────────┼─────────┤\n",
       "│ 1   │ 1     │ 0.725526 │ 5.01839 │\n",
       "│ 2   │ 2     │ 0.647576 │ 7.22723 │"
      ]
     },
     "execution_count": 87,
     "metadata": {},
     "output_type": "execute_result"
    }
   ],
   "source": [
    "res = @linq df |>\n",
    "    by([:B], maxD=maximum(:D), sumE=sum(:E)) |>  #GroupB\n",
    "    transform(F = :C + :maxD + :sumE)\n",
    "    select(:B, :maxD, :sumE) |>\n",
    "    orderby(:B)"
   ]
  },
  {
   "cell_type": "markdown",
   "metadata": {},
   "source": [
    "# SQL"
   ]
  },
  {
   "cell_type": "code",
   "execution_count": 88,
   "metadata": {},
   "outputs": [],
   "source": [
    "using SQLite"
   ]
  },
  {
   "cell_type": "code",
   "execution_count": 89,
   "metadata": {},
   "outputs": [
    {
     "data": {
      "text/plain": [
       "SQLite.DB(\"test.db\")"
      ]
     },
     "execution_count": 89,
     "metadata": {},
     "output_type": "execute_result"
    }
   ],
   "source": [
    "db = SQLite.DB(\"test.db\")"
   ]
  },
  {
   "cell_type": "code",
   "execution_count": 93,
   "metadata": {},
   "outputs": [
    {
     "data": {
      "text/plain": [
       "(name = [\"test\"],)"
      ]
     },
     "execution_count": 93,
     "metadata": {},
     "output_type": "execute_result"
    }
   ],
   "source": [
    "SQLite.tables(db)"
   ]
  },
  {
   "cell_type": "markdown",
   "metadata": {},
   "source": [
    "createtable!などの個別メソッドも用意されているものの、DBInterface.execute(db, query)でクエリを直接書いた方がわかりやすい気がする。"
   ]
  },
  {
   "cell_type": "code",
   "execution_count": 96,
   "metadata": {},
   "outputs": [
    {
     "data": {
      "text/plain": [
       "SQLite.Query(SQLite.Stmt(SQLite.DB(\"test.db\"), Ptr{Nothing} @0x0000000038015b98, Dict{Int64,Any}(), 101), Base.RefValue{Int32}(101), Symbol[], Type[], Dict{Symbol,Int64}())"
      ]
     },
     "execution_count": 96,
     "metadata": {},
     "output_type": "execute_result"
    }
   ],
   "source": [
    "DBInterface.execute(db, \"\n",
    "    CREATE TABLE IF NOT EXISTS\n",
    "        test(\n",
    "            id INTEGER PRIMARY KEY,\n",
    "            name TEXT NOT NULL,\n",
    "            age INTEGER NOT NULL\n",
    "        )\n",
    "\")"
   ]
  },
  {
   "cell_type": "code",
   "execution_count": 98,
   "metadata": {},
   "outputs": [
    {
     "data": {
      "text/plain": [
       "SQLite.Query(SQLite.Stmt(SQLite.DB(\"test.db\"), Ptr{Nothing} @0x0000000041528d58, Dict{Int64,Any}(), 101), Base.RefValue{Int32}(101), Symbol[], Type[], Dict{Symbol,Int64}())"
      ]
     },
     "execution_count": 98,
     "metadata": {},
     "output_type": "execute_result"
    }
   ],
   "source": [
    "DBInterface.execute(db, \"\n",
    "    INSERT INTO test\n",
    "        VALUES(\n",
    "            1,\n",
    "            'Yamada',\n",
    "            39\n",
    "        )\n",
    "\")"
   ]
  },
  {
   "cell_type": "code",
   "execution_count": 100,
   "metadata": {},
   "outputs": [
    {
     "data": {
      "text/plain": [
       "SQLite.Query(SQLite.Stmt(SQLite.DB(\"test.db\"), Ptr{Nothing} @0x00000000415275e8, Dict{Int64,Any}(), 101), Base.RefValue{Int32}(101), Symbol[], Type[], Dict{Symbol,Int64}())"
      ]
     },
     "execution_count": 100,
     "metadata": {},
     "output_type": "execute_result"
    }
   ],
   "source": [
    "DBInterface.execute(db, \"\n",
    "    INSERT INTO test\n",
    "        VALUES(\n",
    "            2,\n",
    "            'Suzuki',\n",
    "            26\n",
    "        )\n",
    "\")"
   ]
  },
  {
   "cell_type": "code",
   "execution_count": 101,
   "metadata": {},
   "outputs": [
    {
     "data": {
      "text/plain": [
       "SQLite.Query(SQLite.Stmt(SQLite.DB(\"test.db\"), Ptr{Nothing} @0x0000000041526c88, Dict{Int64,Any}(), 101), Base.RefValue{Int32}(101), Symbol[], Type[], Dict{Symbol,Int64}())"
      ]
     },
     "execution_count": 101,
     "metadata": {},
     "output_type": "execute_result"
    }
   ],
   "source": [
    "DBInterface.execute(db, \"\n",
    "    INSERT INTO test\n",
    "        VALUES(\n",
    "            3,\n",
    "            'Tanaka',\n",
    "            43\n",
    "        )\n",
    "\")"
   ]
  },
  {
   "cell_type": "markdown",
   "metadata": {},
   "source": [
    "SELECTの結果をDataFrameで受け取る"
   ]
  },
  {
   "cell_type": "code",
   "execution_count": 102,
   "metadata": {},
   "outputs": [
    {
     "data": {
      "text/html": [
       "<table class=\"data-frame\"><thead><tr><th></th><th>id</th><th>name</th><th>age</th></tr><tr><th></th><th>Int64</th><th>String</th><th>Int64</th></tr></thead><tbody><p>3 rows × 3 columns</p><tr><th>1</th><td>1</td><td>Yamada</td><td>39</td></tr><tr><th>2</th><td>2</td><td>Suzuki</td><td>26</td></tr><tr><th>3</th><td>3</td><td>Tanaka</td><td>43</td></tr></tbody></table>"
      ],
      "text/latex": [
       "\\begin{tabular}{r|ccc}\n",
       "\t& id & name & age\\\\\n",
       "\t\\hline\n",
       "\t& Int64 & String & Int64\\\\\n",
       "\t\\hline\n",
       "\t1 & 1 & Yamada & 39 \\\\\n",
       "\t2 & 2 & Suzuki & 26 \\\\\n",
       "\t3 & 3 & Tanaka & 43 \\\\\n",
       "\\end{tabular}\n"
      ],
      "text/plain": [
       "3×3 DataFrame\n",
       "│ Row │ id    │ name   │ age   │\n",
       "│     │ \u001b[90mInt64\u001b[39m │ \u001b[90mString\u001b[39m │ \u001b[90mInt64\u001b[39m │\n",
       "├─────┼───────┼────────┼───────┤\n",
       "│ 1   │ 1     │ Yamada │ 39    │\n",
       "│ 2   │ 2     │ Suzuki │ 26    │\n",
       "│ 3   │ 3     │ Tanaka │ 43    │"
      ]
     },
     "execution_count": 102,
     "metadata": {},
     "output_type": "execute_result"
    }
   ],
   "source": [
    "res = DBInterface.execute(db, \"\n",
    "    SELECT\n",
    "        *\n",
    "    FROM\n",
    "        test\n",
    "\") |> DataFrame"
   ]
  },
  {
   "cell_type": "code",
   "execution_count": 103,
   "metadata": {},
   "outputs": [
    {
     "data": {
      "text/html": [
       "<table class=\"data-frame\"><thead><tr><th></th><th>variable</th><th>mean</th><th>min</th><th>median</th><th>max</th><th>nunique</th><th>nmissing</th><th>eltype</th></tr><tr><th></th><th>Symbol</th><th>Union…</th><th>Any</th><th>Union…</th><th>Any</th><th>Union…</th><th>Nothing</th><th>DataType</th></tr></thead><tbody><p>3 rows × 8 columns</p><tr><th>1</th><td>id</td><td>2.0</td><td>1</td><td>2.0</td><td>3</td><td></td><td></td><td>Int64</td></tr><tr><th>2</th><td>name</td><td></td><td>Suzuki</td><td></td><td>Yamada</td><td>3</td><td></td><td>String</td></tr><tr><th>3</th><td>age</td><td>36.0</td><td>26</td><td>39.0</td><td>43</td><td></td><td></td><td>Int64</td></tr></tbody></table>"
      ],
      "text/latex": [
       "\\begin{tabular}{r|cccccccc}\n",
       "\t& variable & mean & min & median & max & nunique & nmissing & eltype\\\\\n",
       "\t\\hline\n",
       "\t& Symbol & Union… & Any & Union… & Any & Union… & Nothing & DataType\\\\\n",
       "\t\\hline\n",
       "\t1 & id & 2.0 & 1 & 2.0 & 3 &  &  & Int64 \\\\\n",
       "\t2 & name &  & Suzuki &  & Yamada & 3 &  & String \\\\\n",
       "\t3 & age & 36.0 & 26 & 39.0 & 43 &  &  & Int64 \\\\\n",
       "\\end{tabular}\n"
      ],
      "text/plain": [
       "3×8 DataFrame. Omitted printing of 1 columns\n",
       "│ Row │ variable │ mean   │ min    │ median │ max    │ nunique │ nmissing │\n",
       "│     │ \u001b[90mSymbol\u001b[39m   │ \u001b[90mUnion…\u001b[39m │ \u001b[90mAny\u001b[39m    │ \u001b[90mUnion…\u001b[39m │ \u001b[90mAny\u001b[39m    │ \u001b[90mUnion…\u001b[39m  │ \u001b[90mNothing\u001b[39m  │\n",
       "├─────┼──────────┼────────┼────────┼────────┼────────┼─────────┼──────────┤\n",
       "│ 1   │ id       │ 2.0    │ 1      │ 2.0    │ 3      │         │          │\n",
       "│ 2   │ name     │        │ Suzuki │        │ Yamada │ 3       │          │\n",
       "│ 3   │ age      │ 36.0   │ 26     │ 39.0   │ 43     │         │          │"
      ]
     },
     "execution_count": 103,
     "metadata": {},
     "output_type": "execute_result"
    }
   ],
   "source": [
    "describe(res)"
   ]
  },
  {
   "cell_type": "code",
   "execution_count": null,
   "metadata": {},
   "outputs": [],
   "source": []
  }
 ],
 "metadata": {
  "kernelspec": {
   "display_name": "Julia 1.3.1",
   "language": "julia",
   "name": "julia-1.3"
  },
  "language_info": {
   "file_extension": ".jl",
   "mimetype": "application/julia",
   "name": "julia",
   "version": "1.3.1"
  }
 },
 "nbformat": 4,
 "nbformat_minor": 4
}
