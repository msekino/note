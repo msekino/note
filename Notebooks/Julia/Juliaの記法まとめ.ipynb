{
 "cells": [
  {
   "cell_type": "markdown",
   "metadata": {},
   "source": [
    "# 数値計算"
   ]
  },
  {
   "cell_type": "markdown",
   "metadata": {},
   "source": [
    "べき乗は^演算子を用いる。TeXの記法と同じです。"
   ]
  },
  {
   "cell_type": "code",
   "execution_count": 1,
   "metadata": {},
   "outputs": [
    {
     "data": {
      "text/plain": [
       "1024"
      ]
     },
     "execution_count": 1,
     "metadata": {},
     "output_type": "execute_result"
    }
   ],
   "source": [
    "2^10"
   ]
  },
  {
   "cell_type": "markdown",
   "metadata": {},
   "source": [
    "# 配列の初期化\n",
    "## 0で初期化した配列を作る"
   ]
  },
  {
   "cell_type": "code",
   "execution_count": 2,
   "metadata": {},
   "outputs": [
    {
     "data": {
      "text/plain": [
       "5-element Array{Float64,1}:\n",
       " 0.0\n",
       " 0.0\n",
       " 0.0\n",
       " 0.0\n",
       " 0.0"
      ]
     },
     "execution_count": 2,
     "metadata": {},
     "output_type": "execute_result"
    }
   ],
   "source": [
    "x = zeros(5)"
   ]
  },
  {
   "cell_type": "code",
   "execution_count": 3,
   "metadata": {},
   "outputs": [
    {
     "data": {
      "text/plain": [
       "3×5 Array{Float64,2}:\n",
       " 0.0  0.0  0.0  0.0  0.0\n",
       " 0.0  0.0  0.0  0.0  0.0\n",
       " 0.0  0.0  0.0  0.0  0.0"
      ]
     },
     "execution_count": 3,
     "metadata": {},
     "output_type": "execute_result"
    }
   ],
   "source": [
    "X = zeros(3,5)"
   ]
  },
  {
   "cell_type": "markdown",
   "metadata": {},
   "source": [
    "## 乱数がセットされた配列を得る"
   ]
  },
  {
   "cell_type": "markdown",
   "metadata": {},
   "source": [
    "[0,1)の一様分布からの乱数"
   ]
  },
  {
   "cell_type": "code",
   "execution_count": 4,
   "metadata": {},
   "outputs": [
    {
     "data": {
      "text/plain": [
       "5-element Array{Float64,1}:\n",
       " 0.3436758677602165\n",
       " 0.7890123505056188\n",
       " 0.8378061847995544\n",
       " 0.9234298855432035\n",
       " 0.7085727114294085"
      ]
     },
     "execution_count": 4,
     "metadata": {},
     "output_type": "execute_result"
    }
   ],
   "source": [
    "x = rand(5)"
   ]
  },
  {
   "cell_type": "markdown",
   "metadata": {},
   "source": [
    "標準正規分布から生成"
   ]
  },
  {
   "cell_type": "code",
   "execution_count": 5,
   "metadata": {},
   "outputs": [
    {
     "data": {
      "text/plain": [
       "3×5 Array{Float64,2}:\n",
       " 0.128382  -0.253082  -1.08487     0.473291    1.33333 \n",
       " 0.609169  -0.564848   0.00291817  1.94113    -0.715567\n",
       " 1.53582   -0.215529  -0.776332    0.0941686  -0.207186"
      ]
     },
     "execution_count": 5,
     "metadata": {},
     "output_type": "execute_result"
    }
   ],
   "source": [
    "x = randn(3,5)"
   ]
  },
  {
   "cell_type": "markdown",
   "metadata": {},
   "source": [
    "## 型とサイズを指定"
   ]
  },
  {
   "cell_type": "code",
   "execution_count": 6,
   "metadata": {},
   "outputs": [
    {
     "data": {
      "text/plain": [
       "5-element Array{Float64,1}:\n",
       " 0.0     \n",
       " 5.0e-324\n",
       " 5.0e-324\n",
       " 5.0e-324\n",
       " 0.0     "
      ]
     },
     "execution_count": 6,
     "metadata": {},
     "output_type": "execute_result"
    }
   ],
   "source": [
    "x = Vector{Float64}(undef, 5)  #{Type}(undef, サイズ)  undefの場合初期化されない"
   ]
  },
  {
   "cell_type": "code",
   "execution_count": 7,
   "metadata": {},
   "outputs": [
    {
     "data": {
      "text/plain": [
       "2×3 Array{Float64,2}:\n",
       " 1.52721e-315  1.52721e-315  1.52721e-315\n",
       " 1.52721e-315  1.52721e-315  1.51123e-315"
      ]
     },
     "execution_count": 7,
     "metadata": {},
     "output_type": "execute_result"
    }
   ],
   "source": [
    "X = Array{Float64}(undef, 2, 3)"
   ]
  },
  {
   "cell_type": "markdown",
   "metadata": {},
   "source": [
    "## 空の配列に値を追加していく"
   ]
  },
  {
   "cell_type": "markdown",
   "metadata": {},
   "source": [
    "Juliaでは、**配列にpush!で値を追加できます**。確保している領域に空きがなくなると、新たに2倍の領域を確保して、元のデータがコピーされます。リスト（動的配列）のように使える、静的配列です。  \n",
    "[Julia - 配列の実装について](https://goropikari.hatenablog.com/entry/julia_array_implement)"
   ]
  },
  {
   "cell_type": "code",
   "execution_count": 8,
   "metadata": {},
   "outputs": [
    {
     "data": {
      "text/plain": [
       "0-element Array{Any,1}"
      ]
     },
     "execution_count": 8,
     "metadata": {},
     "output_type": "execute_result"
    }
   ],
   "source": [
    "x = []"
   ]
  },
  {
   "cell_type": "code",
   "execution_count": 9,
   "metadata": {},
   "outputs": [
    {
     "data": {
      "text/plain": [
       "5-element Array{Any,1}:\n",
       "  0.48505791826339795\n",
       " -0.4831493367196783 \n",
       " -1.323186332075967  \n",
       "  0.4160725241511637 \n",
       "  2.034186295032699  "
      ]
     },
     "execution_count": 9,
     "metadata": {},
     "output_type": "execute_result"
    }
   ],
   "source": [
    "for i in 1:5\n",
    "    push!(x, randn())\n",
    "end\n",
    "x"
   ]
  },
  {
   "cell_type": "markdown",
   "metadata": {},
   "source": [
    "型を明示する場合"
   ]
  },
  {
   "cell_type": "code",
   "execution_count": 10,
   "metadata": {},
   "outputs": [
    {
     "data": {
      "text/plain": [
       "0-element Array{Float64,1}"
      ]
     },
     "execution_count": 10,
     "metadata": {},
     "output_type": "execute_result"
    }
   ],
   "source": [
    "x = Vector{Float64}(undef, 0)"
   ]
  },
  {
   "cell_type": "code",
   "execution_count": 11,
   "metadata": {},
   "outputs": [
    {
     "data": {
      "text/plain": [
       "5-element Array{Float64,1}:\n",
       " -1.0311982495942953 \n",
       "  0.43377570761826295\n",
       "  0.8416054161302576 \n",
       " -0.9408239259567001 \n",
       "  1.0769799807458917 "
      ]
     },
     "execution_count": 11,
     "metadata": {},
     "output_type": "execute_result"
    }
   ],
   "source": [
    "for i in 1:5\n",
    "    push!(x, randn())\n",
    "end\n",
    "x"
   ]
  },
  {
   "cell_type": "markdown",
   "metadata": {},
   "source": [
    "# 行列演算"
   ]
  },
  {
   "cell_type": "markdown",
   "metadata": {},
   "source": [
    "## 行列の演算子"
   ]
  },
  {
   "cell_type": "markdown",
   "metadata": {},
   "source": [
    "転置は'（プライム）"
   ]
  },
  {
   "cell_type": "code",
   "execution_count": 12,
   "metadata": {},
   "outputs": [
    {
     "data": {
      "text/plain": [
       "2×5 LinearAlgebra.Adjoint{Float64,Array{Float64,2}}:\n",
       " 0.125353  -0.348557   -0.550579  0.907719  -1.05802 \n",
       " 0.69061    0.0144218  -0.839682  0.579043   0.424488"
      ]
     },
     "execution_count": 12,
     "metadata": {},
     "output_type": "execute_result"
    }
   ],
   "source": [
    "X = randn(5,2)\n",
    "X'"
   ]
  },
  {
   "cell_type": "markdown",
   "metadata": {},
   "source": [
    "逆行列はinv"
   ]
  },
  {
   "cell_type": "code",
   "execution_count": 13,
   "metadata": {},
   "outputs": [
    {
     "data": {
      "text/plain": [
       "5×5 Array{Float64,2}:\n",
       " -0.674462   0.964614  0.138814  -0.0965425  -0.00617559\n",
       " -0.58338    0.135778  0.368629   0.296462    1.04379   \n",
       " -1.10129    0.422299  0.210391   0.0531611   1.07117   \n",
       " -0.657775   0.613483  0.262985   0.0795641  -0.413172  \n",
       "  0.806834  -0.315562  0.190504  -0.573869   -0.576539  "
      ]
     },
     "execution_count": 13,
     "metadata": {},
     "output_type": "execute_result"
    }
   ],
   "source": [
    "X = randn(5,5)\n",
    "inv(X)"
   ]
  },
  {
   "cell_type": "markdown",
   "metadata": {},
   "source": [
    "行列式はLinearAlgebra.det"
   ]
  },
  {
   "cell_type": "code",
   "execution_count": 14,
   "metadata": {},
   "outputs": [
    {
     "data": {
      "text/plain": [
       "6.268256185660456"
      ]
     },
     "execution_count": 14,
     "metadata": {},
     "output_type": "execute_result"
    }
   ],
   "source": [
    "using LinearAlgebra\n",
    "det(X)"
   ]
  },
  {
   "cell_type": "markdown",
   "metadata": {},
   "source": [
    "トレースはLinearAlgebra.tr"
   ]
  },
  {
   "cell_type": "code",
   "execution_count": 15,
   "metadata": {},
   "outputs": [
    {
     "data": {
      "text/plain": [
       "1.816289738202393"
      ]
     },
     "execution_count": 15,
     "metadata": {},
     "output_type": "execute_result"
    }
   ],
   "source": [
    "tr(X)"
   ]
  },
  {
   "cell_type": "markdown",
   "metadata": {},
   "source": [
    "## 行列の積"
   ]
  },
  {
   "cell_type": "markdown",
   "metadata": {},
   "source": [
    "行列の積は*"
   ]
  },
  {
   "cell_type": "code",
   "execution_count": 16,
   "metadata": {},
   "outputs": [
    {
     "data": {
      "text/plain": [
       "3×3 Array{Float64,2}:\n",
       "  3.65084   -1.71225    1.19353 \n",
       " -0.850031   0.884335   0.931988\n",
       " -3.17776    1.58577   -0.84558 "
      ]
     },
     "execution_count": 16,
     "metadata": {},
     "output_type": "execute_result"
    }
   ],
   "source": [
    "X = randn(3,5)\n",
    "Y = randn(5,3)\n",
    "X * Y"
   ]
  },
  {
   "cell_type": "markdown",
   "metadata": {},
   "source": [
    "## 要素ごとの演算"
   ]
  },
  {
   "cell_type": "markdown",
   "metadata": {},
   "source": [
    "Juliaではドット演算子で要素ごとの演算をbroadcastして効率的に計算してくれる。"
   ]
  },
  {
   "cell_type": "code",
   "execution_count": 17,
   "metadata": {},
   "outputs": [
    {
     "data": {
      "text/plain": [
       "3×5 Array{Float64,2}:\n",
       " -1.46833   -0.182993  -0.0172208   1.82119   0.156509\n",
       " -0.575683   0.370416  -1.46704    -1.55103  -0.144021\n",
       " -1.32182    4.0143    -0.0370846  -0.33965  -1.5281  "
      ]
     },
     "execution_count": 17,
     "metadata": {},
     "output_type": "execute_result"
    }
   ],
   "source": [
    "X = randn(3,5)\n",
    "Y = randn(3,5)\n",
    "X .* Y"
   ]
  },
  {
   "cell_type": "markdown",
   "metadata": {},
   "source": [
    "各要素に関数を適用する場合にもドット演算子を用いることができる。"
   ]
  },
  {
   "cell_type": "code",
   "execution_count": 18,
   "metadata": {},
   "outputs": [
    {
     "data": {
      "text/plain": [
       "3×5 Array{Float64,2}:\n",
       " -1.04629  -0.543322  0.196649  1.15802    0.270358\n",
       "  1.47791  -0.474713  1.49672   0.77691   -1.687   \n",
       " -1.42632  -4.09071   0.124758  0.114935  -1.16778 "
      ]
     },
     "execution_count": 18,
     "metadata": {},
     "output_type": "execute_result"
    }
   ],
   "source": [
    "X"
   ]
  },
  {
   "cell_type": "code",
   "execution_count": 19,
   "metadata": {},
   "outputs": [
    {
     "data": {
      "text/plain": [
       "3×5 Array{Float64,2}:\n",
       " 0.351239  0.580815   1.21732  3.18361  1.31043 \n",
       " 4.38379   0.622064   4.46702  2.17474  0.185074\n",
       " 0.240192  0.0167273  1.13287  1.1218   0.311058"
      ]
     },
     "execution_count": 19,
     "metadata": {},
     "output_type": "execute_result"
    }
   ],
   "source": [
    "exp.(X)"
   ]
  },
  {
   "cell_type": "markdown",
   "metadata": {},
   "source": [
    "各要素を二乗する場合"
   ]
  },
  {
   "cell_type": "code",
   "execution_count": 20,
   "metadata": {},
   "outputs": [
    {
     "data": {
      "text/plain": [
       "3×5 Array{Float64,2}:\n",
       " 1.09472   0.295199  0.038671   1.341      0.0730936\n",
       " 2.18423   0.225352  2.24017    0.60359    2.84597  \n",
       " 2.03438  16.7339    0.0155646  0.0132101  1.3637   "
      ]
     },
     "execution_count": 20,
     "metadata": {},
     "output_type": "execute_result"
    }
   ],
   "source": [
    "X.^2"
   ]
  },
  {
   "cell_type": "markdown",
   "metadata": {},
   "source": [
    "1/2乗で元の行列の絶対値になることの確認"
   ]
  },
  {
   "cell_type": "code",
   "execution_count": 21,
   "metadata": {},
   "outputs": [
    {
     "data": {
      "text/plain": [
       "3×5 Array{Float64,2}:\n",
       " 1.04629  0.543322  0.196649  1.15802   0.270358\n",
       " 1.47791  0.474713  1.49672   0.77691   1.687   \n",
       " 1.42632  4.09071   0.124758  0.114935  1.16778 "
      ]
     },
     "execution_count": 21,
     "metadata": {},
     "output_type": "execute_result"
    }
   ],
   "source": [
    "(X.^2).^(1/2)"
   ]
  },
  {
   "cell_type": "markdown",
   "metadata": {},
   "source": [
    "自作関数を適用する場合"
   ]
  },
  {
   "cell_type": "code",
   "execution_count": 22,
   "metadata": {},
   "outputs": [
    {
     "data": {
      "text/plain": [
       "f (generic function with 1 method)"
      ]
     },
     "execution_count": 22,
     "metadata": {},
     "output_type": "execute_result"
    }
   ],
   "source": [
    "f(x) = 1.0 + x + x^2/2 + x^3/factorial(3)"
   ]
  },
  {
   "cell_type": "code",
   "execution_count": 23,
   "metadata": {},
   "outputs": [
    {
     "data": {
      "text/plain": [
       "3×5 Array{Float64,2}:\n",
       " 0.310173   0.577546  1.21725  3.08734   1.3102   \n",
       " 4.10805    0.620134  4.17563  2.15686  -0.0642066\n",
       " 0.107261  -6.13269   1.13286  1.12179   0.248658 "
      ]
     },
     "execution_count": 23,
     "metadata": {},
     "output_type": "execute_result"
    }
   ],
   "source": [
    "f.(X)"
   ]
  },
  {
   "cell_type": "markdown",
   "metadata": {},
   "source": [
    "# DataFrame"
   ]
  },
  {
   "cell_type": "code",
   "execution_count": 24,
   "metadata": {},
   "outputs": [],
   "source": [
    "using DataFrames"
   ]
  },
  {
   "cell_type": "markdown",
   "metadata": {},
   "source": [
    "空のDataFrameを定義して、カラムを追加していく"
   ]
  },
  {
   "cell_type": "code",
   "execution_count": 25,
   "metadata": {},
   "outputs": [
    {
     "data": {
      "text/html": [
       "<table class=\"data-frame\"><thead><tr><th></th></tr><tr><th></th></tr></thead><tbody><p>0 rows × 0 columns</p></tbody></table>"
      ],
      "text/latex": [
       "\\begin{tabular}{r|}\n",
       "\t& \\\\\n",
       "\t\\hline\n",
       "\t& \\\\\n",
       "\t\\hline\n",
       "\\end{tabular}\n"
      ],
      "text/plain": [
       "0×0 DataFrame\n"
      ]
     },
     "execution_count": 25,
     "metadata": {},
     "output_type": "execute_result"
    }
   ],
   "source": [
    "df = DataFrame()"
   ]
  },
  {
   "cell_type": "code",
   "execution_count": 26,
   "metadata": {},
   "outputs": [
    {
     "data": {
      "text/plain": [
       "5-element Array{Float64,1}:\n",
       " 0.2987274294333715 \n",
       " 0.7825858666460808 \n",
       " 0.03755414728246609\n",
       " 0.5115793116232719 \n",
       " 0.6745891613919339 "
      ]
     },
     "execution_count": 26,
     "metadata": {},
     "output_type": "execute_result"
    }
   ],
   "source": [
    "df.A = [\"abc\", \"def\", \"ghi\", \"jkl\", \"mno\"]\n",
    "df.B = [2,1,1,2,2]\n",
    "df.C = [5.5, 6.6, 7.7, 8.8, 9.9]\n",
    "df.D = rand(5)"
   ]
  },
  {
   "cell_type": "markdown",
   "metadata": {},
   "source": [
    "first(df, 行数)"
   ]
  },
  {
   "cell_type": "code",
   "execution_count": 27,
   "metadata": {},
   "outputs": [
    {
     "data": {
      "text/html": [
       "<table class=\"data-frame\"><thead><tr><th></th><th>A</th><th>B</th><th>C</th><th>D</th></tr><tr><th></th><th>String</th><th>Int64</th><th>Float64</th><th>Float64</th></tr></thead><tbody><p>3 rows × 4 columns</p><tr><th>1</th><td>abc</td><td>2</td><td>5.5</td><td>0.298727</td></tr><tr><th>2</th><td>def</td><td>1</td><td>6.6</td><td>0.782586</td></tr><tr><th>3</th><td>ghi</td><td>1</td><td>7.7</td><td>0.0375541</td></tr></tbody></table>"
      ],
      "text/latex": [
       "\\begin{tabular}{r|cccc}\n",
       "\t& A & B & C & D\\\\\n",
       "\t\\hline\n",
       "\t& String & Int64 & Float64 & Float64\\\\\n",
       "\t\\hline\n",
       "\t1 & abc & 2 & 5.5 & 0.298727 \\\\\n",
       "\t2 & def & 1 & 6.6 & 0.782586 \\\\\n",
       "\t3 & ghi & 1 & 7.7 & 0.0375541 \\\\\n",
       "\\end{tabular}\n"
      ],
      "text/plain": [
       "3×4 DataFrame\n",
       "│ Row │ A      │ B     │ C       │ D         │\n",
       "│     │ \u001b[90mString\u001b[39m │ \u001b[90mInt64\u001b[39m │ \u001b[90mFloat64\u001b[39m │ \u001b[90mFloat64\u001b[39m   │\n",
       "├─────┼────────┼───────┼─────────┼───────────┤\n",
       "│ 1   │ abc    │ 2     │ 5.5     │ 0.298727  │\n",
       "│ 2   │ def    │ 1     │ 6.6     │ 0.782586  │\n",
       "│ 3   │ ghi    │ 1     │ 7.7     │ 0.0375541 │"
      ]
     },
     "execution_count": 27,
     "metadata": {},
     "output_type": "execute_result"
    }
   ],
   "source": [
    "first(df, 3)"
   ]
  },
  {
   "cell_type": "markdown",
   "metadata": {},
   "source": [
    "summary(df)、describe(df)"
   ]
  },
  {
   "cell_type": "code",
   "execution_count": 28,
   "metadata": {},
   "outputs": [
    {
     "data": {
      "text/plain": [
       "\"5×4 DataFrame\""
      ]
     },
     "execution_count": 28,
     "metadata": {},
     "output_type": "execute_result"
    }
   ],
   "source": [
    "summary(df)"
   ]
  },
  {
   "cell_type": "code",
   "execution_count": 29,
   "metadata": {},
   "outputs": [
    {
     "data": {
      "text/html": [
       "<table class=\"data-frame\"><thead><tr><th></th><th>variable</th><th>mean</th><th>min</th><th>median</th><th>max</th><th>nunique</th><th>nmissing</th><th>eltype</th></tr><tr><th></th><th>Symbol</th><th>Union…</th><th>Any</th><th>Union…</th><th>Any</th><th>Union…</th><th>Nothing</th><th>DataType</th></tr></thead><tbody><p>4 rows × 8 columns</p><tr><th>1</th><td>A</td><td></td><td>abc</td><td></td><td>mno</td><td>5</td><td></td><td>String</td></tr><tr><th>2</th><td>B</td><td>1.6</td><td>1</td><td>2.0</td><td>2</td><td></td><td></td><td>Int64</td></tr><tr><th>3</th><td>C</td><td>7.7</td><td>5.5</td><td>7.7</td><td>9.9</td><td></td><td></td><td>Float64</td></tr><tr><th>4</th><td>D</td><td>0.461007</td><td>0.0375541</td><td>0.511579</td><td>0.782586</td><td></td><td></td><td>Float64</td></tr></tbody></table>"
      ],
      "text/latex": [
       "\\begin{tabular}{r|cccccccc}\n",
       "\t& variable & mean & min & median & max & nunique & nmissing & eltype\\\\\n",
       "\t\\hline\n",
       "\t& Symbol & Union… & Any & Union… & Any & Union… & Nothing & DataType\\\\\n",
       "\t\\hline\n",
       "\t1 & A &  & abc &  & mno & 5 &  & String \\\\\n",
       "\t2 & B & 1.6 & 1 & 2.0 & 2 &  &  & Int64 \\\\\n",
       "\t3 & C & 7.7 & 5.5 & 7.7 & 9.9 &  &  & Float64 \\\\\n",
       "\t4 & D & 0.461007 & 0.0375541 & 0.511579 & 0.782586 &  &  & Float64 \\\\\n",
       "\\end{tabular}\n"
      ],
      "text/plain": [
       "4×8 DataFrame. Omitted printing of 2 columns\n",
       "│ Row │ variable │ mean     │ min       │ median   │ max      │ nunique │\n",
       "│     │ \u001b[90mSymbol\u001b[39m   │ \u001b[90mUnion…\u001b[39m   │ \u001b[90mAny\u001b[39m       │ \u001b[90mUnion…\u001b[39m   │ \u001b[90mAny\u001b[39m      │ \u001b[90mUnion…\u001b[39m  │\n",
       "├─────┼──────────┼──────────┼───────────┼──────────┼──────────┼─────────┤\n",
       "│ 1   │ A        │          │ abc       │          │ mno      │ 5       │\n",
       "│ 2   │ B        │ 1.6      │ 1         │ 2.0      │ 2        │         │\n",
       "│ 3   │ C        │ 7.7      │ 5.5       │ 7.7      │ 9.9      │         │\n",
       "│ 4   │ D        │ 0.461007 │ 0.0375541 │ 0.511579 │ 0.782586 │         │"
      ]
     },
     "execution_count": 29,
     "metadata": {},
     "output_type": "execute_result"
    }
   ],
   "source": [
    "describe(df)"
   ]
  },
  {
   "cell_type": "markdown",
   "metadata": {},
   "source": [
    "カラムを取り出すには df.カラム名  \n",
    "**JuliaのDataFrameは特別な型ではなく、各カラムはArrayで格納されている。**"
   ]
  },
  {
   "cell_type": "code",
   "execution_count": 30,
   "metadata": {},
   "outputs": [
    {
     "data": {
      "text/plain": [
       "5-element Array{Float64,1}:\n",
       " 0.2987274294333715 \n",
       " 0.7825858666460808 \n",
       " 0.03755414728246609\n",
       " 0.5115793116232719 \n",
       " 0.6745891613919339 "
      ]
     },
     "execution_count": 30,
     "metadata": {},
     "output_type": "execute_result"
    }
   ],
   "source": [
    "df.D"
   ]
  },
  {
   "cell_type": "markdown",
   "metadata": {},
   "source": [
    "演算結果を新たにカラムに追加する場合"
   ]
  },
  {
   "cell_type": "code",
   "execution_count": 31,
   "metadata": {},
   "outputs": [
    {
     "data": {
      "text/plain": [
       "5-element Array{Float64,1}:\n",
       " 1.6430008618835432\n",
       " 5.165066719864133 \n",
       " 0.2891669340749889\n",
       " 4.501897942284793 \n",
       " 6.6784326977801465"
      ]
     },
     "execution_count": 31,
     "metadata": {},
     "output_type": "execute_result"
    }
   ],
   "source": [
    "df.E = @. df.C * df.D"
   ]
  },
  {
   "cell_type": "markdown",
   "metadata": {},
   "source": [
    "@.は以降の演算全てにドット演算子を適用するオペレータ"
   ]
  },
  {
   "cell_type": "markdown",
   "metadata": {},
   "source": [
    "## ソート"
   ]
  },
  {
   "cell_type": "code",
   "execution_count": 32,
   "metadata": {},
   "outputs": [
    {
     "data": {
      "text/html": [
       "<table class=\"data-frame\"><thead><tr><th></th><th>A</th><th>B</th><th>C</th><th>D</th><th>E</th></tr><tr><th></th><th>String</th><th>Int64</th><th>Float64</th><th>Float64</th><th>Float64</th></tr></thead><tbody><p>5 rows × 5 columns</p><tr><th>1</th><td>def</td><td>1</td><td>6.6</td><td>0.782586</td><td>5.16507</td></tr><tr><th>2</th><td>ghi</td><td>1</td><td>7.7</td><td>0.0375541</td><td>0.289167</td></tr><tr><th>3</th><td>abc</td><td>2</td><td>5.5</td><td>0.298727</td><td>1.643</td></tr><tr><th>4</th><td>jkl</td><td>2</td><td>8.8</td><td>0.511579</td><td>4.5019</td></tr><tr><th>5</th><td>mno</td><td>2</td><td>9.9</td><td>0.674589</td><td>6.67843</td></tr></tbody></table>"
      ],
      "text/latex": [
       "\\begin{tabular}{r|ccccc}\n",
       "\t& A & B & C & D & E\\\\\n",
       "\t\\hline\n",
       "\t& String & Int64 & Float64 & Float64 & Float64\\\\\n",
       "\t\\hline\n",
       "\t1 & def & 1 & 6.6 & 0.782586 & 5.16507 \\\\\n",
       "\t2 & ghi & 1 & 7.7 & 0.0375541 & 0.289167 \\\\\n",
       "\t3 & abc & 2 & 5.5 & 0.298727 & 1.643 \\\\\n",
       "\t4 & jkl & 2 & 8.8 & 0.511579 & 4.5019 \\\\\n",
       "\t5 & mno & 2 & 9.9 & 0.674589 & 6.67843 \\\\\n",
       "\\end{tabular}\n"
      ],
      "text/plain": [
       "5×5 DataFrame\n",
       "│ Row │ A      │ B     │ C       │ D         │ E        │\n",
       "│     │ \u001b[90mString\u001b[39m │ \u001b[90mInt64\u001b[39m │ \u001b[90mFloat64\u001b[39m │ \u001b[90mFloat64\u001b[39m   │ \u001b[90mFloat64\u001b[39m  │\n",
       "├─────┼────────┼───────┼─────────┼───────────┼──────────┤\n",
       "│ 1   │ def    │ 1     │ 6.6     │ 0.782586  │ 5.16507  │\n",
       "│ 2   │ ghi    │ 1     │ 7.7     │ 0.0375541 │ 0.289167 │\n",
       "│ 3   │ abc    │ 2     │ 5.5     │ 0.298727  │ 1.643    │\n",
       "│ 4   │ jkl    │ 2     │ 8.8     │ 0.511579  │ 4.5019   │\n",
       "│ 5   │ mno    │ 2     │ 9.9     │ 0.674589  │ 6.67843  │"
      ]
     },
     "execution_count": 32,
     "metadata": {},
     "output_type": "execute_result"
    }
   ],
   "source": [
    "sort!(df, [:B, :A])"
   ]
  },
  {
   "cell_type": "markdown",
   "metadata": {},
   "source": [
    "## DataFrameのCSVへの書き出し、読み出し"
   ]
  },
  {
   "cell_type": "code",
   "execution_count": 33,
   "metadata": {},
   "outputs": [],
   "source": [
    "using CSV"
   ]
  },
  {
   "cell_type": "code",
   "execution_count": 34,
   "metadata": {},
   "outputs": [
    {
     "data": {
      "text/plain": [
       "\"test.csv\""
      ]
     },
     "execution_count": 34,
     "metadata": {},
     "output_type": "execute_result"
    }
   ],
   "source": [
    "df |> CSV.write(\"test.csv\", delim=',', writeheader=true)"
   ]
  },
  {
   "cell_type": "code",
   "execution_count": 35,
   "metadata": {},
   "outputs": [
    {
     "data": {
      "text/html": [
       "<table class=\"data-frame\"><thead><tr><th></th><th>A</th><th>B</th><th>C</th><th>D</th><th>E</th></tr><tr><th></th><th>String</th><th>Int64</th><th>Float64</th><th>Float64</th><th>Float64</th></tr></thead><tbody><p>5 rows × 5 columns</p><tr><th>1</th><td>def</td><td>1</td><td>6.6</td><td>0.782586</td><td>5.16507</td></tr><tr><th>2</th><td>ghi</td><td>1</td><td>7.7</td><td>0.0375541</td><td>0.289167</td></tr><tr><th>3</th><td>abc</td><td>2</td><td>5.5</td><td>0.298727</td><td>1.643</td></tr><tr><th>4</th><td>jkl</td><td>2</td><td>8.8</td><td>0.511579</td><td>4.5019</td></tr><tr><th>5</th><td>mno</td><td>2</td><td>9.9</td><td>0.674589</td><td>6.67843</td></tr></tbody></table>"
      ],
      "text/latex": [
       "\\begin{tabular}{r|ccccc}\n",
       "\t& A & B & C & D & E\\\\\n",
       "\t\\hline\n",
       "\t& String & Int64 & Float64 & Float64 & Float64\\\\\n",
       "\t\\hline\n",
       "\t1 & def & 1 & 6.6 & 0.782586 & 5.16507 \\\\\n",
       "\t2 & ghi & 1 & 7.7 & 0.0375541 & 0.289167 \\\\\n",
       "\t3 & abc & 2 & 5.5 & 0.298727 & 1.643 \\\\\n",
       "\t4 & jkl & 2 & 8.8 & 0.511579 & 4.5019 \\\\\n",
       "\t5 & mno & 2 & 9.9 & 0.674589 & 6.67843 \\\\\n",
       "\\end{tabular}\n"
      ],
      "text/plain": [
       "5×5 DataFrame\n",
       "│ Row │ A      │ B     │ C       │ D         │ E        │\n",
       "│     │ \u001b[90mString\u001b[39m │ \u001b[90mInt64\u001b[39m │ \u001b[90mFloat64\u001b[39m │ \u001b[90mFloat64\u001b[39m   │ \u001b[90mFloat64\u001b[39m  │\n",
       "├─────┼────────┼───────┼─────────┼───────────┼──────────┤\n",
       "│ 1   │ def    │ 1     │ 6.6     │ 0.782586  │ 5.16507  │\n",
       "│ 2   │ ghi    │ 1     │ 7.7     │ 0.0375541 │ 0.289167 │\n",
       "│ 3   │ abc    │ 2     │ 5.5     │ 0.298727  │ 1.643    │\n",
       "│ 4   │ jkl    │ 2     │ 8.8     │ 0.511579  │ 4.5019   │\n",
       "│ 5   │ mno    │ 2     │ 9.9     │ 0.674589  │ 6.67843  │"
      ]
     },
     "execution_count": 35,
     "metadata": {},
     "output_type": "execute_result"
    }
   ],
   "source": [
    "df2 = CSV.read(\"test.csv\")"
   ]
  },
  {
   "cell_type": "markdown",
   "metadata": {},
   "source": [
    "## DataFrameに対するQuery処理"
   ]
  },
  {
   "cell_type": "markdown",
   "metadata": {},
   "source": [
    "### 条件式による行の抽出"
   ]
  },
  {
   "cell_type": "code",
   "execution_count": 36,
   "metadata": {},
   "outputs": [
    {
     "data": {
      "text/html": [
       "<table class=\"data-frame\"><thead><tr><th></th><th>A</th><th>B</th><th>C</th><th>D</th><th>E</th></tr><tr><th></th><th>String</th><th>Int64</th><th>Float64</th><th>Float64</th><th>Float64</th></tr></thead><tbody><p>2 rows × 5 columns</p><tr><th>1</th><td>def</td><td>1</td><td>6.6</td><td>0.782586</td><td>5.16507</td></tr><tr><th>2</th><td>ghi</td><td>1</td><td>7.7</td><td>0.0375541</td><td>0.289167</td></tr></tbody></table>"
      ],
      "text/latex": [
       "\\begin{tabular}{r|ccccc}\n",
       "\t& A & B & C & D & E\\\\\n",
       "\t\\hline\n",
       "\t& String & Int64 & Float64 & Float64 & Float64\\\\\n",
       "\t\\hline\n",
       "\t1 & def & 1 & 6.6 & 0.782586 & 5.16507 \\\\\n",
       "\t2 & ghi & 1 & 7.7 & 0.0375541 & 0.289167 \\\\\n",
       "\\end{tabular}\n"
      ],
      "text/plain": [
       "2×5 DataFrame\n",
       "│ Row │ A      │ B     │ C       │ D         │ E        │\n",
       "│     │ \u001b[90mString\u001b[39m │ \u001b[90mInt64\u001b[39m │ \u001b[90mFloat64\u001b[39m │ \u001b[90mFloat64\u001b[39m   │ \u001b[90mFloat64\u001b[39m  │\n",
       "├─────┼────────┼───────┼─────────┼───────────┼──────────┤\n",
       "│ 1   │ def    │ 1     │ 6.6     │ 0.782586  │ 5.16507  │\n",
       "│ 2   │ ghi    │ 1     │ 7.7     │ 0.0375541 │ 0.289167 │"
      ]
     },
     "execution_count": 36,
     "metadata": {},
     "output_type": "execute_result"
    }
   ],
   "source": [
    "df[df.B .== 1,:]"
   ]
  },
  {
   "cell_type": "markdown",
   "metadata": {},
   "source": [
    "### DataFramesMetaを用いたパイプラインによるQuery処理"
   ]
  },
  {
   "cell_type": "code",
   "execution_count": 37,
   "metadata": {},
   "outputs": [],
   "source": [
    "using DataFramesMeta"
   ]
  },
  {
   "cell_type": "code",
   "execution_count": 38,
   "metadata": {},
   "outputs": [
    {
     "data": {
      "text/html": [
       "<table class=\"data-frame\"><thead><tr><th></th><th>B</th><th>maxD</th><th>sumE</th><th>F</th></tr><tr><th></th><th>Int64</th><th>Float64</th><th>Float64</th><th>Float64</th></tr></thead><tbody><p>2 rows × 4 columns</p><tr><th>1</th><td>1</td><td>0.782586</td><td>5.45423</td><td>6.23682</td></tr><tr><th>2</th><td>2</td><td>0.674589</td><td>12.8233</td><td>13.4979</td></tr></tbody></table>"
      ],
      "text/latex": [
       "\\begin{tabular}{r|cccc}\n",
       "\t& B & maxD & sumE & F\\\\\n",
       "\t\\hline\n",
       "\t& Int64 & Float64 & Float64 & Float64\\\\\n",
       "\t\\hline\n",
       "\t1 & 1 & 0.782586 & 5.45423 & 6.23682 \\\\\n",
       "\t2 & 2 & 0.674589 & 12.8233 & 13.4979 \\\\\n",
       "\\end{tabular}\n"
      ],
      "text/plain": [
       "2×4 DataFrame\n",
       "│ Row │ B     │ maxD     │ sumE    │ F       │\n",
       "│     │ \u001b[90mInt64\u001b[39m │ \u001b[90mFloat64\u001b[39m  │ \u001b[90mFloat64\u001b[39m │ \u001b[90mFloat64\u001b[39m │\n",
       "├─────┼───────┼──────────┼─────────┼─────────┤\n",
       "│ 1   │ 1     │ 0.782586 │ 5.45423 │ 6.23682 │\n",
       "│ 2   │ 2     │ 0.674589 │ 12.8233 │ 13.4979 │"
      ]
     },
     "execution_count": 38,
     "metadata": {},
     "output_type": "execute_result"
    }
   ],
   "source": [
    "res = @linq df |>\n",
    "    by([:B], maxD=maximum(:D), sumE=sum(:E)) |>   #GROUP BYで集計\n",
    "    transform(F = :maxD + :sumE) |>               #演算結果で新たなカラムを作る\n",
    "    select(:B, :maxD, :sumE, :F) |>\n",
    "    orderby(:B)"
   ]
  },
  {
   "cell_type": "markdown",
   "metadata": {},
   "source": [
    "# SQL"
   ]
  },
  {
   "cell_type": "code",
   "execution_count": 39,
   "metadata": {},
   "outputs": [],
   "source": [
    "using SQLite"
   ]
  },
  {
   "cell_type": "code",
   "execution_count": 40,
   "metadata": {},
   "outputs": [
    {
     "data": {
      "text/plain": [
       "SQLite.DB(\"test.db\")"
      ]
     },
     "execution_count": 40,
     "metadata": {},
     "output_type": "execute_result"
    }
   ],
   "source": [
    "db = SQLite.DB(\"test.db\")"
   ]
  },
  {
   "cell_type": "markdown",
   "metadata": {},
   "source": [
    "テーブル一覧取得"
   ]
  },
  {
   "cell_type": "code",
   "execution_count": 41,
   "metadata": {},
   "outputs": [
    {
     "data": {
      "text/plain": [
       "(name = [\"test\"],)"
      ]
     },
     "execution_count": 41,
     "metadata": {},
     "output_type": "execute_result"
    }
   ],
   "source": [
    "SQLite.tables(db)"
   ]
  },
  {
   "cell_type": "markdown",
   "metadata": {},
   "source": [
    "テーブルのdrop"
   ]
  },
  {
   "cell_type": "code",
   "execution_count": 42,
   "metadata": {},
   "outputs": [
    {
     "data": {
      "text/plain": [
       "SQLite.Query(SQLite.Stmt(SQLite.DB(\"test.db\"), Ptr{Nothing} @0x000000003989f818, Dict{Int64,Any}(), 101), Base.RefValue{Int32}(101), Symbol[], Type[], Dict{Symbol,Int64}())"
      ]
     },
     "execution_count": 42,
     "metadata": {},
     "output_type": "execute_result"
    }
   ],
   "source": [
    "DBInterface.execute(db, \"\n",
    "    DROP TABLE IF EXISTS\n",
    "        test\n",
    "\")"
   ]
  },
  {
   "cell_type": "markdown",
   "metadata": {},
   "source": [
    "createtable!などの個別メソッドも用意されているものの、DBInterface.execute(db, query)でクエリを直接書いた方がわかりやすい気がする。"
   ]
  },
  {
   "cell_type": "code",
   "execution_count": 43,
   "metadata": {},
   "outputs": [
    {
     "data": {
      "text/plain": [
       "SQLite.Query(SQLite.Stmt(SQLite.DB(\"test.db\"), Ptr{Nothing} @0x0000000020279408, Dict{Int64,Any}(), 101), Base.RefValue{Int32}(101), Symbol[], Type[], Dict{Symbol,Int64}())"
      ]
     },
     "execution_count": 43,
     "metadata": {},
     "output_type": "execute_result"
    }
   ],
   "source": [
    "DBInterface.execute(db, \"\n",
    "    CREATE TABLE IF NOT EXISTS\n",
    "        test(\n",
    "            id INTEGER PRIMARY KEY,\n",
    "            name TEXT NOT NULL,\n",
    "            age INTEGER NOT NULL\n",
    "        )\n",
    "\")"
   ]
  },
  {
   "cell_type": "code",
   "execution_count": 44,
   "metadata": {},
   "outputs": [
    {
     "data": {
      "text/plain": [
       "SQLite.Query(SQLite.Stmt(SQLite.DB(\"test.db\"), Ptr{Nothing} @0x000000003989dbf8, Dict{Int64,Any}(), 101), Base.RefValue{Int32}(101), Symbol[], Type[], Dict{Symbol,Int64}())"
      ]
     },
     "execution_count": 44,
     "metadata": {},
     "output_type": "execute_result"
    }
   ],
   "source": [
    "DBInterface.execute(db, \"\n",
    "    INSERT INTO test\n",
    "        VALUES(\n",
    "            1,\n",
    "            'Yamada',\n",
    "            39\n",
    "        )\n",
    "\")"
   ]
  },
  {
   "cell_type": "code",
   "execution_count": 45,
   "metadata": {},
   "outputs": [
    {
     "data": {
      "text/plain": [
       "SQLite.Query(SQLite.Stmt(SQLite.DB(\"test.db\"), Ptr{Nothing} @0x000000003989e558, Dict{Int64,Any}(), 101), Base.RefValue{Int32}(101), Symbol[], Type[], Dict{Symbol,Int64}())"
      ]
     },
     "execution_count": 45,
     "metadata": {},
     "output_type": "execute_result"
    }
   ],
   "source": [
    "DBInterface.execute(db, \"\n",
    "    INSERT INTO test\n",
    "        VALUES(\n",
    "            2,\n",
    "            'Suzuki',\n",
    "            26\n",
    "        )\n",
    "\")"
   ]
  },
  {
   "cell_type": "code",
   "execution_count": 46,
   "metadata": {},
   "outputs": [
    {
     "data": {
      "text/plain": [
       "SQLite.Query(SQLite.Stmt(SQLite.DB(\"test.db\"), Ptr{Nothing} @0x000000003989d748, Dict{Int64,Any}(), 101), Base.RefValue{Int32}(101), Symbol[], Type[], Dict{Symbol,Int64}())"
      ]
     },
     "execution_count": 46,
     "metadata": {},
     "output_type": "execute_result"
    }
   ],
   "source": [
    "DBInterface.execute(db, \"\n",
    "    INSERT INTO test\n",
    "        VALUES(\n",
    "            3,\n",
    "            'Tanaka',\n",
    "            43\n",
    "        )\n",
    "\")"
   ]
  },
  {
   "cell_type": "markdown",
   "metadata": {},
   "source": [
    "SELECTの結果をDataFrameで受け取る"
   ]
  },
  {
   "cell_type": "code",
   "execution_count": 47,
   "metadata": {},
   "outputs": [
    {
     "data": {
      "text/html": [
       "<table class=\"data-frame\"><thead><tr><th></th><th>id</th><th>name</th><th>age</th></tr><tr><th></th><th>Int64</th><th>String</th><th>Int64</th></tr></thead><tbody><p>3 rows × 3 columns</p><tr><th>1</th><td>1</td><td>Yamada</td><td>39</td></tr><tr><th>2</th><td>2</td><td>Suzuki</td><td>26</td></tr><tr><th>3</th><td>3</td><td>Tanaka</td><td>43</td></tr></tbody></table>"
      ],
      "text/latex": [
       "\\begin{tabular}{r|ccc}\n",
       "\t& id & name & age\\\\\n",
       "\t\\hline\n",
       "\t& Int64 & String & Int64\\\\\n",
       "\t\\hline\n",
       "\t1 & 1 & Yamada & 39 \\\\\n",
       "\t2 & 2 & Suzuki & 26 \\\\\n",
       "\t3 & 3 & Tanaka & 43 \\\\\n",
       "\\end{tabular}\n"
      ],
      "text/plain": [
       "3×3 DataFrame\n",
       "│ Row │ id    │ name   │ age   │\n",
       "│     │ \u001b[90mInt64\u001b[39m │ \u001b[90mString\u001b[39m │ \u001b[90mInt64\u001b[39m │\n",
       "├─────┼───────┼────────┼───────┤\n",
       "│ 1   │ 1     │ Yamada │ 39    │\n",
       "│ 2   │ 2     │ Suzuki │ 26    │\n",
       "│ 3   │ 3     │ Tanaka │ 43    │"
      ]
     },
     "execution_count": 47,
     "metadata": {},
     "output_type": "execute_result"
    }
   ],
   "source": [
    "res = DBInterface.execute(db, \"\n",
    "    SELECT\n",
    "        *\n",
    "    FROM\n",
    "        test\n",
    "\") |> DataFrame"
   ]
  }
 ],
 "metadata": {
  "kernelspec": {
   "display_name": "Julia 1.3.1",
   "language": "julia",
   "name": "julia-1.3"
  },
  "language_info": {
   "file_extension": ".jl",
   "mimetype": "application/julia",
   "name": "julia",
   "version": "1.3.1"
  }
 },
 "nbformat": 4,
 "nbformat_minor": 4
}
