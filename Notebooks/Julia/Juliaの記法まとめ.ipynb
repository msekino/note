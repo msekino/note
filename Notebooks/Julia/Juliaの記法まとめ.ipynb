{
 "cells": [
  {
   "cell_type": "markdown",
   "metadata": {},
   "source": [
    "# 数値計算"
   ]
  },
  {
   "cell_type": "markdown",
   "metadata": {},
   "source": [
    "べき乗は^演算子を用いる。TeXの記法と同じです。"
   ]
  },
  {
   "cell_type": "code",
   "execution_count": 1,
   "metadata": {},
   "outputs": [
    {
     "data": {
      "text/plain": [
       "1024"
      ]
     },
     "execution_count": 1,
     "metadata": {},
     "output_type": "execute_result"
    }
   ],
   "source": [
    "2^10"
   ]
  },
  {
   "cell_type": "markdown",
   "metadata": {},
   "source": [
    "# 配列の初期化\n",
    "## 0で初期化した配列を作る"
   ]
  },
  {
   "cell_type": "code",
   "execution_count": 2,
   "metadata": {},
   "outputs": [
    {
     "data": {
      "text/plain": [
       "5-element Array{Float64,1}:\n",
       " 0.0\n",
       " 0.0\n",
       " 0.0\n",
       " 0.0\n",
       " 0.0"
      ]
     },
     "execution_count": 2,
     "metadata": {},
     "output_type": "execute_result"
    }
   ],
   "source": [
    "x = zeros(5)"
   ]
  },
  {
   "cell_type": "code",
   "execution_count": 3,
   "metadata": {},
   "outputs": [
    {
     "data": {
      "text/plain": [
       "3×5 Array{Float64,2}:\n",
       " 0.0  0.0  0.0  0.0  0.0\n",
       " 0.0  0.0  0.0  0.0  0.0\n",
       " 0.0  0.0  0.0  0.0  0.0"
      ]
     },
     "execution_count": 3,
     "metadata": {},
     "output_type": "execute_result"
    }
   ],
   "source": [
    "X = zeros(3,5)"
   ]
  },
  {
   "cell_type": "markdown",
   "metadata": {},
   "source": [
    "## 乱数がセットされた配列を得る"
   ]
  },
  {
   "cell_type": "markdown",
   "metadata": {},
   "source": [
    "[0,1)の一様分布からの乱数"
   ]
  },
  {
   "cell_type": "code",
   "execution_count": 4,
   "metadata": {},
   "outputs": [
    {
     "data": {
      "text/plain": [
       "5-element Array{Float64,1}:\n",
       " 0.6298092233827697\n",
       " 0.585428099173906 \n",
       " 0.885460982620697 \n",
       " 0.627226587331859 \n",
       " 0.7166740216395819"
      ]
     },
     "execution_count": 4,
     "metadata": {},
     "output_type": "execute_result"
    }
   ],
   "source": [
    "x = rand(5)"
   ]
  },
  {
   "cell_type": "markdown",
   "metadata": {},
   "source": [
    "標準正規分布から生成"
   ]
  },
  {
   "cell_type": "code",
   "execution_count": 5,
   "metadata": {},
   "outputs": [
    {
     "data": {
      "text/plain": [
       "3×5 Array{Float64,2}:\n",
       " -0.658257  -0.594119  -0.621631   0.0526909   0.705025 \n",
       "  0.105708  -0.864288   1.79676   -1.89428    -1.95236  \n",
       " -0.992619   0.94995   -0.513313  -0.197456   -0.0630387"
      ]
     },
     "execution_count": 5,
     "metadata": {},
     "output_type": "execute_result"
    }
   ],
   "source": [
    "x = randn(3,5)"
   ]
  },
  {
   "cell_type": "markdown",
   "metadata": {},
   "source": [
    "## 型とサイズを指定"
   ]
  },
  {
   "cell_type": "code",
   "execution_count": 6,
   "metadata": {},
   "outputs": [
    {
     "data": {
      "text/plain": [
       "5-element Array{Float64,1}:\n",
       " 0.0     \n",
       " 5.0e-324\n",
       " 5.0e-324\n",
       " 5.0e-324\n",
       " 0.0     "
      ]
     },
     "execution_count": 6,
     "metadata": {},
     "output_type": "execute_result"
    }
   ],
   "source": [
    "x = Vector{Float64}(undef, 5)  #{Type}(undef, サイズ)  undefの場合初期化されない"
   ]
  },
  {
   "cell_type": "code",
   "execution_count": 7,
   "metadata": {},
   "outputs": [
    {
     "data": {
      "text/plain": [
       "2×3 Array{Float64,2}:\n",
       " 1.51653e-315  1.51653e-315  1.51653e-315\n",
       " 1.51653e-315  1.51653e-315  1.50054e-315"
      ]
     },
     "execution_count": 7,
     "metadata": {},
     "output_type": "execute_result"
    }
   ],
   "source": [
    "X = Array{Float64}(undef, 2, 3)"
   ]
  },
  {
   "cell_type": "markdown",
   "metadata": {},
   "source": [
    "## 空の配列に値を追加していく"
   ]
  },
  {
   "cell_type": "markdown",
   "metadata": {},
   "source": [
    "Juliaでは、**配列にpush!で値を追加できます**。確保している領域に空きがなくなると、新たに2倍の領域を確保して、元のデータがコピーされます。リスト（動的配列）のように使える、静的配列です。  \n",
    "[Julia - 配列の実装について](https://goropikari.hatenablog.com/entry/julia_array_implement)"
   ]
  },
  {
   "cell_type": "code",
   "execution_count": 8,
   "metadata": {},
   "outputs": [
    {
     "data": {
      "text/plain": [
       "0-element Array{Any,1}"
      ]
     },
     "execution_count": 8,
     "metadata": {},
     "output_type": "execute_result"
    }
   ],
   "source": [
    "x = []"
   ]
  },
  {
   "cell_type": "code",
   "execution_count": 9,
   "metadata": {},
   "outputs": [
    {
     "data": {
      "text/plain": [
       "5-element Array{Any,1}:\n",
       " -0.22036679853664262\n",
       " -1.511059908249156  \n",
       "  0.4442319736493192 \n",
       " -1.1933765979204016 \n",
       "  0.9399239400917808 "
      ]
     },
     "execution_count": 9,
     "metadata": {},
     "output_type": "execute_result"
    }
   ],
   "source": [
    "for i in 1:5\n",
    "    push!(x, randn())\n",
    "end\n",
    "x"
   ]
  },
  {
   "cell_type": "markdown",
   "metadata": {},
   "source": [
    "型を明示する場合"
   ]
  },
  {
   "cell_type": "code",
   "execution_count": 10,
   "metadata": {},
   "outputs": [
    {
     "data": {
      "text/plain": [
       "0-element Array{Float64,1}"
      ]
     },
     "execution_count": 10,
     "metadata": {},
     "output_type": "execute_result"
    }
   ],
   "source": [
    "x = Vector{Float64}(undef, 0)"
   ]
  },
  {
   "cell_type": "code",
   "execution_count": 11,
   "metadata": {},
   "outputs": [
    {
     "data": {
      "text/plain": [
       "5-element Array{Float64,1}:\n",
       "  0.46458154881316355  \n",
       "  0.0031487179222892997\n",
       "  2.130452673083196    \n",
       " -0.9061456943384958   \n",
       " -0.5780388009730484   "
      ]
     },
     "execution_count": 11,
     "metadata": {},
     "output_type": "execute_result"
    }
   ],
   "source": [
    "for i in 1:5\n",
    "    push!(x, randn())\n",
    "end\n",
    "x"
   ]
  },
  {
   "cell_type": "markdown",
   "metadata": {},
   "source": [
    "# 行列演算"
   ]
  },
  {
   "cell_type": "markdown",
   "metadata": {},
   "source": [
    "## 行列の演算子"
   ]
  },
  {
   "cell_type": "markdown",
   "metadata": {},
   "source": [
    "転置は'（プライム）"
   ]
  },
  {
   "cell_type": "code",
   "execution_count": 12,
   "metadata": {},
   "outputs": [
    {
     "data": {
      "text/plain": [
       "2×5 LinearAlgebra.Adjoint{Float64,Array{Float64,2}}:\n",
       " -0.204436  -0.537384  1.20334   0.26666   1.23356 \n",
       " -0.260027   1.26273   0.552061  1.63848  -0.208407"
      ]
     },
     "execution_count": 12,
     "metadata": {},
     "output_type": "execute_result"
    }
   ],
   "source": [
    "X = randn(5,2)\n",
    "X'"
   ]
  },
  {
   "cell_type": "markdown",
   "metadata": {},
   "source": [
    "逆行列はinv"
   ]
  },
  {
   "cell_type": "code",
   "execution_count": 13,
   "metadata": {},
   "outputs": [
    {
     "data": {
      "text/plain": [
       "5×5 Array{Float64,2}:\n",
       " -0.0940256   2.24851    6.15753  -2.27334   0.359252\n",
       "  0.378371    4.47374   11.0131   -4.959     1.47053 \n",
       " -1.01446    -4.8748   -13.4314    5.43545  -0.904381\n",
       " -0.14266     1.41633    2.60892  -0.95963   0.259997\n",
       " -0.0763376  -3.06532   -7.09023   3.31076  -0.2486  "
      ]
     },
     "execution_count": 13,
     "metadata": {},
     "output_type": "execute_result"
    }
   ],
   "source": [
    "X = randn(5,5)\n",
    "inv(X)"
   ]
  },
  {
   "cell_type": "markdown",
   "metadata": {},
   "source": [
    "行列式はLinearAlgebra.det"
   ]
  },
  {
   "cell_type": "code",
   "execution_count": 14,
   "metadata": {},
   "outputs": [
    {
     "data": {
      "text/plain": [
       "0.4992949697273127"
      ]
     },
     "execution_count": 14,
     "metadata": {},
     "output_type": "execute_result"
    }
   ],
   "source": [
    "using LinearAlgebra\n",
    "det(X)"
   ]
  },
  {
   "cell_type": "markdown",
   "metadata": {},
   "source": [
    "トレースはLinearAlgebra.tr"
   ]
  },
  {
   "cell_type": "code",
   "execution_count": 15,
   "metadata": {},
   "outputs": [
    {
     "data": {
      "text/plain": [
       "0.7004200372839675"
      ]
     },
     "execution_count": 15,
     "metadata": {},
     "output_type": "execute_result"
    }
   ],
   "source": [
    "tr(X)"
   ]
  },
  {
   "cell_type": "markdown",
   "metadata": {},
   "source": [
    "## 行列の積"
   ]
  },
  {
   "cell_type": "markdown",
   "metadata": {},
   "source": [
    "行列の積は*"
   ]
  },
  {
   "cell_type": "code",
   "execution_count": 16,
   "metadata": {},
   "outputs": [
    {
     "data": {
      "text/plain": [
       "3×3 Array{Float64,2}:\n",
       " -0.254795   2.54189    2.8573 \n",
       "  1.43373   -1.51562   -1.17948\n",
       " -0.982925   0.267613  -2.93276"
      ]
     },
     "execution_count": 16,
     "metadata": {},
     "output_type": "execute_result"
    }
   ],
   "source": [
    "X = randn(3,5)\n",
    "Y = randn(5,3)\n",
    "X * Y"
   ]
  },
  {
   "cell_type": "markdown",
   "metadata": {},
   "source": [
    "## 要素ごとの演算"
   ]
  },
  {
   "cell_type": "markdown",
   "metadata": {},
   "source": [
    "Juliaではドット演算子で要素ごとの演算をbroadcastして効率的に計算してくれる。"
   ]
  },
  {
   "cell_type": "code",
   "execution_count": 17,
   "metadata": {},
   "outputs": [
    {
     "data": {
      "text/plain": [
       "3×5 Array{Float64,2}:\n",
       " -0.380048  -0.0501754  -0.0128166  -2.93085   -0.0694181\n",
       " -0.290673  -0.0653387   0.531812   -1.09543   -0.232865 \n",
       "  0.579441  -0.324194   -0.812439    0.401573   0.023205 "
      ]
     },
     "execution_count": 17,
     "metadata": {},
     "output_type": "execute_result"
    }
   ],
   "source": [
    "X = randn(3,5)\n",
    "Y = randn(3,5)\n",
    "X .* Y"
   ]
  },
  {
   "cell_type": "markdown",
   "metadata": {},
   "source": [
    "各要素に関数を適用する場合にもドット演算子を用いることができる。"
   ]
  },
  {
   "cell_type": "code",
   "execution_count": 18,
   "metadata": {},
   "outputs": [
    {
     "data": {
      "text/plain": [
       "3×5 Array{Float64,2}:\n",
       " -0.762116  -0.0337225  0.149456  1.59756   -0.406967 \n",
       "  0.49032    0.137544   1.6224    3.34001    0.630183 \n",
       "  0.815295   0.337476   1.03157   0.575382  -0.0254899"
      ]
     },
     "execution_count": 18,
     "metadata": {},
     "output_type": "execute_result"
    }
   ],
   "source": [
    "X"
   ]
  },
  {
   "cell_type": "code",
   "execution_count": 19,
   "metadata": {},
   "outputs": [
    {
     "data": {
      "text/plain": [
       "3×5 Array{Float64,2}:\n",
       " 0.466678  0.96684  1.1612    4.94099  0.665666\n",
       " 1.63284   1.14745  5.06523  28.2194   1.87795 \n",
       " 2.25984   1.40141  2.80546   1.77781  0.974832"
      ]
     },
     "execution_count": 19,
     "metadata": {},
     "output_type": "execute_result"
    }
   ],
   "source": [
    "exp.(X)"
   ]
  },
  {
   "cell_type": "markdown",
   "metadata": {},
   "source": [
    "各要素を二乗する場合"
   ]
  },
  {
   "cell_type": "code",
   "execution_count": 20,
   "metadata": {},
   "outputs": [
    {
     "data": {
      "text/plain": [
       "3×5 Array{Float64,2}:\n",
       " 0.580821  0.00113721  0.0223372   2.55221   0.165622   \n",
       " 0.240414  0.0189184   2.63218    11.1557    0.39713    \n",
       " 0.664706  0.11389     1.06413     0.331065  0.000649734"
      ]
     },
     "execution_count": 20,
     "metadata": {},
     "output_type": "execute_result"
    }
   ],
   "source": [
    "X.^2"
   ]
  },
  {
   "cell_type": "markdown",
   "metadata": {},
   "source": [
    "1/2乗で元の行列の絶対値になることの確認"
   ]
  },
  {
   "cell_type": "code",
   "execution_count": 21,
   "metadata": {},
   "outputs": [
    {
     "data": {
      "text/plain": [
       "3×5 Array{Float64,2}:\n",
       " 0.762116  0.0337225  0.149456  1.59756   0.406967 \n",
       " 0.49032   0.137544   1.6224    3.34001   0.630183 \n",
       " 0.815295  0.337476   1.03157   0.575382  0.0254899"
      ]
     },
     "execution_count": 21,
     "metadata": {},
     "output_type": "execute_result"
    }
   ],
   "source": [
    "(X.^2).^(1/2)"
   ]
  },
  {
   "cell_type": "markdown",
   "metadata": {},
   "source": [
    "自作関数を適用する場合"
   ]
  },
  {
   "cell_type": "code",
   "execution_count": 22,
   "metadata": {},
   "outputs": [
    {
     "data": {
      "text/plain": [
       "f (generic function with 1 method)"
      ]
     },
     "execution_count": 22,
     "metadata": {},
     "output_type": "execute_result"
    }
   ],
   "source": [
    "f(x) = 1.0 + x + x^2/2 + x^3/factorial(3)"
   ]
  },
  {
   "cell_type": "code",
   "execution_count": 23,
   "metadata": {},
   "outputs": [
    {
     "data": {
      "text/plain": [
       "3×5 Array{Float64,2}:\n",
       " 0.454519  0.96684  1.16118   4.55323  0.664611\n",
       " 1.63017   1.14744  4.65023  16.1279   1.87046 \n",
       " 2.23797   1.40083  2.74659   1.77266  0.974832"
      ]
     },
     "execution_count": 23,
     "metadata": {},
     "output_type": "execute_result"
    }
   ],
   "source": [
    "f.(X)"
   ]
  },
  {
   "cell_type": "markdown",
   "metadata": {},
   "source": [
    "# DataFrame"
   ]
  },
  {
   "cell_type": "code",
   "execution_count": 24,
   "metadata": {},
   "outputs": [],
   "source": [
    "using DataFrames"
   ]
  },
  {
   "cell_type": "markdown",
   "metadata": {},
   "source": [
    "空のDataFrameを定義して、カラムを追加していく"
   ]
  },
  {
   "cell_type": "code",
   "execution_count": 25,
   "metadata": {},
   "outputs": [
    {
     "data": {
      "text/html": [
       "<table class=\"data-frame\"><thead><tr><th></th></tr><tr><th></th></tr></thead><tbody><p>0 rows × 0 columns</p></tbody></table>"
      ],
      "text/latex": [
       "\\begin{tabular}{r|}\n",
       "\t& \\\\\n",
       "\t\\hline\n",
       "\t& \\\\\n",
       "\t\\hline\n",
       "\\end{tabular}\n"
      ],
      "text/plain": [
       "0×0 DataFrame\n"
      ]
     },
     "execution_count": 25,
     "metadata": {},
     "output_type": "execute_result"
    }
   ],
   "source": [
    "df = DataFrame()"
   ]
  },
  {
   "cell_type": "code",
   "execution_count": 26,
   "metadata": {},
   "outputs": [
    {
     "data": {
      "text/plain": [
       "5-element Array{Float64,1}:\n",
       " 0.24875130151997293\n",
       " 0.15918422190224257\n",
       " 0.8867736270043787 \n",
       " 0.2503437842375602 \n",
       " 0.09972488831760029"
      ]
     },
     "execution_count": 26,
     "metadata": {},
     "output_type": "execute_result"
    }
   ],
   "source": [
    "df.A = [\"abc\", \"def\", \"ghi\", \"jkl\", \"mno\"]\n",
    "df.B = [2,1,1,2,2]\n",
    "df.C = [5.5, 6.6, 7.7, 8.8, 9.9]\n",
    "df.D = rand(5)"
   ]
  },
  {
   "cell_type": "markdown",
   "metadata": {},
   "source": [
    "first(df, 行数)"
   ]
  },
  {
   "cell_type": "code",
   "execution_count": 27,
   "metadata": {},
   "outputs": [
    {
     "data": {
      "text/html": [
       "<table class=\"data-frame\"><thead><tr><th></th><th>A</th><th>B</th><th>C</th><th>D</th></tr><tr><th></th><th>String</th><th>Int64</th><th>Float64</th><th>Float64</th></tr></thead><tbody><p>3 rows × 4 columns</p><tr><th>1</th><td>abc</td><td>2</td><td>5.5</td><td>0.248751</td></tr><tr><th>2</th><td>def</td><td>1</td><td>6.6</td><td>0.159184</td></tr><tr><th>3</th><td>ghi</td><td>1</td><td>7.7</td><td>0.886774</td></tr></tbody></table>"
      ],
      "text/latex": [
       "\\begin{tabular}{r|cccc}\n",
       "\t& A & B & C & D\\\\\n",
       "\t\\hline\n",
       "\t& String & Int64 & Float64 & Float64\\\\\n",
       "\t\\hline\n",
       "\t1 & abc & 2 & 5.5 & 0.248751 \\\\\n",
       "\t2 & def & 1 & 6.6 & 0.159184 \\\\\n",
       "\t3 & ghi & 1 & 7.7 & 0.886774 \\\\\n",
       "\\end{tabular}\n"
      ],
      "text/plain": [
       "3×4 DataFrame\n",
       "│ Row │ A      │ B     │ C       │ D        │\n",
       "│     │ \u001b[90mString\u001b[39m │ \u001b[90mInt64\u001b[39m │ \u001b[90mFloat64\u001b[39m │ \u001b[90mFloat64\u001b[39m  │\n",
       "├─────┼────────┼───────┼─────────┼──────────┤\n",
       "│ 1   │ abc    │ 2     │ 5.5     │ 0.248751 │\n",
       "│ 2   │ def    │ 1     │ 6.6     │ 0.159184 │\n",
       "│ 3   │ ghi    │ 1     │ 7.7     │ 0.886774 │"
      ]
     },
     "execution_count": 27,
     "metadata": {},
     "output_type": "execute_result"
    }
   ],
   "source": [
    "first(df, 3)"
   ]
  },
  {
   "cell_type": "markdown",
   "metadata": {},
   "source": [
    "summary(df)、describe(df)"
   ]
  },
  {
   "cell_type": "code",
   "execution_count": 28,
   "metadata": {},
   "outputs": [
    {
     "data": {
      "text/plain": [
       "\"5×4 DataFrame\""
      ]
     },
     "execution_count": 28,
     "metadata": {},
     "output_type": "execute_result"
    }
   ],
   "source": [
    "summary(df)"
   ]
  },
  {
   "cell_type": "code",
   "execution_count": 29,
   "metadata": {},
   "outputs": [
    {
     "data": {
      "text/html": [
       "<table class=\"data-frame\"><thead><tr><th></th><th>variable</th><th>mean</th><th>min</th><th>median</th><th>max</th><th>nunique</th><th>nmissing</th><th>eltype</th></tr><tr><th></th><th>Symbol</th><th>Union…</th><th>Any</th><th>Union…</th><th>Any</th><th>Union…</th><th>Nothing</th><th>DataType</th></tr></thead><tbody><p>4 rows × 8 columns</p><tr><th>1</th><td>A</td><td></td><td>abc</td><td></td><td>mno</td><td>5</td><td></td><td>String</td></tr><tr><th>2</th><td>B</td><td>1.6</td><td>1</td><td>2.0</td><td>2</td><td></td><td></td><td>Int64</td></tr><tr><th>3</th><td>C</td><td>7.7</td><td>5.5</td><td>7.7</td><td>9.9</td><td></td><td></td><td>Float64</td></tr><tr><th>4</th><td>D</td><td>0.328956</td><td>0.0997249</td><td>0.248751</td><td>0.886774</td><td></td><td></td><td>Float64</td></tr></tbody></table>"
      ],
      "text/latex": [
       "\\begin{tabular}{r|cccccccc}\n",
       "\t& variable & mean & min & median & max & nunique & nmissing & eltype\\\\\n",
       "\t\\hline\n",
       "\t& Symbol & Union… & Any & Union… & Any & Union… & Nothing & DataType\\\\\n",
       "\t\\hline\n",
       "\t1 & A &  & abc &  & mno & 5 &  & String \\\\\n",
       "\t2 & B & 1.6 & 1 & 2.0 & 2 &  &  & Int64 \\\\\n",
       "\t3 & C & 7.7 & 5.5 & 7.7 & 9.9 &  &  & Float64 \\\\\n",
       "\t4 & D & 0.328956 & 0.0997249 & 0.248751 & 0.886774 &  &  & Float64 \\\\\n",
       "\\end{tabular}\n"
      ],
      "text/plain": [
       "4×8 DataFrame. Omitted printing of 2 columns\n",
       "│ Row │ variable │ mean     │ min       │ median   │ max      │ nunique │\n",
       "│     │ \u001b[90mSymbol\u001b[39m   │ \u001b[90mUnion…\u001b[39m   │ \u001b[90mAny\u001b[39m       │ \u001b[90mUnion…\u001b[39m   │ \u001b[90mAny\u001b[39m      │ \u001b[90mUnion…\u001b[39m  │\n",
       "├─────┼──────────┼──────────┼───────────┼──────────┼──────────┼─────────┤\n",
       "│ 1   │ A        │          │ abc       │          │ mno      │ 5       │\n",
       "│ 2   │ B        │ 1.6      │ 1         │ 2.0      │ 2        │         │\n",
       "│ 3   │ C        │ 7.7      │ 5.5       │ 7.7      │ 9.9      │         │\n",
       "│ 4   │ D        │ 0.328956 │ 0.0997249 │ 0.248751 │ 0.886774 │         │"
      ]
     },
     "execution_count": 29,
     "metadata": {},
     "output_type": "execute_result"
    }
   ],
   "source": [
    "describe(df)"
   ]
  },
  {
   "cell_type": "markdown",
   "metadata": {},
   "source": [
    "カラムを取り出すには df.カラム名  \n",
    "**JuliaのDataFrameは特別な型ではなく、各カラムはArrayで格納されている。**"
   ]
  },
  {
   "cell_type": "code",
   "execution_count": 30,
   "metadata": {},
   "outputs": [
    {
     "data": {
      "text/plain": [
       "5-element Array{Float64,1}:\n",
       " 0.24875130151997293\n",
       " 0.15918422190224257\n",
       " 0.8867736270043787 \n",
       " 0.2503437842375602 \n",
       " 0.09972488831760029"
      ]
     },
     "execution_count": 30,
     "metadata": {},
     "output_type": "execute_result"
    }
   ],
   "source": [
    "df.D"
   ]
  },
  {
   "cell_type": "markdown",
   "metadata": {},
   "source": [
    "演算結果を新たにカラムに追加する場合"
   ]
  },
  {
   "cell_type": "code",
   "execution_count": 31,
   "metadata": {},
   "outputs": [
    {
     "data": {
      "text/plain": [
       "5-element Array{Float64,1}:\n",
       " 1.3681321583598511\n",
       " 1.050615864554801 \n",
       " 6.8281569279337155\n",
       " 2.20302530129053  \n",
       " 0.987276394344243 "
      ]
     },
     "execution_count": 31,
     "metadata": {},
     "output_type": "execute_result"
    }
   ],
   "source": [
    "df.E = @. df.C * df.D"
   ]
  },
  {
   "cell_type": "markdown",
   "metadata": {},
   "source": [
    "@.は以降の演算全てにドット演算子を適用するオペレータ"
   ]
  },
  {
   "cell_type": "markdown",
   "metadata": {},
   "source": [
    "## ソート"
   ]
  },
  {
   "cell_type": "code",
   "execution_count": 32,
   "metadata": {},
   "outputs": [
    {
     "data": {
      "text/html": [
       "<table class=\"data-frame\"><thead><tr><th></th><th>A</th><th>B</th><th>C</th><th>D</th><th>E</th></tr><tr><th></th><th>String</th><th>Int64</th><th>Float64</th><th>Float64</th><th>Float64</th></tr></thead><tbody><p>5 rows × 5 columns</p><tr><th>1</th><td>def</td><td>1</td><td>6.6</td><td>0.159184</td><td>1.05062</td></tr><tr><th>2</th><td>ghi</td><td>1</td><td>7.7</td><td>0.886774</td><td>6.82816</td></tr><tr><th>3</th><td>abc</td><td>2</td><td>5.5</td><td>0.248751</td><td>1.36813</td></tr><tr><th>4</th><td>jkl</td><td>2</td><td>8.8</td><td>0.250344</td><td>2.20303</td></tr><tr><th>5</th><td>mno</td><td>2</td><td>9.9</td><td>0.0997249</td><td>0.987276</td></tr></tbody></table>"
      ],
      "text/latex": [
       "\\begin{tabular}{r|ccccc}\n",
       "\t& A & B & C & D & E\\\\\n",
       "\t\\hline\n",
       "\t& String & Int64 & Float64 & Float64 & Float64\\\\\n",
       "\t\\hline\n",
       "\t1 & def & 1 & 6.6 & 0.159184 & 1.05062 \\\\\n",
       "\t2 & ghi & 1 & 7.7 & 0.886774 & 6.82816 \\\\\n",
       "\t3 & abc & 2 & 5.5 & 0.248751 & 1.36813 \\\\\n",
       "\t4 & jkl & 2 & 8.8 & 0.250344 & 2.20303 \\\\\n",
       "\t5 & mno & 2 & 9.9 & 0.0997249 & 0.987276 \\\\\n",
       "\\end{tabular}\n"
      ],
      "text/plain": [
       "5×5 DataFrame\n",
       "│ Row │ A      │ B     │ C       │ D         │ E        │\n",
       "│     │ \u001b[90mString\u001b[39m │ \u001b[90mInt64\u001b[39m │ \u001b[90mFloat64\u001b[39m │ \u001b[90mFloat64\u001b[39m   │ \u001b[90mFloat64\u001b[39m  │\n",
       "├─────┼────────┼───────┼─────────┼───────────┼──────────┤\n",
       "│ 1   │ def    │ 1     │ 6.6     │ 0.159184  │ 1.05062  │\n",
       "│ 2   │ ghi    │ 1     │ 7.7     │ 0.886774  │ 6.82816  │\n",
       "│ 3   │ abc    │ 2     │ 5.5     │ 0.248751  │ 1.36813  │\n",
       "│ 4   │ jkl    │ 2     │ 8.8     │ 0.250344  │ 2.20303  │\n",
       "│ 5   │ mno    │ 2     │ 9.9     │ 0.0997249 │ 0.987276 │"
      ]
     },
     "execution_count": 32,
     "metadata": {},
     "output_type": "execute_result"
    }
   ],
   "source": [
    "sort!(df, [:B, :A])"
   ]
  },
  {
   "cell_type": "markdown",
   "metadata": {},
   "source": [
    "## DataFrameのCSVへの書き出し、読み出し"
   ]
  },
  {
   "cell_type": "code",
   "execution_count": 33,
   "metadata": {},
   "outputs": [],
   "source": [
    "using CSV"
   ]
  },
  {
   "cell_type": "code",
   "execution_count": 34,
   "metadata": {},
   "outputs": [
    {
     "data": {
      "text/plain": [
       "\"test.csv\""
      ]
     },
     "execution_count": 34,
     "metadata": {},
     "output_type": "execute_result"
    }
   ],
   "source": [
    "df |> CSV.write(\"test.csv\", delim=',', writeheader=true)"
   ]
  },
  {
   "cell_type": "code",
   "execution_count": 35,
   "metadata": {},
   "outputs": [
    {
     "data": {
      "text/html": [
       "<table class=\"data-frame\"><thead><tr><th></th><th>A</th><th>B</th><th>C</th><th>D</th><th>E</th></tr><tr><th></th><th>String</th><th>Int64</th><th>Float64</th><th>Float64</th><th>Float64</th></tr></thead><tbody><p>5 rows × 5 columns</p><tr><th>1</th><td>def</td><td>1</td><td>6.6</td><td>0.159184</td><td>1.05062</td></tr><tr><th>2</th><td>ghi</td><td>1</td><td>7.7</td><td>0.886774</td><td>6.82816</td></tr><tr><th>3</th><td>abc</td><td>2</td><td>5.5</td><td>0.248751</td><td>1.36813</td></tr><tr><th>4</th><td>jkl</td><td>2</td><td>8.8</td><td>0.250344</td><td>2.20303</td></tr><tr><th>5</th><td>mno</td><td>2</td><td>9.9</td><td>0.0997249</td><td>0.987276</td></tr></tbody></table>"
      ],
      "text/latex": [
       "\\begin{tabular}{r|ccccc}\n",
       "\t& A & B & C & D & E\\\\\n",
       "\t\\hline\n",
       "\t& String & Int64 & Float64 & Float64 & Float64\\\\\n",
       "\t\\hline\n",
       "\t1 & def & 1 & 6.6 & 0.159184 & 1.05062 \\\\\n",
       "\t2 & ghi & 1 & 7.7 & 0.886774 & 6.82816 \\\\\n",
       "\t3 & abc & 2 & 5.5 & 0.248751 & 1.36813 \\\\\n",
       "\t4 & jkl & 2 & 8.8 & 0.250344 & 2.20303 \\\\\n",
       "\t5 & mno & 2 & 9.9 & 0.0997249 & 0.987276 \\\\\n",
       "\\end{tabular}\n"
      ],
      "text/plain": [
       "5×5 DataFrame\n",
       "│ Row │ A      │ B     │ C       │ D         │ E        │\n",
       "│     │ \u001b[90mString\u001b[39m │ \u001b[90mInt64\u001b[39m │ \u001b[90mFloat64\u001b[39m │ \u001b[90mFloat64\u001b[39m   │ \u001b[90mFloat64\u001b[39m  │\n",
       "├─────┼────────┼───────┼─────────┼───────────┼──────────┤\n",
       "│ 1   │ def    │ 1     │ 6.6     │ 0.159184  │ 1.05062  │\n",
       "│ 2   │ ghi    │ 1     │ 7.7     │ 0.886774  │ 6.82816  │\n",
       "│ 3   │ abc    │ 2     │ 5.5     │ 0.248751  │ 1.36813  │\n",
       "│ 4   │ jkl    │ 2     │ 8.8     │ 0.250344  │ 2.20303  │\n",
       "│ 5   │ mno    │ 2     │ 9.9     │ 0.0997249 │ 0.987276 │"
      ]
     },
     "execution_count": 35,
     "metadata": {},
     "output_type": "execute_result"
    }
   ],
   "source": [
    "df2 = CSV.read(\"test.csv\")"
   ]
  },
  {
   "cell_type": "markdown",
   "metadata": {},
   "source": [
    "## DataFrameに対するQuery処理"
   ]
  },
  {
   "cell_type": "code",
   "execution_count": 36,
   "metadata": {},
   "outputs": [],
   "source": [
    "using DataFramesMeta"
   ]
  },
  {
   "cell_type": "code",
   "execution_count": 39,
   "metadata": {},
   "outputs": [
    {
     "data": {
      "text/html": [
       "<table class=\"data-frame\"><thead><tr><th></th><th>B</th><th>maxD</th><th>sumE</th><th>F</th></tr><tr><th></th><th>Int64</th><th>Float64</th><th>Float64</th><th>Float64</th></tr></thead><tbody><p>2 rows × 4 columns</p><tr><th>1</th><td>1</td><td>0.886774</td><td>7.87877</td><td>8.76555</td></tr><tr><th>2</th><td>2</td><td>0.250344</td><td>4.55843</td><td>4.80878</td></tr></tbody></table>"
      ],
      "text/latex": [
       "\\begin{tabular}{r|cccc}\n",
       "\t& B & maxD & sumE & F\\\\\n",
       "\t\\hline\n",
       "\t& Int64 & Float64 & Float64 & Float64\\\\\n",
       "\t\\hline\n",
       "\t1 & 1 & 0.886774 & 7.87877 & 8.76555 \\\\\n",
       "\t2 & 2 & 0.250344 & 4.55843 & 4.80878 \\\\\n",
       "\\end{tabular}\n"
      ],
      "text/plain": [
       "2×4 DataFrame\n",
       "│ Row │ B     │ maxD     │ sumE    │ F       │\n",
       "│     │ \u001b[90mInt64\u001b[39m │ \u001b[90mFloat64\u001b[39m  │ \u001b[90mFloat64\u001b[39m │ \u001b[90mFloat64\u001b[39m │\n",
       "├─────┼───────┼──────────┼─────────┼─────────┤\n",
       "│ 1   │ 1     │ 0.886774 │ 7.87877 │ 8.76555 │\n",
       "│ 2   │ 2     │ 0.250344 │ 4.55843 │ 4.80878 │"
      ]
     },
     "execution_count": 39,
     "metadata": {},
     "output_type": "execute_result"
    }
   ],
   "source": [
    "res = @linq df |>\n",
    "    by([:B], maxD=maximum(:D), sumE=sum(:E)) |>  #GROUP BYで集計\n",
    "    transform(F = :maxD + :sumE) |> #演算結果で新たなカラムを作る\n",
    "    select(:B, :maxD, :sumE, :F) |>\n",
    "    orderby(:B)"
   ]
  },
  {
   "cell_type": "markdown",
   "metadata": {},
   "source": [
    "# SQL"
   ]
  },
  {
   "cell_type": "code",
   "execution_count": 40,
   "metadata": {},
   "outputs": [],
   "source": [
    "using SQLite"
   ]
  },
  {
   "cell_type": "code",
   "execution_count": 41,
   "metadata": {},
   "outputs": [
    {
     "data": {
      "text/plain": [
       "SQLite.DB(\"test.db\")"
      ]
     },
     "execution_count": 41,
     "metadata": {},
     "output_type": "execute_result"
    }
   ],
   "source": [
    "db = SQLite.DB(\"test.db\")"
   ]
  },
  {
   "cell_type": "code",
   "execution_count": 42,
   "metadata": {},
   "outputs": [
    {
     "data": {
      "text/plain": [
       "(name = [\"test\"],)"
      ]
     },
     "execution_count": 42,
     "metadata": {},
     "output_type": "execute_result"
    }
   ],
   "source": [
    "SQLite.tables(db)"
   ]
  },
  {
   "cell_type": "code",
   "execution_count": 45,
   "metadata": {},
   "outputs": [
    {
     "data": {
      "text/plain": [
       "SQLite.Query(SQLite.Stmt(SQLite.DB(\"test.db\"), Ptr{Nothing} @0x0000000033e2c828, Dict{Int64,Any}(), 101), Base.RefValue{Int32}(101), Symbol[], Type[], Dict{Symbol,Int64}())"
      ]
     },
     "execution_count": 45,
     "metadata": {},
     "output_type": "execute_result"
    }
   ],
   "source": [
    "DBInterface.execute(db, \"\n",
    "    DROP TABLE IF EXISTS\n",
    "        test\n",
    "\")"
   ]
  },
  {
   "cell_type": "markdown",
   "metadata": {},
   "source": [
    "createtable!などの個別メソッドも用意されているものの、DBInterface.execute(db, query)でクエリを直接書いた方がわかりやすい気がする。"
   ]
  },
  {
   "cell_type": "code",
   "execution_count": 46,
   "metadata": {},
   "outputs": [
    {
     "data": {
      "text/plain": [
       "SQLite.Query(SQLite.Stmt(SQLite.DB(\"test.db\"), Ptr{Nothing} @0x0000000014c21ab8, Dict{Int64,Any}(), 101), Base.RefValue{Int32}(101), Symbol[], Type[], Dict{Symbol,Int64}())"
      ]
     },
     "execution_count": 46,
     "metadata": {},
     "output_type": "execute_result"
    }
   ],
   "source": [
    "DBInterface.execute(db, \"\n",
    "    CREATE TABLE IF NOT EXISTS\n",
    "        test(\n",
    "            id INTEGER PRIMARY KEY,\n",
    "            name TEXT NOT NULL,\n",
    "            age INTEGER NOT NULL\n",
    "        )\n",
    "\")"
   ]
  },
  {
   "cell_type": "code",
   "execution_count": 47,
   "metadata": {},
   "outputs": [
    {
     "data": {
      "text/plain": [
       "SQLite.Query(SQLite.Stmt(SQLite.DB(\"test.db\"), Ptr{Nothing} @0x0000000033e2a758, Dict{Int64,Any}(), 101), Base.RefValue{Int32}(101), Symbol[], Type[], Dict{Symbol,Int64}())"
      ]
     },
     "execution_count": 47,
     "metadata": {},
     "output_type": "execute_result"
    }
   ],
   "source": [
    "DBInterface.execute(db, \"\n",
    "    INSERT INTO test\n",
    "        VALUES(\n",
    "            1,\n",
    "            'Yamada',\n",
    "            39\n",
    "        )\n",
    "\")"
   ]
  },
  {
   "cell_type": "code",
   "execution_count": 48,
   "metadata": {},
   "outputs": [
    {
     "data": {
      "text/plain": [
       "SQLite.Query(SQLite.Stmt(SQLite.DB(\"test.db\"), Ptr{Nothing} @0x0000000033e2a2a8, Dict{Int64,Any}(), 101), Base.RefValue{Int32}(101), Symbol[], Type[], Dict{Symbol,Int64}())"
      ]
     },
     "execution_count": 48,
     "metadata": {},
     "output_type": "execute_result"
    }
   ],
   "source": [
    "DBInterface.execute(db, \"\n",
    "    INSERT INTO test\n",
    "        VALUES(\n",
    "            2,\n",
    "            'Suzuki',\n",
    "            26\n",
    "        )\n",
    "\")"
   ]
  },
  {
   "cell_type": "code",
   "execution_count": 49,
   "metadata": {},
   "outputs": [
    {
     "data": {
      "text/plain": [
       "SQLite.Query(SQLite.Stmt(SQLite.DB(\"test.db\"), Ptr{Nothing} @0x0000000033e29df8, Dict{Int64,Any}(), 101), Base.RefValue{Int32}(101), Symbol[], Type[], Dict{Symbol,Int64}())"
      ]
     },
     "execution_count": 49,
     "metadata": {},
     "output_type": "execute_result"
    }
   ],
   "source": [
    "DBInterface.execute(db, \"\n",
    "    INSERT INTO test\n",
    "        VALUES(\n",
    "            3,\n",
    "            'Tanaka',\n",
    "            43\n",
    "        )\n",
    "\")"
   ]
  },
  {
   "cell_type": "markdown",
   "metadata": {},
   "source": [
    "SELECTの結果をDataFrameで受け取る"
   ]
  },
  {
   "cell_type": "code",
   "execution_count": 50,
   "metadata": {},
   "outputs": [
    {
     "data": {
      "text/html": [
       "<table class=\"data-frame\"><thead><tr><th></th><th>id</th><th>name</th><th>age</th></tr><tr><th></th><th>Int64</th><th>String</th><th>Int64</th></tr></thead><tbody><p>3 rows × 3 columns</p><tr><th>1</th><td>1</td><td>Yamada</td><td>39</td></tr><tr><th>2</th><td>2</td><td>Suzuki</td><td>26</td></tr><tr><th>3</th><td>3</td><td>Tanaka</td><td>43</td></tr></tbody></table>"
      ],
      "text/latex": [
       "\\begin{tabular}{r|ccc}\n",
       "\t& id & name & age\\\\\n",
       "\t\\hline\n",
       "\t& Int64 & String & Int64\\\\\n",
       "\t\\hline\n",
       "\t1 & 1 & Yamada & 39 \\\\\n",
       "\t2 & 2 & Suzuki & 26 \\\\\n",
       "\t3 & 3 & Tanaka & 43 \\\\\n",
       "\\end{tabular}\n"
      ],
      "text/plain": [
       "3×3 DataFrame\n",
       "│ Row │ id    │ name   │ age   │\n",
       "│     │ \u001b[90mInt64\u001b[39m │ \u001b[90mString\u001b[39m │ \u001b[90mInt64\u001b[39m │\n",
       "├─────┼───────┼────────┼───────┤\n",
       "│ 1   │ 1     │ Yamada │ 39    │\n",
       "│ 2   │ 2     │ Suzuki │ 26    │\n",
       "│ 3   │ 3     │ Tanaka │ 43    │"
      ]
     },
     "execution_count": 50,
     "metadata": {},
     "output_type": "execute_result"
    }
   ],
   "source": [
    "res = DBInterface.execute(db, \"\n",
    "    SELECT\n",
    "        *\n",
    "    FROM\n",
    "        test\n",
    "\") |> DataFrame"
   ]
  }
 ],
 "metadata": {
  "kernelspec": {
   "display_name": "Julia 1.3.1",
   "language": "julia",
   "name": "julia-1.3"
  },
  "language_info": {
   "file_extension": ".jl",
   "mimetype": "application/julia",
   "name": "julia",
   "version": "1.3.1"
  }
 },
 "nbformat": 4,
 "nbformat_minor": 4
}
